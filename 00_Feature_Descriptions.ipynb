{
 "cells": [
  {
   "cell_type": "markdown",
   "metadata": {},
   "source": [
    "## **Categories of variables**\n",
    "\n",
    "- **Target** (income response variable)\n",
    "- Identifiers\n",
    "- Family\n",
    "- Age\n",
    "- Sex\n",
    "- Education\n",
    "- Marriage Status\n",
    "- Disability\n",
    "- Region\n",
    "- Property Information (rent/rooms/size/occupants/own-or-rent)\n",
    "- Appliances/Utilites\n",
    "- Electronics\n",
    "- Property Build\n",
    "- Intersection Groups\n",
    "- Squares"
   ]
  },
  {
   "cell_type": "markdown",
   "metadata": {},
   "source": [
    "### Identifiers\n",
    "\n",
    "Variable | Desc.\n",
    "--- | ---\n",
    "Id | Unique identifier for each row\n",
    "idhogar | Unique identifier for each household\n",
    "parentesco1 | Indicates if this person is the head of the household"
   ]
  },
  {
   "cell_type": "markdown",
   "metadata": {},
   "source": [
    "### Family\n",
    "\n",
    "Variable | Desc.\n",
    "--- | ---\n",
    "parentesco1 | =1 if household head\n",
    "parentesco2 | =1 if spouse/partner\n",
    "parentesco3 | =1 if son/doughter\n",
    "parentesco4 | =1 if stepson/doughter\n",
    "parentesco5 | =1 if son/doughter in law\n",
    "parentesco6 | =1 if grandson/doughter\n",
    "parentesco7 | =1 if mother/father\n",
    "parentesco8 | =1 if father/mother in law\n",
    "parentesco9 | =1 if brother/sister\n",
    "parentesco10 | =1 if brother/sister in law\n",
    "parentesco11 | =1 if other family member\n",
    "parentesco12 | =1 if other non family member"
   ]
  },
  {
   "cell_type": "markdown",
   "metadata": {},
   "source": [
    "### Age\n",
    "\n",
    "Variable | Desc.\n",
    "--- | ---\n",
    "estadocivil1 | =1 if less than 10 years old\n",
    "age | Age in years"
   ]
  },
  {
   "cell_type": "markdown",
   "metadata": {},
   "source": [
    "### Sex\n",
    "\n",
    "Variable | Desc.\n",
    "--- | ---\n",
    "male | =1 if male\n",
    "female | =1 if female"
   ]
  },
  {
   "cell_type": "markdown",
   "metadata": {},
   "source": [
    "### Education\n",
    "\n",
    "Variable | Desc.\n",
    "--- | ---\n",
    "escolari | years of schooling\n",
    "rez_esc | Years behind in school\n",
    "instlevel1 | =1 no level of education\n",
    "instlevel2 | =1 incomplete primary\n",
    "instlevel3 | =1 complete primary\n",
    "instlevel4 | =1 incomplete academic secondary level\n",
    "instlevel5 | =1 complete academic secondary level\n",
    "instlevel6 | =1 incomplete technical secondary level\n",
    "instlevel7 | =1 complete technical secondary level\n",
    "instlevel8 | =1 undergraduate and higher education\n",
    "instlevel9 | =1 postgraduate higher education"
   ]
  },
  {
   "cell_type": "markdown",
   "metadata": {},
   "source": [
    "### Marriage Status\n",
    "\n",
    "Variable | Desc.\n",
    "--- | ---\n",
    "estadocivil2 | =1 if free or coupled uunion\n",
    "estadocivil3 | =1 if married\n",
    "estadocivil4 | =1 if divorced\n",
    "estadocivil5 | =1 if separated\n",
    "estadocivil6 | =1 if widow/er\n",
    "estadocivil7 | =1 if single"
   ]
  },
  {
   "cell_type": "markdown",
   "metadata": {},
   "source": [
    "### Disability\n",
    "\n",
    "Variable | Desc.\n",
    "--- | ---\n",
    "dis | =1 if disable person"
   ]
  },
  {
   "cell_type": "markdown",
   "metadata": {},
   "source": [
    "### Region\n",
    "\n",
    "Variable | Desc.\n",
    "--- | ---\n",
    "lugar1 | =1 region Central\n",
    "lugar2 | =1 region Chorotega\n",
    "lugar3 | =1 region PacÃƒÂ­fico central\n",
    "lugar4 | =1 region Brunca\n",
    "lugar5 | =1 region Huetar AtlÃƒÂ¡ntica\n",
    "lugar6 | =1 region Huetar Norte\n",
    "area1 | =1 zona urbana\n",
    "area2 | =2 zona rural"
   ]
  },
  {
   "cell_type": "markdown",
   "metadata": {},
   "source": [
    "### Property Information\n",
    "#### Pertaining to Rent / Rooms / Size / Occupants / Crowding / Own-or-Rent)\n",
    "\n",
    "Variable | Desc.\n",
    "--- | ---\n",
    "v2a1 | Monthly rent payment\n",
    "hacdor | =1 Overcrowding by bedrooms\n",
    "rooms |  number of all rooms in the house\n",
    "hacapo | =1 Overcrowding by rooms\n",
    "v14a | =1 has bathroom in the household\n",
    "r4t3 | Total persons in the household\n",
    "tamhog | size of the household\n",
    "tamviv | number of persons living in the household\n",
    "hhsize | household size\n",
    "hogar_nin | Number of children 0 to 19 in household\n",
    "hogar_adul | Number of adults in household\n",
    "hogar_mayor | # of individuals 65+ in the household\n",
    "hogar_total | # of total individuals in the household\n",
    "dependency | Dependency rate (# young and old / working age)\n",
    "bedrooms | number of bedrooms\n",
    "overcrowding | # persons per room\n",
    "tipovivi1 | =1 own and fully paid house\n",
    "tipovivi2 | =1 own,  paying in installments\n",
    "tipovivi3 | =1 rented\n",
    "tipovivi4 | =1 precarious\n",
    "tipovivi5 | =1 other(assigned,  borrowed)"
   ]
  },
  {
   "cell_type": "markdown",
   "metadata": {},
   "source": [
    "### Appliances/Utilites\n",
    "\n",
    "Variable | Desc.\n",
    "--- | ---\n",
    "abastaguadentro | =1 if water provision inside the dwelling\n",
    "abastaguafuera | =1 if water provision outside the dwelling\n",
    "abastaguano | =1 if no water provision\n",
    "public | \"=1 electricity from CNFL,  ICE,  ESPH/JASEC\"\n",
    "planpri | =1 electricity from private plant\n",
    "noelec | =1 no electricity in the dwelling\n",
    "coopele | =1 electricity from cooperative\n",
    "sanitario1 | =1 no toilet in the dwelling\n",
    "sanitario2 | =1 toilet connected to sewer or cesspool\n",
    "sanitario3 | =1 toilet connected to  septic tank\n",
    "sanitario5 | =1 toilet connected to black hole or letrine\n",
    "sanitario6 | =1 toilet connected to other system\n",
    "energcocinar1 | =1 no main source of energy used for cooking (no kitchen)\n",
    "energcocinar2 | =1 main source of energy used for cooking electricity\n",
    "energcocinar3 | =1 main source of energy used for cooking gas\n",
    "energcocinar4 | =1 main source of energy used for cooking wood charcoal\n",
    "elimbasu1 | =1 if rubbish disposal mainly by tanker truck\n",
    "elimbasu2 | =1 if rubbish disposal mainly by botan hollow or buried\n",
    "elimbasu3 | =1 if rubbish disposal mainly by burning\n",
    "elimbasu4 | =1 if rubbish disposal mainly by throwing in an unoccupied space\n",
    "elimbasu5 | \"=1 if rubbish disposal mainly by throwing in river,  creek or sea\"\n",
    "elimbasu6 | =1 if rubbish disposal mainly other\n",
    "refrig | =1 if the household has refrigerator"
   ]
  },
  {
   "cell_type": "markdown",
   "metadata": {},
   "source": [
    "### Electronics\n",
    "\n",
    "Variable | Desc.\n",
    "--- | ---\n",
    "v18q | owns a tablet\n",
    "v18q1 | number of tablets household owns\n",
    "computer | =1 if the household has notebook or desktop computer\n",
    "television | =1 if the household has TV\n",
    "mobilephone | =1 if mobile phone\n",
    "qmobilephone | # of mobile phones"
   ]
  },
  {
   "cell_type": "markdown",
   "metadata": {},
   "source": [
    "### Property Build\n",
    "\n",
    "Variable | Desc.\n",
    "--- | ---\n",
    "paredblolad | =1 if predominant material on the outside wall is block or brick\n",
    "paredzocalo | \"=1 if predominant material on the outside wall is socket (wood,  zinc or absbesto\"\n",
    "paredpreb | =1 if predominant material on the outside wall is prefabricated or cement\n",
    "pareddes | =1 if predominant material on the outside wall is waste material\n",
    "paredmad | =1 if predominant material on the outside wall is wood\n",
    "paredzinc | =1 if predominant material on the outside wall is zink\n",
    "paredfibras | =1 if predominant material on the outside wall is natural fibers\n",
    "paredother | =1 if predominant material on the outside wall is other\n",
    "pisomoscer | \"=1 if predominant material on the floor is mosaic,  ceramic,  terrazo\"\n",
    "pisocemento | =1 if predominant material on the floor is cement\n",
    "pisoother | =1 if predominant material on the floor is other\n",
    "pisonatur | =1 if predominant material on the floor is  natural material\n",
    "pisonotiene | =1 if no floor at the household\n",
    "pisomadera | =1 if predominant material on the floor is wood\n",
    "techozinc | =1 if predominant material on the roof is metal foil or zink\n",
    "techoentrepiso | \"=1 if predominant material on the roof is fiber cement,  mezzanine \"\n",
    "techocane | =1 if predominant material on the roof is natural fibers\n",
    "techootro | =1 if predominant material on the roof is other\n",
    "cielorazo | =1 if the house has ceiling\n",
    "epared1 | =1 if walls are bad\n",
    "epared2 | =1 if walls are regular\n",
    "epared3 | =1 if walls are good\n",
    "etecho1 | =1 if roof are bad\n",
    "etecho2 | =1 if roof are regular\n",
    "etecho3 | =1 if roof are good\n",
    "eviv1 | =1 if floor are bad\n",
    "eviv2 | =1 if floor are regular\n",
    "eviv3 | =1 if floor are good"
   ]
  },
  {
   "cell_type": "markdown",
   "metadata": {},
   "source": [
    "### Intersection Groups\n",
    "#### Provided variables consisting of multiple categories\n",
    "\n",
    "Variable | Desc.\n",
    "--- | ---\n",
    "r4h1 | Males younger than 12 years of age\n",
    "r4h2 | Males 12 years of age and older\n",
    "r4m1 | Females younger than 12 years of age\n",
    "r4m2 | Females 12 years of age and older\n",
    "r4t1 | persons younger than 12 years of age\n",
    "r4t2 | persons 12 years of age and older\n",
    "r4h3 | Total males in the household\n",
    "r4m3 | Total females in the household\n",
    "edjefe | years of education of male head of household, based on the interaction of escolari (years of education), head of household and gender, yes=1 and no=0\n",
    "edjefa | years of education of female head of household, based on the interaction of escolari (years of education), head of household and gender, yes=1 and no=0\n",
    "meaneduc | average years of education for adults (18+)"
   ]
  },
  {
   "cell_type": "markdown",
   "metadata": {},
   "source": [
    "### Squares\n",
    "\n",
    "Variable | Desc.\n",
    "--- | ---\n",
    "SQBescolari | escolari squared\n",
    "SQBage | age squared\n",
    "SQBhogar_total | hogar_total squared\n",
    "SQBedjefe | edjefe squared\n",
    "SQBhogar_nin | hogar_nin squared\n",
    "SQBovercrowding | overcrowding squared\n",
    "SQBdependency | dependency squared\n",
    "SQBmeaned | square of the mean years of education of adults (>=18) in the household\n",
    "agesq | Age squared"
   ]
  }
 ],
 "metadata": {
  "kernelspec": {
   "display_name": "Python 3",
   "language": "python",
   "name": "python3"
  },
  "language_info": {
   "codemirror_mode": {
    "name": "ipython",
    "version": 3
   },
   "file_extension": ".py",
   "mimetype": "text/x-python",
   "name": "python",
   "nbconvert_exporter": "python",
   "pygments_lexer": "ipython3",
   "version": "3.6.7"
  }
 },
 "nbformat": 4,
 "nbformat_minor": 2
}
