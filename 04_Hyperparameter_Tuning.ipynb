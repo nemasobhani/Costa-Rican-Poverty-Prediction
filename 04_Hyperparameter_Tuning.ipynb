{
 "cells": [
  {
   "cell_type": "markdown",
   "metadata": {},
   "source": [
    "# Costa Rican Household Poverty Level Prediction\n",
    "*From Kaggle ([competition link](https://www.kaggle.com/c/costa-rican-household-poverty-prediction))*\n",
    "  \n",
    "**By Nema Sobhani & David LaCharite**"
   ]
  },
  {
   "cell_type": "markdown",
   "metadata": {},
   "source": [
    "## Summary\n",
    "\n",
    "Income qualification for poor families in Costa Rica to determing need for aid. Data gathered from the *Inter-American Development Bank.*"
   ]
  },
  {
   "cell_type": "markdown",
   "metadata": {},
   "source": [
    "## Imports"
   ]
  },
  {
   "cell_type": "code",
   "execution_count": 8,
   "metadata": {},
   "outputs": [],
   "source": [
    "# General tools\n",
    "import pandas as pd\n",
    "import numpy as np\n",
    "\n",
    "# Functions\n",
    "from functions import *\n",
    "\n",
    "# Visualization\n",
    "import matplotlib.pyplot as plt\n",
    "%matplotlib inline\n",
    "import seaborn as sns\n",
    "from IPython.display import display\n",
    "pd.options.display.max_columns = None\n",
    "\n",
    "# Classification\n",
    "from sklearn.metrics import f1_score, confusion_matrix\n",
    "from sklearn.model_selection import train_test_split\n",
    "from sklearn.linear_model import LinearRegression, LogisticRegression, LogisticRegressionCV\n",
    "from sklearn.linear_model import RidgeCV, LassoCV, ElasticNetCV\n",
    "from sklearn.svm import SVC\n",
    "from sklearn.ensemble import RandomForestRegressor, RandomForestClassifier\n",
    "from sklearn.naive_bayes import MultinomialNB\n",
    "from sklearn.neighbors import NearestNeighbors, KNeighborsClassifier\n",
    "from sklearn.cluster import KMeans\n",
    "import xgboost as xgb\n",
    "from sklearn.feature_selection import SelectFromModel"
   ]
  },
  {
   "cell_type": "code",
   "execution_count": 5,
   "metadata": {},
   "outputs": [
    {
     "data": {
      "text/plain": [
       "['meaneduc',\n",
       " 'v2a1',\n",
       " 'SQBedjefe',\n",
       " 'overcrowding',\n",
       " 'SQBdependency',\n",
       " 'age',\n",
       " 'rooms',\n",
       " 'qmobilephone',\n",
       " 'SQ_meaneduc',\n",
       " 'SQ_v2a1',\n",
       " 'SQ_SQBedjefe',\n",
       " 'SQ_overcrowding',\n",
       " 'SQ_SQBdependency',\n",
       " 'SQ_age',\n",
       " 'SQ_rooms',\n",
       " 'SQ_qmobilephone',\n",
       " 'LOG_meaneduc',\n",
       " 'LOG_v2a1',\n",
       " 'LOG_SQBedjefe',\n",
       " 'LOG_overcrowding',\n",
       " 'LOG_SQBdependency',\n",
       " 'LOG_age',\n",
       " 'LOG_rooms',\n",
       " 'LOG_qmobilephone']"
      ]
     },
     "execution_count": 5,
     "metadata": {},
     "output_type": "execute_result"
    }
   ],
   "source": [
    "top_features = ['meaneduc', 'v2a1', 'SQBedjefe', 'overcrowding', 'SQBdependency', 'age', 'rooms', 'qmobilephone']\n",
    "top_features_SQ = [\"SQ_\" + i for i in top_features]\n",
    "top_features_LOG = [\"LOG_\" + i for i in top_features]\n",
    "\n",
    "top_features + top_features_SQ + top_features_LOG"
   ]
  },
  {
   "cell_type": "markdown",
   "metadata": {},
   "source": [
    "### Feature Selection Map\n",
    "\n",
    "ID | Original | Squares | Logs\n",
    "--- | --- | --- | --- \n",
    "1 | X | - | -\n",
    "2 | - | X | -\n",
    "3 | - | - | X\n",
    "4 | X | X | -\n",
    "5 | X | - | X\n",
    "6 | - | X | X"
   ]
  }
 ],
 "metadata": {
  "kernelspec": {
   "display_name": "Python 3",
   "language": "python",
   "name": "python3"
  },
  "language_info": {
   "codemirror_mode": {
    "name": "ipython",
    "version": 3
   },
   "file_extension": ".py",
   "mimetype": "text/x-python",
   "name": "python",
   "nbconvert_exporter": "python",
   "pygments_lexer": "ipython3",
   "version": "3.6.7"
  }
 },
 "nbformat": 4,
 "nbformat_minor": 2
}
