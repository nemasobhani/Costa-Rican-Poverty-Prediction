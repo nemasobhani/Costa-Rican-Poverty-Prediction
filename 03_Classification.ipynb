{
 "cells": [
  {
   "cell_type": "markdown",
   "metadata": {},
   "source": [
    "# Costa Rican Household Poverty Level Prediction\n",
    "*From Kaggle ([competition link](https://www.kaggle.com/c/costa-rican-household-poverty-prediction))*\n",
    "  \n",
    "**By Nema Sobhani & David LaCharite**"
   ]
  },
  {
   "cell_type": "markdown",
   "metadata": {},
   "source": [
    "## Summary\n",
    "\n",
    "Income qualification for poor families in Costa Rica to determing need for aid. Data gathered from the *Inter-American Development Bank.*"
   ]
  },
  {
   "cell_type": "markdown",
   "metadata": {},
   "source": [
    "## Imports"
   ]
  },
  {
   "cell_type": "code",
   "execution_count": 247,
   "metadata": {},
   "outputs": [],
   "source": [
    "# General tools\n",
    "import pandas as pd\n",
    "import numpy as np\n",
    "\n",
    "# Functions\n",
    "from functions import *\n",
    "\n",
    "# Visualization\n",
    "import matplotlib.pyplot as plt\n",
    "%matplotlib inline\n",
    "import seaborn as sns\n",
    "from IPython.display import display\n",
    "pd.options.display.max_columns = None\n",
    "from pprint import pprint\n",
    "\n",
    "# Classification\n",
    "from sklearn.metrics import f1_score, confusion_matrix\n",
    "from sklearn.model_selection import train_test_split\n",
    "from sklearn.linear_model import LinearRegression, LogisticRegression, LogisticRegressionCV\n",
    "from sklearn.linear_model import RidgeCV, LassoCV, ElasticNetCV\n",
    "from sklearn.svm import SVC\n",
    "from sklearn.ensemble import RandomForestRegressor, RandomForestClassifier\n",
    "from sklearn.model_selection import GridSearchCV\n",
    "import xgboost as xgb\n",
    "from sklearn.feature_selection import SelectFromModel"
   ]
  },
  {
   "cell_type": "markdown",
   "metadata": {},
   "source": [
    "# Classification (Initial)"
   ]
  },
  {
   "cell_type": "code",
   "execution_count": 248,
   "metadata": {},
   "outputs": [
    {
     "name": "stdout",
     "output_type": "stream",
     "text": [
      "(9557, 135)\n",
      "(9557,)\n"
     ]
    }
   ],
   "source": [
    "# Load dataframe \n",
    "df = pd.read_pickle('df.pkl')\n",
    "\n",
    "# Partition explanatory and response variables\n",
    "X = df.drop(columns='Target')\n",
    "print(X.shape)\n",
    "\n",
    "y = df['Target']\n",
    "print(y.shape)"
   ]
  },
  {
   "cell_type": "code",
   "execution_count": 249,
   "metadata": {},
   "outputs": [],
   "source": [
    "X_train, X_test, y_train, y_test = train_test_split(X, y, test_size = 0.2, stratify=y, random_state=12345)"
   ]
  },
  {
   "cell_type": "markdown",
   "metadata": {},
   "source": [
    "## Linear Regression"
   ]
  },
  {
   "cell_type": "code",
   "execution_count": 250,
   "metadata": {},
   "outputs": [],
   "source": [
    "clf_linear = LinearRegression()"
   ]
  },
  {
   "cell_type": "code",
   "execution_count": 251,
   "metadata": {
    "scrolled": true
   },
   "outputs": [
    {
     "data": {
      "text/plain": [
       "LinearRegression(copy_X=True, fit_intercept=True, n_jobs=None,\n",
       "         normalize=False)"
      ]
     },
     "execution_count": 251,
     "metadata": {},
     "output_type": "execute_result"
    }
   ],
   "source": [
    "clf_linear.fit(X_train, y_train)"
   ]
  },
  {
   "cell_type": "code",
   "execution_count": 252,
   "metadata": {},
   "outputs": [
    {
     "data": {
      "text/plain": [
       "0.49476987447698745"
      ]
     },
     "execution_count": 252,
     "metadata": {},
     "output_type": "execute_result"
    }
   ],
   "source": [
    "y_pred = clf_linear.predict(X_test)\n",
    "y_pred = y_pred.round()\n",
    "y_pred = y_pred.astype(int)\n",
    "\n",
    "df_test = pd.DataFrame([y_pred, y_test], index=['ypred', 'ytest'])\n",
    "df_test = df_test.transpose()\n",
    "df_test['correct'] = df_test['ypred'] == df_test['ytest']\n",
    "df_test.correct.mean()"
   ]
  },
  {
   "cell_type": "code",
   "execution_count": 253,
   "metadata": {
    "scrolled": true
   },
   "outputs": [
    {
     "name": "stderr",
     "output_type": "stream",
     "text": [
      "/home/nemosaic/.local/lib/python3.6/site-packages/sklearn/metrics/classification.py:1145: UndefinedMetricWarning: F-score is ill-defined and being set to 0.0 in labels with no true samples.\n",
      "  'recall', 'true', average, warn_for)\n"
     ]
    },
    {
     "data": {
      "text/plain": [
       "0.28386560965239604"
      ]
     },
     "execution_count": 253,
     "metadata": {},
     "output_type": "execute_result"
    }
   ],
   "source": [
    "f1_linear = f1_score(y_test, y_pred, average='macro')\n",
    "f1_linear"
   ]
  },
  {
   "cell_type": "markdown",
   "metadata": {},
   "source": [
    "## Multiclass Logistic"
   ]
  },
  {
   "cell_type": "code",
   "execution_count": 254,
   "metadata": {},
   "outputs": [],
   "source": [
    "clf_multiclass_logistic = LogisticRegressionCV(class_weight='balanced', multi_class='multinomial')"
   ]
  },
  {
   "cell_type": "code",
   "execution_count": 255,
   "metadata": {
    "scrolled": true
   },
   "outputs": [
    {
     "name": "stderr",
     "output_type": "stream",
     "text": [
      "/home/nemosaic/.local/lib/python3.6/site-packages/sklearn/model_selection/_split.py:2053: FutureWarning: You should specify a value for 'cv' instead of relying on the default value. The default value will change from 3 to 5 in version 0.22.\n",
      "  warnings.warn(CV_WARNING, FutureWarning)\n",
      "/home/nemosaic/.local/lib/python3.6/site-packages/sklearn/linear_model/logistic.py:758: ConvergenceWarning: lbfgs failed to converge. Increase the number of iterations.\n",
      "  \"of iterations.\", ConvergenceWarning)\n",
      "/home/nemosaic/.local/lib/python3.6/site-packages/sklearn/linear_model/logistic.py:758: ConvergenceWarning: lbfgs failed to converge. Increase the number of iterations.\n",
      "  \"of iterations.\", ConvergenceWarning)\n",
      "/home/nemosaic/.local/lib/python3.6/site-packages/sklearn/linear_model/logistic.py:758: ConvergenceWarning: lbfgs failed to converge. Increase the number of iterations.\n",
      "  \"of iterations.\", ConvergenceWarning)\n",
      "/home/nemosaic/.local/lib/python3.6/site-packages/sklearn/linear_model/logistic.py:758: ConvergenceWarning: lbfgs failed to converge. Increase the number of iterations.\n",
      "  \"of iterations.\", ConvergenceWarning)\n"
     ]
    },
    {
     "data": {
      "text/plain": [
       "LogisticRegressionCV(Cs=10, class_weight='balanced', cv='warn', dual=False,\n",
       "           fit_intercept=True, intercept_scaling=1.0, max_iter=100,\n",
       "           multi_class='multinomial', n_jobs=None, penalty='l2',\n",
       "           random_state=None, refit=True, scoring=None, solver='lbfgs',\n",
       "           tol=0.0001, verbose=0)"
      ]
     },
     "execution_count": 255,
     "metadata": {},
     "output_type": "execute_result"
    }
   ],
   "source": [
    "clf_multiclass_logistic.fit(X_train, y_train)"
   ]
  },
  {
   "cell_type": "code",
   "execution_count": 256,
   "metadata": {},
   "outputs": [
    {
     "data": {
      "text/plain": [
       "0.5230125523012552"
      ]
     },
     "execution_count": 256,
     "metadata": {},
     "output_type": "execute_result"
    }
   ],
   "source": [
    "clf_multiclass_logistic.score(X_test, y_test)"
   ]
  },
  {
   "cell_type": "code",
   "execution_count": 257,
   "metadata": {},
   "outputs": [
    {
     "data": {
      "text/plain": [
       "0.3871799012694391"
      ]
     },
     "execution_count": 257,
     "metadata": {},
     "output_type": "execute_result"
    }
   ],
   "source": [
    "y_pred_log_reg = clf_multiclass_logistic.predict(X_test)\n",
    "\n",
    "f1_logistic = f1_score(y_test, y_pred_log_reg, average='macro')\n",
    "f1_logistic"
   ]
  },
  {
   "cell_type": "markdown",
   "metadata": {},
   "source": [
    "## SVM"
   ]
  },
  {
   "cell_type": "code",
   "execution_count": 258,
   "metadata": {},
   "outputs": [],
   "source": [
    "clf_SVM = SVC()"
   ]
  },
  {
   "cell_type": "code",
   "execution_count": 259,
   "metadata": {
    "scrolled": true
   },
   "outputs": [
    {
     "name": "stderr",
     "output_type": "stream",
     "text": [
      "/home/nemosaic/.local/lib/python3.6/site-packages/sklearn/svm/base.py:196: FutureWarning: The default value of gamma will change from 'auto' to 'scale' in version 0.22 to account better for unscaled features. Set gamma explicitly to 'auto' or 'scale' to avoid this warning.\n",
      "  \"avoid this warning.\", FutureWarning)\n"
     ]
    },
    {
     "data": {
      "text/plain": [
       "SVC(C=1.0, cache_size=200, class_weight=None, coef0=0.0,\n",
       "  decision_function_shape='ovr', degree=3, gamma='auto_deprecated',\n",
       "  kernel='rbf', max_iter=-1, probability=False, random_state=None,\n",
       "  shrinking=True, tol=0.001, verbose=False)"
      ]
     },
     "execution_count": 259,
     "metadata": {},
     "output_type": "execute_result"
    }
   ],
   "source": [
    "clf_SVM.fit(X_train, y_train)"
   ]
  },
  {
   "cell_type": "code",
   "execution_count": 260,
   "metadata": {},
   "outputs": [
    {
     "data": {
      "text/plain": [
       "0.6260460251046025"
      ]
     },
     "execution_count": 260,
     "metadata": {},
     "output_type": "execute_result"
    }
   ],
   "source": [
    "clf_SVM.score(X_test, y_test)"
   ]
  },
  {
   "cell_type": "code",
   "execution_count": 261,
   "metadata": {},
   "outputs": [
    {
     "data": {
      "text/plain": [
       "0.22173155053186192"
      ]
     },
     "execution_count": 261,
     "metadata": {},
     "output_type": "execute_result"
    }
   ],
   "source": [
    "y_pred_SVM = clf_SVM.predict(X_test)\n",
    "\n",
    "f1_SVM = f1_score(y_test, y_pred_SVM, average='macro')\n",
    "f1_SVM"
   ]
  },
  {
   "cell_type": "markdown",
   "metadata": {},
   "source": [
    "## Random Forest"
   ]
  },
  {
   "cell_type": "code",
   "execution_count": 262,
   "metadata": {},
   "outputs": [],
   "source": [
    "clf_RF = RandomForestClassifier()"
   ]
  },
  {
   "cell_type": "code",
   "execution_count": 263,
   "metadata": {},
   "outputs": [
    {
     "name": "stderr",
     "output_type": "stream",
     "text": [
      "/home/nemosaic/.local/lib/python3.6/site-packages/sklearn/ensemble/forest.py:246: FutureWarning: The default value of n_estimators will change from 10 in version 0.20 to 100 in 0.22.\n",
      "  \"10 in version 0.20 to 100 in 0.22.\", FutureWarning)\n"
     ]
    },
    {
     "data": {
      "text/plain": [
       "RandomForestClassifier(bootstrap=True, class_weight=None, criterion='gini',\n",
       "            max_depth=None, max_features='auto', max_leaf_nodes=None,\n",
       "            min_impurity_decrease=0.0, min_impurity_split=None,\n",
       "            min_samples_leaf=1, min_samples_split=2,\n",
       "            min_weight_fraction_leaf=0.0, n_estimators=10, n_jobs=None,\n",
       "            oob_score=False, random_state=None, verbose=0,\n",
       "            warm_start=False)"
      ]
     },
     "execution_count": 263,
     "metadata": {},
     "output_type": "execute_result"
    }
   ],
   "source": [
    "clf_RF.fit(X_train, y_train)"
   ]
  },
  {
   "cell_type": "code",
   "execution_count": 264,
   "metadata": {},
   "outputs": [
    {
     "data": {
      "text/plain": [
       "0.8948744769874477"
      ]
     },
     "execution_count": 264,
     "metadata": {},
     "output_type": "execute_result"
    }
   ],
   "source": [
    "clf_RF.score(X_test, y_test)"
   ]
  },
  {
   "cell_type": "code",
   "execution_count": 265,
   "metadata": {},
   "outputs": [
    {
     "data": {
      "text/plain": [
       "0.8397878195133621"
      ]
     },
     "execution_count": 265,
     "metadata": {},
     "output_type": "execute_result"
    }
   ],
   "source": [
    "y_pred_RF = clf_RF.predict(X_test)\n",
    "\n",
    "f1_RF = f1_score(y_test, y_pred_RF, average='macro')\n",
    "f1_RF"
   ]
  },
  {
   "cell_type": "code",
   "execution_count": 266,
   "metadata": {},
   "outputs": [
    {
     "data": {
      "text/html": [
       "<div>\n",
       "<style scoped>\n",
       "    .dataframe tbody tr th:only-of-type {\n",
       "        vertical-align: middle;\n",
       "    }\n",
       "\n",
       "    .dataframe tbody tr th {\n",
       "        vertical-align: top;\n",
       "    }\n",
       "\n",
       "    .dataframe thead th {\n",
       "        text-align: right;\n",
       "    }\n",
       "</style>\n",
       "<table border=\"1\" class=\"dataframe\">\n",
       "  <thead>\n",
       "    <tr style=\"text-align: right;\">\n",
       "      <th></th>\n",
       "      <th>importance</th>\n",
       "    </tr>\n",
       "  </thead>\n",
       "  <tbody>\n",
       "    <tr>\n",
       "      <th>SQBmeaned</th>\n",
       "      <td>0.067164</td>\n",
       "    </tr>\n",
       "    <tr>\n",
       "      <th>meaneduc</th>\n",
       "      <td>0.048493</td>\n",
       "    </tr>\n",
       "    <tr>\n",
       "      <th>SQBdependency</th>\n",
       "      <td>0.035989</td>\n",
       "    </tr>\n",
       "    <tr>\n",
       "      <th>SQBedjefe</th>\n",
       "      <td>0.026826</td>\n",
       "    </tr>\n",
       "    <tr>\n",
       "      <th>hogar_nin</th>\n",
       "      <td>0.024928</td>\n",
       "    </tr>\n",
       "    <tr>\n",
       "      <th>rooms</th>\n",
       "      <td>0.024703</td>\n",
       "    </tr>\n",
       "    <tr>\n",
       "      <th>qmobilephone</th>\n",
       "      <td>0.024661</td>\n",
       "    </tr>\n",
       "    <tr>\n",
       "      <th>overcrowding</th>\n",
       "      <td>0.022332</td>\n",
       "    </tr>\n",
       "    <tr>\n",
       "      <th>SQBhogar_nin</th>\n",
       "      <td>0.022176</td>\n",
       "    </tr>\n",
       "    <tr>\n",
       "      <th>SQBovercrowding</th>\n",
       "      <td>0.021311</td>\n",
       "    </tr>\n",
       "  </tbody>\n",
       "</table>\n",
       "</div>"
      ],
      "text/plain": [
       "                 importance\n",
       "SQBmeaned          0.067164\n",
       "meaneduc           0.048493\n",
       "SQBdependency      0.035989\n",
       "SQBedjefe          0.026826\n",
       "hogar_nin          0.024928\n",
       "rooms              0.024703\n",
       "qmobilephone       0.024661\n",
       "overcrowding       0.022332\n",
       "SQBhogar_nin       0.022176\n",
       "SQBovercrowding    0.021311"
      ]
     },
     "execution_count": 266,
     "metadata": {},
     "output_type": "execute_result"
    }
   ],
   "source": [
    "feature_importances = pd.DataFrame(clf_RF.feature_importances_,\n",
    "                                   index = X_train.columns,\n",
    "                                   columns=['importance']).sort_values('importance', \n",
    "                                   ascending=False)\n",
    "feature_importances.head(10)"
   ]
  },
  {
   "cell_type": "markdown",
   "metadata": {},
   "source": [
    "## XGB Classifier"
   ]
  },
  {
   "cell_type": "code",
   "execution_count": 267,
   "metadata": {},
   "outputs": [],
   "source": [
    "clf_xgb = xgb.XGBClassifier(max_depth=6,n_estimators=100, n_jobs=-1, subsample=.7)"
   ]
  },
  {
   "cell_type": "code",
   "execution_count": 268,
   "metadata": {},
   "outputs": [
    {
     "name": "stdout",
     "output_type": "stream",
     "text": [
      "[0]\tvalidation_0-merror:0.251929\tvalidation_1-merror:0.268828\n",
      "[1]\tvalidation_0-merror:0.238195\tvalidation_1-merror:0.258891\n",
      "[2]\tvalidation_0-merror:0.233224\tvalidation_1-merror:0.256276\n",
      "[3]\tvalidation_0-merror:0.228515\tvalidation_1-merror:0.245816\n",
      "[4]\tvalidation_0-merror:0.228646\tvalidation_1-merror:0.251046\n",
      "[5]\tvalidation_0-merror:0.223283\tvalidation_1-merror:0.250523\n",
      "[6]\tvalidation_0-merror:0.218967\tvalidation_1-merror:0.250523\n",
      "[7]\tvalidation_0-merror:0.219097\tvalidation_1-merror:0.246862\n",
      "[8]\tvalidation_0-merror:0.213996\tvalidation_1-merror:0.243724\n",
      "[9]\tvalidation_0-merror:0.212819\tvalidation_1-merror:0.239017\n",
      "[10]\tvalidation_0-merror:0.212034\tvalidation_1-merror:0.241632\n",
      "[11]\tvalidation_0-merror:0.210464\tvalidation_1-merror:0.238494\n",
      "[12]\tvalidation_0-merror:0.206148\tvalidation_1-merror:0.232741\n",
      "[13]\tvalidation_0-merror:0.205363\tvalidation_1-merror:0.230649\n",
      "[14]\tvalidation_0-merror:0.203401\tvalidation_1-merror:0.228033\n",
      "[15]\tvalidation_0-merror:0.201177\tvalidation_1-merror:0.224372\n",
      "[16]\tvalidation_0-merror:0.198561\tvalidation_1-merror:0.222803\n",
      "[17]\tvalidation_0-merror:0.194899\tvalidation_1-merror:0.22228\n",
      "[18]\tvalidation_0-merror:0.193329\tvalidation_1-merror:0.221234\n",
      "[19]\tvalidation_0-merror:0.191629\tvalidation_1-merror:0.221757\n",
      "[20]\tvalidation_0-merror:0.191759\tvalidation_1-merror:0.221234\n",
      "[21]\tvalidation_0-merror:0.188097\tvalidation_1-merror:0.218096\n",
      "[22]\tvalidation_0-merror:0.18692\tvalidation_1-merror:0.217573\n",
      "[23]\tvalidation_0-merror:0.186004\tvalidation_1-merror:0.218096\n",
      "[24]\tvalidation_0-merror:0.182603\tvalidation_1-merror:0.216004\n",
      "[25]\tvalidation_0-merror:0.184173\tvalidation_1-merror:0.218619\n",
      "[26]\tvalidation_0-merror:0.181687\tvalidation_1-merror:0.216527\n",
      "[27]\tvalidation_0-merror:0.179333\tvalidation_1-merror:0.216004\n",
      "[28]\tvalidation_0-merror:0.17567\tvalidation_1-merror:0.212866\n",
      "[29]\tvalidation_0-merror:0.173578\tvalidation_1-merror:0.211297\n",
      "[30]\tvalidation_0-merror:0.1724\tvalidation_1-merror:0.208682\n",
      "[31]\tvalidation_0-merror:0.171615\tvalidation_1-merror:0.208159\n",
      "[32]\tvalidation_0-merror:0.167953\tvalidation_1-merror:0.202929\n",
      "[33]\tvalidation_0-merror:0.165337\tvalidation_1-merror:0.20136\n",
      "[34]\tvalidation_0-merror:0.162852\tvalidation_1-merror:0.199268\n",
      "[35]\tvalidation_0-merror:0.158666\tvalidation_1-merror:0.195084\n",
      "[36]\tvalidation_0-merror:0.157358\tvalidation_1-merror:0.195607\n",
      "[37]\tvalidation_0-merror:0.154349\tvalidation_1-merror:0.192992\n",
      "[38]\tvalidation_0-merror:0.153041\tvalidation_1-merror:0.190377\n",
      "[39]\tvalidation_0-merror:0.150033\tvalidation_1-merror:0.1909\n",
      "[40]\tvalidation_0-merror:0.148071\tvalidation_1-merror:0.189854\n",
      "[41]\tvalidation_0-merror:0.145716\tvalidation_1-merror:0.185669\n",
      "[42]\tvalidation_0-merror:0.143623\tvalidation_1-merror:0.184623\n",
      "[43]\tvalidation_0-merror:0.142054\tvalidation_1-merror:0.182008\n",
      "[44]\tvalidation_0-merror:0.139961\tvalidation_1-merror:0.182531\n",
      "[45]\tvalidation_0-merror:0.13826\tvalidation_1-merror:0.183054\n",
      "[46]\tvalidation_0-merror:0.137083\tvalidation_1-merror:0.180962\n",
      "[47]\tvalidation_0-merror:0.135121\tvalidation_1-merror:0.181485\n",
      "[48]\tvalidation_0-merror:0.134336\tvalidation_1-merror:0.179393\n",
      "[49]\tvalidation_0-merror:0.132374\tvalidation_1-merror:0.178347\n",
      "[50]\tvalidation_0-merror:0.131458\tvalidation_1-merror:0.178347\n",
      "[51]\tvalidation_0-merror:0.130935\tvalidation_1-merror:0.178347\n",
      "[52]\tvalidation_0-merror:0.129235\tvalidation_1-merror:0.177301\n",
      "[53]\tvalidation_0-merror:0.127534\tvalidation_1-merror:0.178347\n",
      "[54]\tvalidation_0-merror:0.125572\tvalidation_1-merror:0.177301\n",
      "[55]\tvalidation_0-merror:0.123349\tvalidation_1-merror:0.176778\n",
      "[56]\tvalidation_0-merror:0.122825\tvalidation_1-merror:0.177301\n",
      "[57]\tvalidation_0-merror:0.122564\tvalidation_1-merror:0.177301\n",
      "[58]\tvalidation_0-merror:0.120733\tvalidation_1-merror:0.175732\n",
      "[59]\tvalidation_0-merror:0.118378\tvalidation_1-merror:0.175209\n",
      "[60]\tvalidation_0-merror:0.113931\tvalidation_1-merror:0.172071\n",
      "[61]\tvalidation_0-merror:0.112623\tvalidation_1-merror:0.172594\n",
      "[62]\tvalidation_0-merror:0.111184\tvalidation_1-merror:0.172071\n",
      "[63]\tvalidation_0-merror:0.110268\tvalidation_1-merror:0.171548\n",
      "[64]\tvalidation_0-merror:0.109876\tvalidation_1-merror:0.171548\n",
      "[65]\tvalidation_0-merror:0.108306\tvalidation_1-merror:0.169979\n",
      "[66]\tvalidation_0-merror:0.105428\tvalidation_1-merror:0.16841\n",
      "[67]\tvalidation_0-merror:0.10399\tvalidation_1-merror:0.167364\n",
      "[68]\tvalidation_0-merror:0.101504\tvalidation_1-merror:0.165272\n",
      "[69]\tvalidation_0-merror:0.100196\tvalidation_1-merror:0.164749\n",
      "[70]\tvalidation_0-merror:0.096141\tvalidation_1-merror:0.163703\n",
      "[71]\tvalidation_0-merror:0.094572\tvalidation_1-merror:0.162134\n",
      "[72]\tvalidation_0-merror:0.093918\tvalidation_1-merror:0.161611\n",
      "[73]\tvalidation_0-merror:0.093656\tvalidation_1-merror:0.161088\n",
      "[74]\tvalidation_0-merror:0.091694\tvalidation_1-merror:0.161611\n",
      "[75]\tvalidation_0-merror:0.09104\tvalidation_1-merror:0.160565\n",
      "[76]\tvalidation_0-merror:0.089732\tvalidation_1-merror:0.157427\n",
      "[77]\tvalidation_0-merror:0.088947\tvalidation_1-merror:0.156904\n",
      "[78]\tvalidation_0-merror:0.088424\tvalidation_1-merror:0.15795\n",
      "[79]\tvalidation_0-merror:0.087116\tvalidation_1-merror:0.155858\n",
      "[80]\tvalidation_0-merror:0.086593\tvalidation_1-merror:0.155858\n",
      "[81]\tvalidation_0-merror:0.085285\tvalidation_1-merror:0.154289\n",
      "[82]\tvalidation_0-merror:0.084238\tvalidation_1-merror:0.152197\n",
      "[83]\tvalidation_0-merror:0.082799\tvalidation_1-merror:0.149582\n",
      "[84]\tvalidation_0-merror:0.081884\tvalidation_1-merror:0.149059\n",
      "[85]\tvalidation_0-merror:0.080837\tvalidation_1-merror:0.146444\n",
      "[86]\tvalidation_0-merror:0.080576\tvalidation_1-merror:0.148013\n",
      "[87]\tvalidation_0-merror:0.078483\tvalidation_1-merror:0.148013\n",
      "[88]\tvalidation_0-merror:0.077959\tvalidation_1-merror:0.145397\n",
      "[89]\tvalidation_0-merror:0.076521\tvalidation_1-merror:0.146967\n",
      "[90]\tvalidation_0-merror:0.075474\tvalidation_1-merror:0.143305\n",
      "[91]\tvalidation_0-merror:0.07482\tvalidation_1-merror:0.143305\n",
      "[92]\tvalidation_0-merror:0.073643\tvalidation_1-merror:0.143828\n",
      "[93]\tvalidation_0-merror:0.07325\tvalidation_1-merror:0.142782\n",
      "[94]\tvalidation_0-merror:0.07312\tvalidation_1-merror:0.142782\n",
      "[95]\tvalidation_0-merror:0.072335\tvalidation_1-merror:0.14069\n",
      "[96]\tvalidation_0-merror:0.071158\tvalidation_1-merror:0.141213\n",
      "[97]\tvalidation_0-merror:0.070634\tvalidation_1-merror:0.141736\n",
      "[98]\tvalidation_0-merror:0.069065\tvalidation_1-merror:0.140167\n",
      "[99]\tvalidation_0-merror:0.067888\tvalidation_1-merror:0.139644\n"
     ]
    },
    {
     "data": {
      "text/plain": [
       "XGBClassifier(base_score=0.5, booster='gbtree', colsample_bylevel=1,\n",
       "       colsample_bynode=1, colsample_bytree=1, gamma=0, learning_rate=0.1,\n",
       "       max_delta_step=0, max_depth=6, min_child_weight=1, missing=None,\n",
       "       n_estimators=100, n_jobs=-1, nthread=None,\n",
       "       objective='multi:softprob', random_state=0, reg_alpha=0,\n",
       "       reg_lambda=1, scale_pos_weight=1, seed=None, silent=None,\n",
       "       subsample=0.7, verbosity=1)"
      ]
     },
     "execution_count": 268,
     "metadata": {},
     "output_type": "execute_result"
    }
   ],
   "source": [
    "clf_xgb.fit(X_train, y_train, eval_set=[(X_train, y_train), (X_test, y_test)], verbose=True)"
   ]
  },
  {
   "cell_type": "code",
   "execution_count": 269,
   "metadata": {},
   "outputs": [
    {
     "data": {
      "text/plain": [
       "0.8603556485355649"
      ]
     },
     "execution_count": 269,
     "metadata": {},
     "output_type": "execute_result"
    }
   ],
   "source": [
    "clf_xgb.score(X_test, y_test)"
   ]
  },
  {
   "cell_type": "code",
   "execution_count": 270,
   "metadata": {},
   "outputs": [
    {
     "data": {
      "text/plain": [
       "0.7887912428409045"
      ]
     },
     "execution_count": 270,
     "metadata": {},
     "output_type": "execute_result"
    }
   ],
   "source": [
    "y_pred_xgb = clf_xgb.predict(X_test)\n",
    "\n",
    "f1_xgb = f1_score(y_test, y_pred_xgb, average='macro')\n",
    "f1_xgb"
   ]
  },
  {
   "cell_type": "markdown",
   "metadata": {},
   "source": [
    "### Feature Importance (XGBoost)"
   ]
  },
  {
   "cell_type": "code",
   "execution_count": 271,
   "metadata": {
    "scrolled": true
   },
   "outputs": [
    {
     "data": {
      "text/plain": [
       "<matplotlib.axes._subplots.AxesSubplot at 0x7f9d986aa400>"
      ]
     },
     "execution_count": 271,
     "metadata": {},
     "output_type": "execute_result"
    },
    {
     "data": {
      "image/png": "[encoded data removed]",
      "text/plain": [
       "<Figure size 432x288 with 1 Axes>"
      ]
     },
     "metadata": {},
     "output_type": "display_data"
    }
   ],
   "source": [
    "xgb.plot_importance(clf_xgb, max_num_features=20)"
   ]
  },
  {
   "cell_type": "markdown",
   "metadata": {},
   "source": [
    "# Classification with Predicted Rent Values"
   ]
  },
  {
   "cell_type": "code",
   "execution_count": 272,
   "metadata": {},
   "outputs": [
    {
     "name": "stdout",
     "output_type": "stream",
     "text": [
      "(9557, 136)\n",
      "(9557,)\n"
     ]
    }
   ],
   "source": [
    "# Load dataframe \n",
    "df_rent = pd.read_pickle('df_rent.pkl')\n",
    "\n",
    "# Partition explanatory and response variables\n",
    "X = df_rent.drop(columns='Target')\n",
    "print(X.shape)\n",
    "\n",
    "y = df_rent['Target']\n",
    "print(y.shape)"
   ]
  },
  {
   "cell_type": "code",
   "execution_count": 273,
   "metadata": {},
   "outputs": [],
   "source": [
    "X_train, X_test, y_train, y_test = train_test_split(X, y, test_size = 0.2, stratify=y, random_state=12345)"
   ]
  },
  {
   "cell_type": "markdown",
   "metadata": {},
   "source": [
    "## Linear Regression"
   ]
  },
  {
   "cell_type": "code",
   "execution_count": 274,
   "metadata": {},
   "outputs": [],
   "source": [
    "clf_linear = LinearRegression()"
   ]
  },
  {
   "cell_type": "code",
   "execution_count": 275,
   "metadata": {
    "scrolled": true
   },
   "outputs": [
    {
     "data": {
      "text/plain": [
       "LinearRegression(copy_X=True, fit_intercept=True, n_jobs=None,\n",
       "         normalize=False)"
      ]
     },
     "execution_count": 275,
     "metadata": {},
     "output_type": "execute_result"
    }
   ],
   "source": [
    "clf_linear.fit(X_train, y_train)"
   ]
  },
  {
   "cell_type": "code",
   "execution_count": 276,
   "metadata": {},
   "outputs": [
    {
     "data": {
      "text/plain": [
       "0.4916317991631799"
      ]
     },
     "execution_count": 276,
     "metadata": {},
     "output_type": "execute_result"
    }
   ],
   "source": [
    "y_pred = clf_linear.predict(X_test)\n",
    "y_pred = y_pred.round()\n",
    "y_pred = y_pred.astype(int)\n",
    "\n",
    "df_test = pd.DataFrame([y_pred, y_test], index=['ypred', 'ytest'])\n",
    "df_test = df_test.transpose()\n",
    "df_test['correct'] = df_test['ypred'] == df_test['ytest']\n",
    "df_test.correct.mean()"
   ]
  },
  {
   "cell_type": "code",
   "execution_count": 277,
   "metadata": {
    "scrolled": true
   },
   "outputs": [
    {
     "name": "stderr",
     "output_type": "stream",
     "text": [
      "/home/nemosaic/.local/lib/python3.6/site-packages/sklearn/metrics/classification.py:1145: UndefinedMetricWarning: F-score is ill-defined and being set to 0.0 in labels with no true samples.\n",
      "  'recall', 'true', average, warn_for)\n"
     ]
    },
    {
     "data": {
      "text/plain": [
       "0.28363914080640606"
      ]
     },
     "execution_count": 277,
     "metadata": {},
     "output_type": "execute_result"
    }
   ],
   "source": [
    "f1_linear_rent = f1_score(y_test, y_pred, average='macro')\n",
    "f1_linear_rent"
   ]
  },
  {
   "cell_type": "markdown",
   "metadata": {},
   "source": [
    "## Multiclass Logistic"
   ]
  },
  {
   "cell_type": "code",
   "execution_count": 278,
   "metadata": {},
   "outputs": [],
   "source": [
    "clf_multiclass_logistic = LogisticRegressionCV(class_weight='balanced', multi_class='multinomial')"
   ]
  },
  {
   "cell_type": "code",
   "execution_count": 279,
   "metadata": {
    "scrolled": true
   },
   "outputs": [
    {
     "name": "stderr",
     "output_type": "stream",
     "text": [
      "/home/nemosaic/.local/lib/python3.6/site-packages/sklearn/model_selection/_split.py:2053: FutureWarning: You should specify a value for 'cv' instead of relying on the default value. The default value will change from 3 to 5 in version 0.22.\n",
      "  warnings.warn(CV_WARNING, FutureWarning)\n",
      "/home/nemosaic/.local/lib/python3.6/site-packages/sklearn/linear_model/logistic.py:758: ConvergenceWarning: lbfgs failed to converge. Increase the number of iterations.\n",
      "  \"of iterations.\", ConvergenceWarning)\n",
      "/home/nemosaic/.local/lib/python3.6/site-packages/sklearn/linear_model/logistic.py:758: ConvergenceWarning: lbfgs failed to converge. Increase the number of iterations.\n",
      "  \"of iterations.\", ConvergenceWarning)\n",
      "/home/nemosaic/.local/lib/python3.6/site-packages/sklearn/linear_model/logistic.py:758: ConvergenceWarning: lbfgs failed to converge. Increase the number of iterations.\n",
      "  \"of iterations.\", ConvergenceWarning)\n"
     ]
    },
    {
     "data": {
      "text/plain": [
       "LogisticRegressionCV(Cs=10, class_weight='balanced', cv='warn', dual=False,\n",
       "           fit_intercept=True, intercept_scaling=1.0, max_iter=100,\n",
       "           multi_class='multinomial', n_jobs=None, penalty='l2',\n",
       "           random_state=None, refit=True, scoring=None, solver='lbfgs',\n",
       "           tol=0.0001, verbose=0)"
      ]
     },
     "execution_count": 279,
     "metadata": {},
     "output_type": "execute_result"
    }
   ],
   "source": [
    "clf_multiclass_logistic.fit(X_train, y_train)"
   ]
  },
  {
   "cell_type": "code",
   "execution_count": 280,
   "metadata": {},
   "outputs": [
    {
     "data": {
      "text/plain": [
       "0.4989539748953975"
      ]
     },
     "execution_count": 280,
     "metadata": {},
     "output_type": "execute_result"
    }
   ],
   "source": [
    "clf_multiclass_logistic.score(X_test, y_test)"
   ]
  },
  {
   "cell_type": "code",
   "execution_count": 281,
   "metadata": {},
   "outputs": [
    {
     "data": {
      "text/plain": [
       "0.3294087387074886"
      ]
     },
     "execution_count": 281,
     "metadata": {},
     "output_type": "execute_result"
    }
   ],
   "source": [
    "y_pred_log_reg = clf_multiclass_logistic.predict(X_test)\n",
    "\n",
    "f1_logistic_rent = f1_score(y_test, y_pred_log_reg, average='macro')\n",
    "f1_logistic_rent"
   ]
  },
  {
   "cell_type": "markdown",
   "metadata": {},
   "source": [
    "## SVM"
   ]
  },
  {
   "cell_type": "code",
   "execution_count": 282,
   "metadata": {},
   "outputs": [],
   "source": [
    "clf_SVM = SVC()"
   ]
  },
  {
   "cell_type": "code",
   "execution_count": 283,
   "metadata": {
    "scrolled": true
   },
   "outputs": [
    {
     "name": "stderr",
     "output_type": "stream",
     "text": [
      "/home/nemosaic/.local/lib/python3.6/site-packages/sklearn/svm/base.py:196: FutureWarning: The default value of gamma will change from 'auto' to 'scale' in version 0.22 to account better for unscaled features. Set gamma explicitly to 'auto' or 'scale' to avoid this warning.\n",
      "  \"avoid this warning.\", FutureWarning)\n"
     ]
    },
    {
     "data": {
      "text/plain": [
       "SVC(C=1.0, cache_size=200, class_weight=None, coef0=0.0,\n",
       "  decision_function_shape='ovr', degree=3, gamma='auto_deprecated',\n",
       "  kernel='rbf', max_iter=-1, probability=False, random_state=None,\n",
       "  shrinking=True, tol=0.001, verbose=False)"
      ]
     },
     "execution_count": 283,
     "metadata": {},
     "output_type": "execute_result"
    }
   ],
   "source": [
    "clf_SVM.fit(X_train, y_train)"
   ]
  },
  {
   "cell_type": "code",
   "execution_count": 284,
   "metadata": {},
   "outputs": [
    {
     "data": {
      "text/plain": [
       "0.6323221757322176"
      ]
     },
     "execution_count": 284,
     "metadata": {},
     "output_type": "execute_result"
    }
   ],
   "source": [
    "clf_SVM.score(X_test, y_test)"
   ]
  },
  {
   "cell_type": "code",
   "execution_count": 285,
   "metadata": {},
   "outputs": [
    {
     "data": {
      "text/plain": [
       "0.2099798668643043"
      ]
     },
     "execution_count": 285,
     "metadata": {},
     "output_type": "execute_result"
    }
   ],
   "source": [
    "y_pred_SVM = clf_SVM.predict(X_test)\n",
    "\n",
    "f1_SVM_rent = f1_score(y_test, y_pred_SVM, average='macro')\n",
    "f1_SVM_rent"
   ]
  },
  {
   "cell_type": "markdown",
   "metadata": {},
   "source": [
    "## Random Forests"
   ]
  },
  {
   "cell_type": "code",
   "execution_count": 286,
   "metadata": {},
   "outputs": [],
   "source": [
    "clf_RF = RandomForestClassifier()"
   ]
  },
  {
   "cell_type": "code",
   "execution_count": 287,
   "metadata": {},
   "outputs": [
    {
     "name": "stderr",
     "output_type": "stream",
     "text": [
      "/home/nemosaic/.local/lib/python3.6/site-packages/sklearn/ensemble/forest.py:246: FutureWarning: The default value of n_estimators will change from 10 in version 0.20 to 100 in 0.22.\n",
      "  \"10 in version 0.20 to 100 in 0.22.\", FutureWarning)\n"
     ]
    },
    {
     "data": {
      "text/plain": [
       "RandomForestClassifier(bootstrap=True, class_weight=None, criterion='gini',\n",
       "            max_depth=None, max_features='auto', max_leaf_nodes=None,\n",
       "            min_impurity_decrease=0.0, min_impurity_split=None,\n",
       "            min_samples_leaf=1, min_samples_split=2,\n",
       "            min_weight_fraction_leaf=0.0, n_estimators=10, n_jobs=None,\n",
       "            oob_score=False, random_state=None, verbose=0,\n",
       "            warm_start=False)"
      ]
     },
     "execution_count": 287,
     "metadata": {},
     "output_type": "execute_result"
    }
   ],
   "source": [
    "clf_RF.fit(X_train, y_train)"
   ]
  },
  {
   "cell_type": "code",
   "execution_count": 288,
   "metadata": {},
   "outputs": [
    {
     "data": {
      "text/plain": [
       "0.9037656903765691"
      ]
     },
     "execution_count": 288,
     "metadata": {},
     "output_type": "execute_result"
    }
   ],
   "source": [
    "clf_RF.score(X_test, y_test)"
   ]
  },
  {
   "cell_type": "code",
   "execution_count": 289,
   "metadata": {},
   "outputs": [
    {
     "data": {
      "text/plain": [
       "0.8491196917363437"
      ]
     },
     "execution_count": 289,
     "metadata": {},
     "output_type": "execute_result"
    }
   ],
   "source": [
    "y_pred_RF = clf_RF.predict(X_test)\n",
    "\n",
    "f1_RF_rent = f1_score(y_test, y_pred_RF, average='macro')\n",
    "f1_RF_rent"
   ]
  },
  {
   "cell_type": "code",
   "execution_count": 290,
   "metadata": {},
   "outputs": [
    {
     "data": {
      "text/html": [
       "<div>\n",
       "<style scoped>\n",
       "    .dataframe tbody tr th:only-of-type {\n",
       "        vertical-align: middle;\n",
       "    }\n",
       "\n",
       "    .dataframe tbody tr th {\n",
       "        vertical-align: top;\n",
       "    }\n",
       "\n",
       "    .dataframe thead th {\n",
       "        text-align: right;\n",
       "    }\n",
       "</style>\n",
       "<table border=\"1\" class=\"dataframe\">\n",
       "  <thead>\n",
       "    <tr style=\"text-align: right;\">\n",
       "      <th></th>\n",
       "      <th>importance</th>\n",
       "    </tr>\n",
       "  </thead>\n",
       "  <tbody>\n",
       "    <tr>\n",
       "      <th>v2a1</th>\n",
       "      <td>0.080843</td>\n",
       "    </tr>\n",
       "    <tr>\n",
       "      <th>SQBmeaned</th>\n",
       "      <td>0.042663</td>\n",
       "    </tr>\n",
       "    <tr>\n",
       "      <th>meaneduc</th>\n",
       "      <td>0.038621</td>\n",
       "    </tr>\n",
       "    <tr>\n",
       "      <th>SQBhogar_nin</th>\n",
       "      <td>0.030007</td>\n",
       "    </tr>\n",
       "    <tr>\n",
       "      <th>SQBdependency</th>\n",
       "      <td>0.028860</td>\n",
       "    </tr>\n",
       "    <tr>\n",
       "      <th>overcrowding</th>\n",
       "      <td>0.024594</td>\n",
       "    </tr>\n",
       "    <tr>\n",
       "      <th>SQBedjefe</th>\n",
       "      <td>0.023735</td>\n",
       "    </tr>\n",
       "    <tr>\n",
       "      <th>qmobilephone</th>\n",
       "      <td>0.023430</td>\n",
       "    </tr>\n",
       "    <tr>\n",
       "      <th>age</th>\n",
       "      <td>0.021883</td>\n",
       "    </tr>\n",
       "    <tr>\n",
       "      <th>SQBovercrowding</th>\n",
       "      <td>0.021024</td>\n",
       "    </tr>\n",
       "  </tbody>\n",
       "</table>\n",
       "</div>"
      ],
      "text/plain": [
       "                 importance\n",
       "v2a1               0.080843\n",
       "SQBmeaned          0.042663\n",
       "meaneduc           0.038621\n",
       "SQBhogar_nin       0.030007\n",
       "SQBdependency      0.028860\n",
       "overcrowding       0.024594\n",
       "SQBedjefe          0.023735\n",
       "qmobilephone       0.023430\n",
       "age                0.021883\n",
       "SQBovercrowding    0.021024"
      ]
     },
     "execution_count": 290,
     "metadata": {},
     "output_type": "execute_result"
    }
   ],
   "source": [
    "feature_importances = pd.DataFrame(clf_RF.feature_importances_,\n",
    "                                   index = X_train.columns,\n",
    "                                   columns=['importance']).sort_values('importance', \n",
    "                                   ascending=False)\n",
    "feature_importances.head(10)"
   ]
  },
  {
   "cell_type": "markdown",
   "metadata": {},
   "source": [
    "## XGB Classifier"
   ]
  },
  {
   "cell_type": "code",
   "execution_count": 291,
   "metadata": {},
   "outputs": [],
   "source": [
    "clf_xgb = xgb.XGBClassifier(max_depth=6,n_estimators=100, n_jobs=-1, subsample=.7)"
   ]
  },
  {
   "cell_type": "code",
   "execution_count": 292,
   "metadata": {},
   "outputs": [
    {
     "name": "stdout",
     "output_type": "stream",
     "text": [
      "[0]\tvalidation_0-merror:0.259516\tvalidation_1-merror:0.289749\n",
      "[1]\tvalidation_0-merror:0.237802\tvalidation_1-merror:0.265167\n",
      "[2]\tvalidation_0-merror:0.236625\tvalidation_1-merror:0.251569\n",
      "[3]\tvalidation_0-merror:0.221583\tvalidation_1-merror:0.23954\n",
      "[4]\tvalidation_0-merror:0.217659\tvalidation_1-merror:0.235879\n",
      "[5]\tvalidation_0-merror:0.217005\tvalidation_1-merror:0.237971\n",
      "[6]\tvalidation_0-merror:0.214127\tvalidation_1-merror:0.240586\n",
      "[7]\tvalidation_0-merror:0.210595\tvalidation_1-merror:0.235879\n",
      "[8]\tvalidation_0-merror:0.207587\tvalidation_1-merror:0.235879\n",
      "[9]\tvalidation_0-merror:0.2017\tvalidation_1-merror:0.235356\n",
      "[10]\tvalidation_0-merror:0.202485\tvalidation_1-merror:0.232741\n",
      "[11]\tvalidation_0-merror:0.203139\tvalidation_1-merror:0.232741\n",
      "[12]\tvalidation_0-merror:0.200392\tvalidation_1-merror:0.232218\n",
      "[13]\tvalidation_0-merror:0.199869\tvalidation_1-merror:0.231172\n",
      "[14]\tvalidation_0-merror:0.197122\tvalidation_1-merror:0.229079\n",
      "[15]\tvalidation_0-merror:0.194768\tvalidation_1-merror:0.225941\n",
      "[16]\tvalidation_0-merror:0.193721\tvalidation_1-merror:0.223326\n",
      "[17]\tvalidation_0-merror:0.193067\tvalidation_1-merror:0.220711\n",
      "[18]\tvalidation_0-merror:0.189797\tvalidation_1-merror:0.220711\n",
      "[19]\tvalidation_0-merror:0.189274\tvalidation_1-merror:0.219142\n",
      "[20]\tvalidation_0-merror:0.186527\tvalidation_1-merror:0.21705\n",
      "[21]\tvalidation_0-merror:0.183126\tvalidation_1-merror:0.214958\n",
      "[22]\tvalidation_0-merror:0.176717\tvalidation_1-merror:0.210251\n",
      "[23]\tvalidation_0-merror:0.175147\tvalidation_1-merror:0.210774\n",
      "[24]\tvalidation_0-merror:0.16913\tvalidation_1-merror:0.207113\n",
      "[25]\tvalidation_0-merror:0.167561\tvalidation_1-merror:0.204498\n",
      "[26]\tvalidation_0-merror:0.164944\tvalidation_1-merror:0.20659\n",
      "[27]\tvalidation_0-merror:0.164552\tvalidation_1-merror:0.205544\n",
      "[28]\tvalidation_0-merror:0.161936\tvalidation_1-merror:0.200314\n",
      "[29]\tvalidation_0-merror:0.15932\tvalidation_1-merror:0.199268\n",
      "[30]\tvalidation_0-merror:0.155788\tvalidation_1-merror:0.198222\n",
      "[31]\tvalidation_0-merror:0.152649\tvalidation_1-merror:0.19613\n",
      "[32]\tvalidation_0-merror:0.151341\tvalidation_1-merror:0.195607\n",
      "[33]\tvalidation_0-merror:0.151341\tvalidation_1-merror:0.193515\n",
      "[34]\tvalidation_0-merror:0.150033\tvalidation_1-merror:0.195084\n",
      "[35]\tvalidation_0-merror:0.147417\tvalidation_1-merror:0.193515\n",
      "[36]\tvalidation_0-merror:0.147155\tvalidation_1-merror:0.192469\n",
      "[37]\tvalidation_0-merror:0.144277\tvalidation_1-merror:0.190377\n",
      "[38]\tvalidation_0-merror:0.142577\tvalidation_1-merror:0.187762\n",
      "[39]\tvalidation_0-merror:0.140222\tvalidation_1-merror:0.185146\n",
      "[40]\tvalidation_0-merror:0.137475\tvalidation_1-merror:0.182008\n",
      "[41]\tvalidation_0-merror:0.135252\tvalidation_1-merror:0.179916\n",
      "[42]\tvalidation_0-merror:0.134205\tvalidation_1-merror:0.179393\n",
      "[43]\tvalidation_0-merror:0.132767\tvalidation_1-merror:0.179916\n",
      "[44]\tvalidation_0-merror:0.130543\tvalidation_1-merror:0.178347\n",
      "[45]\tvalidation_0-merror:0.12845\tvalidation_1-merror:0.174686\n",
      "[46]\tvalidation_0-merror:0.125703\tvalidation_1-merror:0.172594\n",
      "[47]\tvalidation_0-merror:0.123087\tvalidation_1-merror:0.171548\n",
      "[48]\tvalidation_0-merror:0.12191\tvalidation_1-merror:0.169456\n",
      "[49]\tvalidation_0-merror:0.118116\tvalidation_1-merror:0.170502\n",
      "[50]\tvalidation_0-merror:0.116416\tvalidation_1-merror:0.16841\n",
      "[51]\tvalidation_0-merror:0.1155\tvalidation_1-merror:0.167364\n",
      "[52]\tvalidation_0-merror:0.113669\tvalidation_1-merror:0.165795\n",
      "[53]\tvalidation_0-merror:0.111838\tvalidation_1-merror:0.165272\n",
      "[54]\tvalidation_0-merror:0.10896\tvalidation_1-merror:0.164749\n",
      "[55]\tvalidation_0-merror:0.107914\tvalidation_1-merror:0.162134\n",
      "[56]\tvalidation_0-merror:0.105821\tvalidation_1-merror:0.162134\n",
      "[57]\tvalidation_0-merror:0.104644\tvalidation_1-merror:0.159519\n",
      "[58]\tvalidation_0-merror:0.10399\tvalidation_1-merror:0.158996\n",
      "[59]\tvalidation_0-merror:0.101504\tvalidation_1-merror:0.158473\n",
      "[60]\tvalidation_0-merror:0.09915\tvalidation_1-merror:0.158996\n",
      "[61]\tvalidation_0-merror:0.098496\tvalidation_1-merror:0.156904\n",
      "[62]\tvalidation_0-merror:0.097188\tvalidation_1-merror:0.156381\n",
      "[63]\tvalidation_0-merror:0.094964\tvalidation_1-merror:0.153243\n",
      "[64]\tvalidation_0-merror:0.094441\tvalidation_1-merror:0.15272\n",
      "[65]\tvalidation_0-merror:0.093133\tvalidation_1-merror:0.153243\n",
      "[66]\tvalidation_0-merror:0.092086\tvalidation_1-merror:0.15272\n",
      "[67]\tvalidation_0-merror:0.090386\tvalidation_1-merror:0.150628\n",
      "[68]\tvalidation_0-merror:0.088424\tvalidation_1-merror:0.152197\n",
      "[69]\tvalidation_0-merror:0.08777\tvalidation_1-merror:0.151674\n",
      "[70]\tvalidation_0-merror:0.086069\tvalidation_1-merror:0.148013\n",
      "[71]\tvalidation_0-merror:0.084761\tvalidation_1-merror:0.148536\n",
      "[72]\tvalidation_0-merror:0.083061\tvalidation_1-merror:0.149582\n",
      "[73]\tvalidation_0-merror:0.081491\tvalidation_1-merror:0.148013\n",
      "[74]\tvalidation_0-merror:0.080968\tvalidation_1-merror:0.146967\n",
      "[75]\tvalidation_0-merror:0.080183\tvalidation_1-merror:0.14749\n",
      "[76]\tvalidation_0-merror:0.078483\tvalidation_1-merror:0.145921\n",
      "[77]\tvalidation_0-merror:0.076913\tvalidation_1-merror:0.146444\n",
      "[78]\tvalidation_0-merror:0.076128\tvalidation_1-merror:0.145921\n",
      "[79]\tvalidation_0-merror:0.075343\tvalidation_1-merror:0.146444\n",
      "[80]\tvalidation_0-merror:0.073381\tvalidation_1-merror:0.143828\n",
      "[81]\tvalidation_0-merror:0.072596\tvalidation_1-merror:0.141213\n",
      "[82]\tvalidation_0-merror:0.07155\tvalidation_1-merror:0.139121\n",
      "[83]\tvalidation_0-merror:0.070896\tvalidation_1-merror:0.138598\n",
      "[84]\tvalidation_0-merror:0.070634\tvalidation_1-merror:0.136506\n",
      "[85]\tvalidation_0-merror:0.068542\tvalidation_1-merror:0.137029\n",
      "[86]\tvalidation_0-merror:0.068411\tvalidation_1-merror:0.139121\n",
      "[87]\tvalidation_0-merror:0.067495\tvalidation_1-merror:0.139121\n",
      "[88]\tvalidation_0-merror:0.067233\tvalidation_1-merror:0.138598\n",
      "[89]\tvalidation_0-merror:0.065271\tvalidation_1-merror:0.138598\n",
      "[90]\tvalidation_0-merror:0.064487\tvalidation_1-merror:0.136506\n",
      "[91]\tvalidation_0-merror:0.062786\tvalidation_1-merror:0.134937\n",
      "[92]\tvalidation_0-merror:0.060955\tvalidation_1-merror:0.133368\n",
      "[93]\tvalidation_0-merror:0.060824\tvalidation_1-merror:0.133891\n",
      "[94]\tvalidation_0-merror:0.060432\tvalidation_1-merror:0.133368\n",
      "[95]\tvalidation_0-merror:0.059647\tvalidation_1-merror:0.133368\n",
      "[96]\tvalidation_0-merror:0.059254\tvalidation_1-merror:0.132845\n",
      "[97]\tvalidation_0-merror:0.0586\tvalidation_1-merror:0.131276\n",
      "[98]\tvalidation_0-merror:0.057816\tvalidation_1-merror:0.131799\n",
      "[99]\tvalidation_0-merror:0.056377\tvalidation_1-merror:0.13023\n"
     ]
    },
    {
     "data": {
      "text/plain": [
       "XGBClassifier(base_score=0.5, booster='gbtree', colsample_bylevel=1,\n",
       "       colsample_bynode=1, colsample_bytree=1, gamma=0, learning_rate=0.1,\n",
       "       max_delta_step=0, max_depth=6, min_child_weight=1, missing=None,\n",
       "       n_estimators=100, n_jobs=-1, nthread=None,\n",
       "       objective='multi:softprob', random_state=0, reg_alpha=0,\n",
       "       reg_lambda=1, scale_pos_weight=1, seed=None, silent=None,\n",
       "       subsample=0.7, verbosity=1)"
      ]
     },
     "execution_count": 292,
     "metadata": {},
     "output_type": "execute_result"
    }
   ],
   "source": [
    "clf_xgb.fit(X_train, y_train, eval_set=[(X_train, y_train), (X_test, y_test)], verbose=True)"
   ]
  },
  {
   "cell_type": "code",
   "execution_count": 293,
   "metadata": {},
   "outputs": [
    {
     "data": {
      "text/plain": [
       "0.8697698744769874"
      ]
     },
     "execution_count": 293,
     "metadata": {},
     "output_type": "execute_result"
    }
   ],
   "source": [
    "clf_xgb.score(X_test, y_test)"
   ]
  },
  {
   "cell_type": "code",
   "execution_count": 294,
   "metadata": {},
   "outputs": [
    {
     "data": {
      "text/plain": [
       "0.8003930331587177"
      ]
     },
     "execution_count": 294,
     "metadata": {},
     "output_type": "execute_result"
    }
   ],
   "source": [
    "y_pred_xgb = clf_xgb.predict(X_test)\n",
    "\n",
    "f1_xgb_rent = f1_score(y_test, y_pred_xgb, average='macro')\n",
    "f1_xgb_rent"
   ]
  },
  {
   "cell_type": "markdown",
   "metadata": {},
   "source": [
    "### Feature Importance (XGBoost)"
   ]
  },
  {
   "cell_type": "code",
   "execution_count": 295,
   "metadata": {
    "scrolled": true
   },
   "outputs": [
    {
     "data": {
      "text/plain": [
       "<matplotlib.axes._subplots.AxesSubplot at 0x7f9d9864f208>"
      ]
     },
     "execution_count": 295,
     "metadata": {},
     "output_type": "execute_result"
    },
    {
     "data": {
      "image/png": "[encoded data removed]",
      "text/plain": [
       "<Figure size 432x288 with 1 Axes>"
      ]
     },
     "metadata": {},
     "output_type": "display_data"
    }
   ],
   "source": [
    "xgb.plot_importance(clf_xgb, max_num_features=20)"
   ]
  },
  {
   "cell_type": "markdown",
   "metadata": {},
   "source": [
    "## Comparison of Models (No Rent vs Rent)"
   ]
  },
  {
   "cell_type": "code",
   "execution_count": 296,
   "metadata": {},
   "outputs": [
    {
     "name": "stdout",
     "output_type": "stream",
     "text": [
      "Change in f1 with predicted rent values:\n",
      "\n",
      "Linear Regression:\t  -0.00023\n",
      "Logistic Regression:\t -0.05777\n",
      "Support Vector Machines: -0.01175\n",
      "Random Forrest:\t\t  0.00933\n",
      "XGBoost:\t\t 0.0116\n"
     ]
    }
   ],
   "source": [
    "print(\"Change in f1 with predicted rent values:\\n\")\n",
    "\n",
    "# Linear Regression\n",
    "print(\"Linear Regression:\\t \", round(f1_linear_rent - f1_linear, 5))\n",
    "\n",
    "# Multiple Logistic Regression\n",
    "print(\"Logistic Regression:\\t\", round(f1_logistic_rent - f1_logistic, 5))\n",
    "\n",
    "# SVM\n",
    "print(\"Support Vector Machines:\", round(f1_SVM_rent - f1_SVM, 5))\n",
    "\n",
    "# Random Forrest\n",
    "print(\"Random Forrest:\\t\\t \", round(f1_RF_rent - f1_RF, 5))\n",
    "\n",
    "# XGB\n",
    "print(\"XGBoost:\\t\\t\", round(f1_xgb_rent - f1_xgb, 5))"
   ]
  },
  {
   "cell_type": "markdown",
   "metadata": {},
   "source": [
    "### Random Forest vs XGBoost"
   ]
  },
  {
   "cell_type": "code",
   "execution_count": 297,
   "metadata": {
    "scrolled": false
   },
   "outputs": [
    {
     "name": "stdout",
     "output_type": "stream",
     "text": [
      "NO RENT (RF) 0.8397878195133621\n",
      "W/ RENT (RF) 0.8491196917363437\n",
      "NO RENT (XGB) 0.7887912428409045\n",
      "W/ RENT (XGB) 0.8003930331587177\n"
     ]
    }
   ],
   "source": [
    "print(\"NO RENT (RF)\", f1_RF)\n",
    "print(\"W/ RENT (RF)\", f1_RF_rent)\n",
    "print(\"NO RENT (XGB)\", f1_xgb)\n",
    "print(\"W/ RENT (XGB)\", f1_xgb_rent)"
   ]
  },
  {
   "cell_type": "markdown",
   "metadata": {},
   "source": [
    "# Classification with Predicted Rent Values AND Tranformations"
   ]
  },
  {
   "cell_type": "code",
   "execution_count": 298,
   "metadata": {},
   "outputs": [
    {
     "name": "stdout",
     "output_type": "stream",
     "text": [
      "(9557, 141)\n",
      "(9557,)\n"
     ]
    }
   ],
   "source": [
    "# Load dataframe \n",
    "df_trans = pd.read_pickle('df_trans.pkl')\n",
    "\n",
    "# Partition explanatory and response variables\n",
    "X = df_trans.drop(columns='Target')\n",
    "print(X.shape)\n",
    "\n",
    "y = df_trans['Target']\n",
    "print(y.shape)"
   ]
  },
  {
   "cell_type": "code",
   "execution_count": 299,
   "metadata": {},
   "outputs": [],
   "source": [
    "X_train, X_test, y_train, y_test = train_test_split(X, y, test_size = 0.2, stratify=y, random_state=12345)"
   ]
  },
  {
   "cell_type": "markdown",
   "metadata": {},
   "source": [
    "## Linear Regression"
   ]
  },
  {
   "cell_type": "code",
   "execution_count": 300,
   "metadata": {},
   "outputs": [],
   "source": [
    "clf_linear = LinearRegression()"
   ]
  },
  {
   "cell_type": "code",
   "execution_count": 301,
   "metadata": {
    "scrolled": true
   },
   "outputs": [
    {
     "data": {
      "text/plain": [
       "LinearRegression(copy_X=True, fit_intercept=True, n_jobs=None,\n",
       "         normalize=False)"
      ]
     },
     "execution_count": 301,
     "metadata": {},
     "output_type": "execute_result"
    }
   ],
   "source": [
    "clf_linear.fit(X_train, y_train)"
   ]
  },
  {
   "cell_type": "code",
   "execution_count": 302,
   "metadata": {},
   "outputs": [
    {
     "data": {
      "text/plain": [
       "0.502092050209205"
      ]
     },
     "execution_count": 302,
     "metadata": {},
     "output_type": "execute_result"
    }
   ],
   "source": [
    "y_pred = clf_linear.predict(X_test)\n",
    "y_pred = y_pred.round()\n",
    "y_pred = y_pred.astype(int)\n",
    "\n",
    "df_test = pd.DataFrame([y_pred, y_test], index=['ypred', 'ytest'])\n",
    "df_test = df_test.transpose()\n",
    "df_test['correct'] = df_test['ypred'] == df_test['ytest']\n",
    "df_test.correct.mean()"
   ]
  },
  {
   "cell_type": "code",
   "execution_count": 303,
   "metadata": {
    "scrolled": true
   },
   "outputs": [
    {
     "name": "stderr",
     "output_type": "stream",
     "text": [
      "/home/nemosaic/.local/lib/python3.6/site-packages/sklearn/metrics/classification.py:1145: UndefinedMetricWarning: F-score is ill-defined and being set to 0.0 in labels with no true samples.\n",
      "  'recall', 'true', average, warn_for)\n"
     ]
    },
    {
     "data": {
      "text/plain": [
       "0.28907383571367773"
      ]
     },
     "execution_count": 303,
     "metadata": {},
     "output_type": "execute_result"
    }
   ],
   "source": [
    "f1_linear_trans = f1_score(y_test, y_pred, average='macro')\n",
    "f1_linear_trans"
   ]
  },
  {
   "cell_type": "markdown",
   "metadata": {},
   "source": [
    "## Multiclass Logistic"
   ]
  },
  {
   "cell_type": "code",
   "execution_count": 304,
   "metadata": {},
   "outputs": [],
   "source": [
    "clf_multiclass_logistic = LogisticRegressionCV(class_weight='balanced', multi_class='multinomial')"
   ]
  },
  {
   "cell_type": "code",
   "execution_count": 305,
   "metadata": {
    "scrolled": true
   },
   "outputs": [
    {
     "name": "stderr",
     "output_type": "stream",
     "text": [
      "/home/nemosaic/.local/lib/python3.6/site-packages/sklearn/model_selection/_split.py:2053: FutureWarning: You should specify a value for 'cv' instead of relying on the default value. The default value will change from 3 to 5 in version 0.22.\n",
      "  warnings.warn(CV_WARNING, FutureWarning)\n"
     ]
    },
    {
     "data": {
      "text/plain": [
       "LogisticRegressionCV(Cs=10, class_weight='balanced', cv='warn', dual=False,\n",
       "           fit_intercept=True, intercept_scaling=1.0, max_iter=100,\n",
       "           multi_class='multinomial', n_jobs=None, penalty='l2',\n",
       "           random_state=None, refit=True, scoring=None, solver='lbfgs',\n",
       "           tol=0.0001, verbose=0)"
      ]
     },
     "execution_count": 305,
     "metadata": {},
     "output_type": "execute_result"
    }
   ],
   "source": [
    "clf_multiclass_logistic.fit(X_train, y_train)"
   ]
  },
  {
   "cell_type": "code",
   "execution_count": 306,
   "metadata": {},
   "outputs": [
    {
     "data": {
      "text/plain": [
       "0.6265690376569037"
      ]
     },
     "execution_count": 306,
     "metadata": {},
     "output_type": "execute_result"
    }
   ],
   "source": [
    "clf_multiclass_logistic.score(X_test, y_test)"
   ]
  },
  {
   "cell_type": "code",
   "execution_count": 307,
   "metadata": {},
   "outputs": [
    {
     "name": "stderr",
     "output_type": "stream",
     "text": [
      "/home/nemosaic/.local/lib/python3.6/site-packages/sklearn/metrics/classification.py:1143: UndefinedMetricWarning: F-score is ill-defined and being set to 0.0 in labels with no predicted samples.\n",
      "  'precision', 'predicted', average, warn_for)\n"
     ]
    },
    {
     "data": {
      "text/plain": [
       "0.19260450160771705"
      ]
     },
     "execution_count": 307,
     "metadata": {},
     "output_type": "execute_result"
    }
   ],
   "source": [
    "y_pred_log_reg = clf_multiclass_logistic.predict(X_test)\n",
    "\n",
    "f1_logistic_trans = f1_score(y_test, y_pred_log_reg, average='macro')\n",
    "f1_logistic_trans"
   ]
  },
  {
   "cell_type": "markdown",
   "metadata": {},
   "source": [
    "## SVM"
   ]
  },
  {
   "cell_type": "code",
   "execution_count": 308,
   "metadata": {},
   "outputs": [],
   "source": [
    "clf_SVM = SVC()"
   ]
  },
  {
   "cell_type": "code",
   "execution_count": 309,
   "metadata": {
    "scrolled": true
   },
   "outputs": [
    {
     "name": "stderr",
     "output_type": "stream",
     "text": [
      "/home/nemosaic/.local/lib/python3.6/site-packages/sklearn/svm/base.py:196: FutureWarning: The default value of gamma will change from 'auto' to 'scale' in version 0.22 to account better for unscaled features. Set gamma explicitly to 'auto' or 'scale' to avoid this warning.\n",
      "  \"avoid this warning.\", FutureWarning)\n"
     ]
    },
    {
     "data": {
      "text/plain": [
       "SVC(C=1.0, cache_size=200, class_weight=None, coef0=0.0,\n",
       "  decision_function_shape='ovr', degree=3, gamma='auto_deprecated',\n",
       "  kernel='rbf', max_iter=-1, probability=False, random_state=None,\n",
       "  shrinking=True, tol=0.001, verbose=False)"
      ]
     },
     "execution_count": 309,
     "metadata": {},
     "output_type": "execute_result"
    }
   ],
   "source": [
    "clf_SVM.fit(X_train, y_train)"
   ]
  },
  {
   "cell_type": "code",
   "execution_count": 310,
   "metadata": {},
   "outputs": [
    {
     "data": {
      "text/plain": [
       "0.6312761506276151"
      ]
     },
     "execution_count": 310,
     "metadata": {},
     "output_type": "execute_result"
    }
   ],
   "source": [
    "clf_SVM.score(X_test, y_test)"
   ]
  },
  {
   "cell_type": "code",
   "execution_count": 311,
   "metadata": {},
   "outputs": [
    {
     "data": {
      "text/plain": [
       "0.20629985121149627"
      ]
     },
     "execution_count": 311,
     "metadata": {},
     "output_type": "execute_result"
    }
   ],
   "source": [
    "y_pred_SVM = clf_SVM.predict(X_test)\n",
    "\n",
    "f1_SVM_trans = f1_score(y_test, y_pred_SVM, average='macro')\n",
    "f1_SVM_trans"
   ]
  },
  {
   "cell_type": "markdown",
   "metadata": {},
   "source": [
    "## Random Forests"
   ]
  },
  {
   "cell_type": "code",
   "execution_count": 312,
   "metadata": {},
   "outputs": [],
   "source": [
    "clf_RF = RandomForestClassifier()"
   ]
  },
  {
   "cell_type": "code",
   "execution_count": 313,
   "metadata": {},
   "outputs": [
    {
     "name": "stderr",
     "output_type": "stream",
     "text": [
      "/home/nemosaic/.local/lib/python3.6/site-packages/sklearn/ensemble/forest.py:246: FutureWarning: The default value of n_estimators will change from 10 in version 0.20 to 100 in 0.22.\n",
      "  \"10 in version 0.20 to 100 in 0.22.\", FutureWarning)\n"
     ]
    },
    {
     "data": {
      "text/plain": [
       "RandomForestClassifier(bootstrap=True, class_weight=None, criterion='gini',\n",
       "            max_depth=None, max_features='auto', max_leaf_nodes=None,\n",
       "            min_impurity_decrease=0.0, min_impurity_split=None,\n",
       "            min_samples_leaf=1, min_samples_split=2,\n",
       "            min_weight_fraction_leaf=0.0, n_estimators=10, n_jobs=None,\n",
       "            oob_score=False, random_state=None, verbose=0,\n",
       "            warm_start=False)"
      ]
     },
     "execution_count": 313,
     "metadata": {},
     "output_type": "execute_result"
    }
   ],
   "source": [
    "clf_RF.fit(X_train, y_train)"
   ]
  },
  {
   "cell_type": "code",
   "execution_count": 314,
   "metadata": {},
   "outputs": [
    {
     "data": {
      "text/plain": [
       "0.9131799163179917"
      ]
     },
     "execution_count": 314,
     "metadata": {},
     "output_type": "execute_result"
    }
   ],
   "source": [
    "clf_RF.score(X_test, y_test)"
   ]
  },
  {
   "cell_type": "code",
   "execution_count": 315,
   "metadata": {},
   "outputs": [
    {
     "data": {
      "text/plain": [
       "0.8686515274795253"
      ]
     },
     "execution_count": 315,
     "metadata": {},
     "output_type": "execute_result"
    }
   ],
   "source": [
    "y_pred_RF = clf_RF.predict(X_test)\n",
    "\n",
    "f1_RF_trans = f1_score(y_test, y_pred_RF, average='macro')\n",
    "f1_RF_trans"
   ]
  },
  {
   "cell_type": "code",
   "execution_count": 316,
   "metadata": {},
   "outputs": [
    {
     "data": {
      "text/html": [
       "<div>\n",
       "<style scoped>\n",
       "    .dataframe tbody tr th:only-of-type {\n",
       "        vertical-align: middle;\n",
       "    }\n",
       "\n",
       "    .dataframe tbody tr th {\n",
       "        vertical-align: top;\n",
       "    }\n",
       "\n",
       "    .dataframe thead th {\n",
       "        text-align: right;\n",
       "    }\n",
       "</style>\n",
       "<table border=\"1\" class=\"dataframe\">\n",
       "  <thead>\n",
       "    <tr style=\"text-align: right;\">\n",
       "      <th></th>\n",
       "      <th>importance</th>\n",
       "    </tr>\n",
       "  </thead>\n",
       "  <tbody>\n",
       "    <tr>\n",
       "      <th>SQ_v2a1</th>\n",
       "      <td>0.062199</td>\n",
       "    </tr>\n",
       "    <tr>\n",
       "      <th>v2a1</th>\n",
       "      <td>0.044491</td>\n",
       "    </tr>\n",
       "    <tr>\n",
       "      <th>meaneduc</th>\n",
       "      <td>0.039155</td>\n",
       "    </tr>\n",
       "    <tr>\n",
       "      <th>LOG_meaneduc</th>\n",
       "      <td>0.035290</td>\n",
       "    </tr>\n",
       "    <tr>\n",
       "      <th>SQBmeaned</th>\n",
       "      <td>0.032853</td>\n",
       "    </tr>\n",
       "    <tr>\n",
       "      <th>SQBdependency</th>\n",
       "      <td>0.031855</td>\n",
       "    </tr>\n",
       "    <tr>\n",
       "      <th>SQBovercrowding</th>\n",
       "      <td>0.024213</td>\n",
       "    </tr>\n",
       "    <tr>\n",
       "      <th>SQBhogar_nin</th>\n",
       "      <td>0.020355</td>\n",
       "    </tr>\n",
       "    <tr>\n",
       "      <th>SQ_overcrowding</th>\n",
       "      <td>0.020243</td>\n",
       "    </tr>\n",
       "    <tr>\n",
       "      <th>SQBedjefe</th>\n",
       "      <td>0.018429</td>\n",
       "    </tr>\n",
       "  </tbody>\n",
       "</table>\n",
       "</div>"
      ],
      "text/plain": [
       "                 importance\n",
       "SQ_v2a1            0.062199\n",
       "v2a1               0.044491\n",
       "meaneduc           0.039155\n",
       "LOG_meaneduc       0.035290\n",
       "SQBmeaned          0.032853\n",
       "SQBdependency      0.031855\n",
       "SQBovercrowding    0.024213\n",
       "SQBhogar_nin       0.020355\n",
       "SQ_overcrowding    0.020243\n",
       "SQBedjefe          0.018429"
      ]
     },
     "execution_count": 316,
     "metadata": {},
     "output_type": "execute_result"
    }
   ],
   "source": [
    "feature_importances = pd.DataFrame(clf_RF.feature_importances_,\n",
    "                                   index = X_train.columns,\n",
    "                                   columns=['importance']).sort_values('importance', \n",
    "                                   ascending=False)\n",
    "feature_importances.head(10)"
   ]
  },
  {
   "cell_type": "markdown",
   "metadata": {},
   "source": [
    "## XGB Classifier"
   ]
  },
  {
   "cell_type": "code",
   "execution_count": 317,
   "metadata": {},
   "outputs": [],
   "source": [
    "clf_xgb = xgb.XGBClassifier(max_depth=6,n_estimators=100, n_jobs=-1, subsample=.7)"
   ]
  },
  {
   "cell_type": "code",
   "execution_count": 318,
   "metadata": {},
   "outputs": [
    {
     "name": "stdout",
     "output_type": "stream",
     "text": [
      "[0]\tvalidation_0-merror:0.258077\tvalidation_1-merror:0.290795\n",
      "[1]\tvalidation_0-merror:0.236756\tvalidation_1-merror:0.265167\n",
      "[2]\tvalidation_0-merror:0.236756\tvalidation_1-merror:0.253661\n",
      "[3]\tvalidation_0-merror:0.223545\tvalidation_1-merror:0.241109\n",
      "[4]\tvalidation_0-merror:0.220929\tvalidation_1-merror:0.237971\n",
      "[5]\tvalidation_0-merror:0.216089\tvalidation_1-merror:0.235879\n",
      "[6]\tvalidation_0-merror:0.210988\tvalidation_1-merror:0.23431\n",
      "[7]\tvalidation_0-merror:0.209156\tvalidation_1-merror:0.233787\n",
      "[8]\tvalidation_0-merror:0.206933\tvalidation_1-merror:0.235356\n",
      "[9]\tvalidation_0-merror:0.20484\tvalidation_1-merror:0.236402\n",
      "[10]\tvalidation_0-merror:0.199608\tvalidation_1-merror:0.228556\n",
      "[11]\tvalidation_0-merror:0.200131\tvalidation_1-merror:0.228556\n",
      "[12]\tvalidation_0-merror:0.198823\tvalidation_1-merror:0.228033\n",
      "[13]\tvalidation_0-merror:0.196207\tvalidation_1-merror:0.230126\n",
      "[14]\tvalidation_0-merror:0.193852\tvalidation_1-merror:0.22751\n",
      "[15]\tvalidation_0-merror:0.191367\tvalidation_1-merror:0.224895\n",
      "[16]\tvalidation_0-merror:0.191367\tvalidation_1-merror:0.225941\n",
      "[17]\tvalidation_0-merror:0.189928\tvalidation_1-merror:0.224895\n",
      "[18]\tvalidation_0-merror:0.187574\tvalidation_1-merror:0.219142\n",
      "[19]\tvalidation_0-merror:0.185873\tvalidation_1-merror:0.221234\n",
      "[20]\tvalidation_0-merror:0.185612\tvalidation_1-merror:0.214435\n",
      "[21]\tvalidation_0-merror:0.179856\tvalidation_1-merror:0.209728\n",
      "[22]\tvalidation_0-merror:0.177894\tvalidation_1-merror:0.208159\n",
      "[23]\tvalidation_0-merror:0.174624\tvalidation_1-merror:0.205021\n",
      "[24]\tvalidation_0-merror:0.172139\tvalidation_1-merror:0.20659\n",
      "[25]\tvalidation_0-merror:0.16913\tvalidation_1-merror:0.201883\n",
      "[26]\tvalidation_0-merror:0.166776\tvalidation_1-merror:0.202406\n",
      "[27]\tvalidation_0-merror:0.166252\tvalidation_1-merror:0.199268\n",
      "[28]\tvalidation_0-merror:0.160235\tvalidation_1-merror:0.19613\n",
      "[29]\tvalidation_0-merror:0.157096\tvalidation_1-merror:0.194561\n",
      "[30]\tvalidation_0-merror:0.154742\tvalidation_1-merror:0.19613\n",
      "[31]\tvalidation_0-merror:0.152126\tvalidation_1-merror:0.194561\n",
      "[32]\tvalidation_0-merror:0.151079\tvalidation_1-merror:0.194038\n",
      "[33]\tvalidation_0-merror:0.150687\tvalidation_1-merror:0.195084\n",
      "[34]\tvalidation_0-merror:0.150948\tvalidation_1-merror:0.194038\n",
      "[35]\tvalidation_0-merror:0.14637\tvalidation_1-merror:0.1909\n",
      "[36]\tvalidation_0-merror:0.14467\tvalidation_1-merror:0.191423\n",
      "[37]\tvalidation_0-merror:0.143362\tvalidation_1-merror:0.188285\n",
      "[38]\tvalidation_0-merror:0.142315\tvalidation_1-merror:0.186192\n",
      "[39]\tvalidation_0-merror:0.140615\tvalidation_1-merror:0.185669\n",
      "[40]\tvalidation_0-merror:0.135775\tvalidation_1-merror:0.183054\n",
      "[41]\tvalidation_0-merror:0.134729\tvalidation_1-merror:0.182008\n",
      "[42]\tvalidation_0-merror:0.133028\tvalidation_1-merror:0.181485\n",
      "[43]\tvalidation_0-merror:0.133159\tvalidation_1-merror:0.180439\n",
      "[44]\tvalidation_0-merror:0.13015\tvalidation_1-merror:0.179393\n",
      "[45]\tvalidation_0-merror:0.130281\tvalidation_1-merror:0.177301\n",
      "[46]\tvalidation_0-merror:0.127011\tvalidation_1-merror:0.175209\n",
      "[47]\tvalidation_0-merror:0.125703\tvalidation_1-merror:0.174686\n",
      "[48]\tvalidation_0-merror:0.122302\tvalidation_1-merror:0.172594\n",
      "[49]\tvalidation_0-merror:0.119817\tvalidation_1-merror:0.172594\n",
      "[50]\tvalidation_0-merror:0.118901\tvalidation_1-merror:0.171548\n",
      "[51]\tvalidation_0-merror:0.116808\tvalidation_1-merror:0.169456\n",
      "[52]\tvalidation_0-merror:0.114716\tvalidation_1-merror:0.16841\n",
      "[53]\tvalidation_0-merror:0.113538\tvalidation_1-merror:0.165795\n",
      "[54]\tvalidation_0-merror:0.112361\tvalidation_1-merror:0.165795\n",
      "[55]\tvalidation_0-merror:0.108698\tvalidation_1-merror:0.163703\n",
      "[56]\tvalidation_0-merror:0.107783\tvalidation_1-merror:0.16318\n",
      "[57]\tvalidation_0-merror:0.10569\tvalidation_1-merror:0.162657\n",
      "[58]\tvalidation_0-merror:0.102681\tvalidation_1-merror:0.16318\n",
      "[59]\tvalidation_0-merror:0.101635\tvalidation_1-merror:0.159519\n",
      "[60]\tvalidation_0-merror:0.098627\tvalidation_1-merror:0.158996\n",
      "[61]\tvalidation_0-merror:0.097449\tvalidation_1-merror:0.158473\n",
      "[62]\tvalidation_0-merror:0.094964\tvalidation_1-merror:0.157427\n",
      "[63]\tvalidation_0-merror:0.093133\tvalidation_1-merror:0.157427\n",
      "[64]\tvalidation_0-merror:0.092086\tvalidation_1-merror:0.155335\n",
      "[65]\tvalidation_0-merror:0.090124\tvalidation_1-merror:0.154812\n",
      "[66]\tvalidation_0-merror:0.088816\tvalidation_1-merror:0.153243\n",
      "[67]\tvalidation_0-merror:0.087508\tvalidation_1-merror:0.15272\n",
      "[68]\tvalidation_0-merror:0.0862\tvalidation_1-merror:0.150105\n",
      "[69]\tvalidation_0-merror:0.083976\tvalidation_1-merror:0.150105\n",
      "[70]\tvalidation_0-merror:0.082407\tvalidation_1-merror:0.14749\n",
      "[71]\tvalidation_0-merror:0.082014\tvalidation_1-merror:0.149059\n",
      "[72]\tvalidation_0-merror:0.080576\tvalidation_1-merror:0.14749\n",
      "[73]\tvalidation_0-merror:0.079791\tvalidation_1-merror:0.149582\n",
      "[74]\tvalidation_0-merror:0.079137\tvalidation_1-merror:0.150105\n",
      "[75]\tvalidation_0-merror:0.077959\tvalidation_1-merror:0.149582\n",
      "[76]\tvalidation_0-merror:0.077959\tvalidation_1-merror:0.148013\n",
      "[77]\tvalidation_0-merror:0.076259\tvalidation_1-merror:0.146444\n",
      "[78]\tvalidation_0-merror:0.074951\tvalidation_1-merror:0.146967\n",
      "[79]\tvalidation_0-merror:0.072727\tvalidation_1-merror:0.144351\n",
      "[80]\tvalidation_0-merror:0.072989\tvalidation_1-merror:0.145397\n",
      "[81]\tvalidation_0-merror:0.072596\tvalidation_1-merror:0.143828\n",
      "[82]\tvalidation_0-merror:0.070504\tvalidation_1-merror:0.143305\n",
      "[83]\tvalidation_0-merror:0.070373\tvalidation_1-merror:0.141736\n",
      "[84]\tvalidation_0-merror:0.068934\tvalidation_1-merror:0.139644\n",
      "[85]\tvalidation_0-merror:0.068018\tvalidation_1-merror:0.138598\n",
      "[86]\tvalidation_0-merror:0.066972\tvalidation_1-merror:0.140167\n",
      "[87]\tvalidation_0-merror:0.06671\tvalidation_1-merror:0.14069\n",
      "[88]\tvalidation_0-merror:0.065925\tvalidation_1-merror:0.138598\n",
      "[89]\tvalidation_0-merror:0.065141\tvalidation_1-merror:0.138598\n",
      "[90]\tvalidation_0-merror:0.064356\tvalidation_1-merror:0.138598\n",
      "[91]\tvalidation_0-merror:0.062917\tvalidation_1-merror:0.137552\n",
      "[92]\tvalidation_0-merror:0.061609\tvalidation_1-merror:0.135983\n",
      "[93]\tvalidation_0-merror:0.061216\tvalidation_1-merror:0.135983\n",
      "[94]\tvalidation_0-merror:0.060562\tvalidation_1-merror:0.135983\n",
      "[95]\tvalidation_0-merror:0.059385\tvalidation_1-merror:0.133368\n",
      "[96]\tvalidation_0-merror:0.059124\tvalidation_1-merror:0.132845\n",
      "[97]\tvalidation_0-merror:0.058208\tvalidation_1-merror:0.131799\n",
      "[98]\tvalidation_0-merror:0.057162\tvalidation_1-merror:0.130753\n",
      "[99]\tvalidation_0-merror:0.056508\tvalidation_1-merror:0.128661\n"
     ]
    },
    {
     "data": {
      "text/plain": [
       "XGBClassifier(base_score=0.5, booster='gbtree', colsample_bylevel=1,\n",
       "       colsample_bynode=1, colsample_bytree=1, gamma=0, learning_rate=0.1,\n",
       "       max_delta_step=0, max_depth=6, min_child_weight=1, missing=None,\n",
       "       n_estimators=100, n_jobs=-1, nthread=None,\n",
       "       objective='multi:softprob', random_state=0, reg_alpha=0,\n",
       "       reg_lambda=1, scale_pos_weight=1, seed=None, silent=None,\n",
       "       subsample=0.7, verbosity=1)"
      ]
     },
     "execution_count": 318,
     "metadata": {},
     "output_type": "execute_result"
    }
   ],
   "source": [
    "clf_xgb.fit(X_train, y_train, eval_set=[(X_train, y_train), (X_test, y_test)], verbose=True)"
   ]
  },
  {
   "cell_type": "code",
   "execution_count": 319,
   "metadata": {},
   "outputs": [
    {
     "data": {
      "text/plain": [
       "0.8713389121338913"
      ]
     },
     "execution_count": 319,
     "metadata": {},
     "output_type": "execute_result"
    }
   ],
   "source": [
    "clf_xgb.score(X_test, y_test)"
   ]
  },
  {
   "cell_type": "code",
   "execution_count": 320,
   "metadata": {},
   "outputs": [
    {
     "data": {
      "text/plain": [
       "0.8015303013923214"
      ]
     },
     "execution_count": 320,
     "metadata": {},
     "output_type": "execute_result"
    }
   ],
   "source": [
    "y_pred_xgb = clf_xgb.predict(X_test)\n",
    "\n",
    "f1_xgb_trans = f1_score(y_test, y_pred_xgb, average='macro')\n",
    "f1_xgb_trans"
   ]
  },
  {
   "cell_type": "markdown",
   "metadata": {},
   "source": [
    "### Feature Importance (XGBoost)"
   ]
  },
  {
   "cell_type": "code",
   "execution_count": 321,
   "metadata": {
    "scrolled": true
   },
   "outputs": [
    {
     "data": {
      "text/plain": [
       "<matplotlib.axes._subplots.AxesSubplot at 0x7f9d983d8908>"
      ]
     },
     "execution_count": 321,
     "metadata": {},
     "output_type": "execute_result"
    },
    {
     "data": {
      "image/png": "[encoded data removed]",
      "text/plain": [
       "<Figure size 432x288 with 1 Axes>"
      ]
     },
     "metadata": {},
     "output_type": "display_data"
    }
   ],
   "source": [
    "xgb.plot_importance(clf_xgb, max_num_features=20)"
   ]
  },
  {
   "cell_type": "markdown",
   "metadata": {},
   "source": [
    "## Comparison of Models (Rent vs Rent with Transposed)"
   ]
  },
  {
   "cell_type": "code",
   "execution_count": 322,
   "metadata": {},
   "outputs": [
    {
     "name": "stdout",
     "output_type": "stream",
     "text": [
      "Change in f1 with predicted rent values and transposed features:\n",
      "\n",
      "Linear Regression:\t  0.00543\n",
      "Logistic Regression:\t -0.1368\n",
      "Support Vector Machines: -0.00368\n",
      "Random Forrest:\t\t  0.01953\n",
      "XGBoost:\t\t 0.00114\n"
     ]
    }
   ],
   "source": [
    "print(\"Change in f1 with predicted rent values and transposed features:\\n\")\n",
    "\n",
    "# Linear Regression\n",
    "print(\"Linear Regression:\\t \", round(f1_linear_trans - f1_linear_rent, 5))\n",
    "\n",
    "# Multiple Logistic Regression\n",
    "print(\"Logistic Regression:\\t\", round(f1_logistic_trans - f1_logistic_rent, 5))\n",
    "\n",
    "# SVM\n",
    "print(\"Support Vector Machines:\", round(f1_SVM_trans - f1_SVM_rent, 5))\n",
    "\n",
    "# Random Forrest\n",
    "print(\"Random Forrest:\\t\\t \", round(f1_RF_trans - f1_RF_rent, 5))\n",
    "\n",
    "# XGB\n",
    "print(\"XGBoost:\\t\\t\", round(f1_xgb_trans - f1_xgb_rent, 5))"
   ]
  },
  {
   "cell_type": "markdown",
   "metadata": {},
   "source": [
    "### Random Forest vs XGBoost"
   ]
  },
  {
   "cell_type": "code",
   "execution_count": 323,
   "metadata": {
    "scrolled": true
   },
   "outputs": [
    {
     "name": "stdout",
     "output_type": "stream",
     "text": [
      "RENT (RF)\t 0.8491196917363437\n",
      "RENT / TRANSFORMED (RF) 0.8686515274795253\n",
      "RENT (XGB)\t 0.8003930331587177\n",
      "RENT / TRANSFORMED (XGB) 0.8015303013923214\n"
     ]
    }
   ],
   "source": [
    "print(\"RENT (RF)\\t\", f1_RF_rent)\n",
    "print(\"RENT / TRANSFORMED (RF)\", f1_RF_trans)\n",
    "print(\"RENT (XGB)\\t\", f1_xgb_rent)\n",
    "print(\"RENT / TRANSFORMED (XGB)\", f1_xgb_trans)"
   ]
  }
 ],
 "metadata": {
  "kernelspec": {
   "display_name": "Python 3",
   "language": "python",
   "name": "python3"
  },
  "language_info": {
   "codemirror_mode": {
    "name": "ipython",
    "version": 3
   },
   "file_extension": ".py",
   "mimetype": "text/x-python",
   "name": "python",
   "nbconvert_exporter": "python",
   "pygments_lexer": "ipython3",
   "version": "3.6.7"
  }
 },
 "nbformat": 4,
 "nbformat_minor": 2
}
