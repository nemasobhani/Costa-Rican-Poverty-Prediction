{
 "cells": [
  {
   "cell_type": "markdown",
   "metadata": {},
   "source": [
    "# Costa Rican Household Poverty Level Prediction\n",
    "*From Kaggle ([competition link](https://www.kaggle.com/c/costa-rican-household-poverty-prediction))*\n",
    "  \n",
    "**By Nema Sobhani & David LaCharite**"
   ]
  },
  {
   "cell_type": "markdown",
   "metadata": {},
   "source": [
    "## Summary\n",
    "\n",
    "Income qualification for poor families in Costa Rica to determing need for aid. Data gathered from the *Inter-American Development Bank.*"
   ]
  },
  {
   "cell_type": "markdown",
   "metadata": {},
   "source": [
    "## Imports"
   ]
  },
  {
   "cell_type": "code",
   "execution_count": 98,
   "metadata": {},
   "outputs": [],
   "source": [
    "# General tools\n",
    "import pandas as pd\n",
    "import numpy as np\n",
    "\n",
    "# Functions\n",
    "from functions import *\n",
    "\n",
    "# Visualization\n",
    "import matplotlib.pyplot as plt\n",
    "%matplotlib inline\n",
    "import seaborn as sns\n",
    "from IPython.display import display\n",
    "pd.options.display.max_columns = None\n",
    "from pprint import pprint\n",
    "\n",
    "# Classification\n",
    "from sklearn.metrics import f1_score, confusion_matrix\n",
    "from sklearn.model_selection import train_test_split\n",
    "from sklearn.linear_model import LinearRegression, LogisticRegression, LogisticRegressionCV\n",
    "from sklearn.linear_model import RidgeCV, LassoCV, ElasticNetCV\n",
    "from sklearn.svm import SVC\n",
    "from sklearn.ensemble import RandomForestRegressor, RandomForestClassifier\n",
    "from sklearn.model_selection import GridSearchCV\n",
    "import xgboost as xgb\n",
    "from sklearn.feature_selection import SelectFromModel"
   ]
  },
  {
   "cell_type": "markdown",
   "metadata": {},
   "source": [
    "# Classification (Initial)"
   ]
  },
  {
   "cell_type": "code",
   "execution_count": 99,
   "metadata": {},
   "outputs": [
    {
     "name": "stdout",
     "output_type": "stream",
     "text": [
      "(9557, 135)\n",
      "(9557,)\n"
     ]
    }
   ],
   "source": [
    "# Load dataframe \n",
    "df = pd.read_pickle('df.pkl')\n",
    "\n",
    "# Partition explanatory and response variables\n",
    "X = df.drop(columns=['Target', 'Id', 'idhogar'])\n",
    "print(X.shape)\n",
    "\n",
    "y = df['Target']\n",
    "print(y.shape)"
   ]
  },
  {
   "cell_type": "code",
   "execution_count": 100,
   "metadata": {},
   "outputs": [],
   "source": [
    "X_train, X_test, y_train, y_test = train_test_split(X, y, test_size = 0.2, stratify=y, random_state=12345)"
   ]
  },
  {
   "cell_type": "markdown",
   "metadata": {},
   "source": [
    "## Linear Regression"
   ]
  },
  {
   "cell_type": "code",
   "execution_count": 101,
   "metadata": {},
   "outputs": [],
   "source": [
    "clf_linear = LinearRegression()"
   ]
  },
  {
   "cell_type": "code",
   "execution_count": 102,
   "metadata": {
    "scrolled": true
   },
   "outputs": [
    {
     "data": {
      "text/plain": [
       "LinearRegression(copy_X=True, fit_intercept=True, n_jobs=None,\n",
       "         normalize=False)"
      ]
     },
     "execution_count": 102,
     "metadata": {},
     "output_type": "execute_result"
    }
   ],
   "source": [
    "clf_linear.fit(X_train, y_train)"
   ]
  },
  {
   "cell_type": "code",
   "execution_count": 103,
   "metadata": {},
   "outputs": [
    {
     "data": {
      "text/plain": [
       "0.49476987447698745"
      ]
     },
     "execution_count": 103,
     "metadata": {},
     "output_type": "execute_result"
    }
   ],
   "source": [
    "y_pred = clf_linear.predict(X_test)\n",
    "y_pred = y_pred.round()\n",
    "y_pred = y_pred.astype(int)\n",
    "\n",
    "df_test = pd.DataFrame([y_pred, y_test], index=['ypred', 'ytest'])\n",
    "df_test = df_test.transpose()\n",
    "df_test['correct'] = df_test['ypred'] == df_test['ytest']\n",
    "df_test.correct.mean()"
   ]
  },
  {
   "cell_type": "code",
   "execution_count": 104,
   "metadata": {
    "scrolled": true
   },
   "outputs": [
    {
     "name": "stderr",
     "output_type": "stream",
     "text": [
      "/home/nemosaic/.local/lib/python3.6/site-packages/sklearn/metrics/classification.py:1145: UndefinedMetricWarning: F-score is ill-defined and being set to 0.0 in labels with no true samples.\n",
      "  'recall', 'true', average, warn_for)\n"
     ]
    },
    {
     "data": {
      "text/plain": [
       "0.28386560965239604"
      ]
     },
     "execution_count": 104,
     "metadata": {},
     "output_type": "execute_result"
    }
   ],
   "source": [
    "f1_linear = f1_score(y_test, y_pred, average='macro')\n",
    "f1_linear"
   ]
  },
  {
   "cell_type": "markdown",
   "metadata": {},
   "source": [
    "## Multiclass Logistic"
   ]
  },
  {
   "cell_type": "code",
   "execution_count": 105,
   "metadata": {},
   "outputs": [],
   "source": [
    "clf_multiclass_logistic = LogisticRegressionCV(class_weight='balanced', multi_class='multinomial')"
   ]
  },
  {
   "cell_type": "code",
   "execution_count": 106,
   "metadata": {
    "scrolled": true
   },
   "outputs": [
    {
     "name": "stderr",
     "output_type": "stream",
     "text": [
      "/home/nemosaic/.local/lib/python3.6/site-packages/sklearn/model_selection/_split.py:2053: FutureWarning: You should specify a value for 'cv' instead of relying on the default value. The default value will change from 3 to 5 in version 0.22.\n",
      "  warnings.warn(CV_WARNING, FutureWarning)\n",
      "/home/nemosaic/.local/lib/python3.6/site-packages/sklearn/linear_model/logistic.py:758: ConvergenceWarning: lbfgs failed to converge. Increase the number of iterations.\n",
      "  \"of iterations.\", ConvergenceWarning)\n",
      "/home/nemosaic/.local/lib/python3.6/site-packages/sklearn/linear_model/logistic.py:758: ConvergenceWarning: lbfgs failed to converge. Increase the number of iterations.\n",
      "  \"of iterations.\", ConvergenceWarning)\n",
      "/home/nemosaic/.local/lib/python3.6/site-packages/sklearn/linear_model/logistic.py:758: ConvergenceWarning: lbfgs failed to converge. Increase the number of iterations.\n",
      "  \"of iterations.\", ConvergenceWarning)\n",
      "/home/nemosaic/.local/lib/python3.6/site-packages/sklearn/linear_model/logistic.py:758: ConvergenceWarning: lbfgs failed to converge. Increase the number of iterations.\n",
      "  \"of iterations.\", ConvergenceWarning)\n"
     ]
    },
    {
     "data": {
      "text/plain": [
       "LogisticRegressionCV(Cs=10, class_weight='balanced', cv='warn', dual=False,\n",
       "           fit_intercept=True, intercept_scaling=1.0, max_iter=100,\n",
       "           multi_class='multinomial', n_jobs=None, penalty='l2',\n",
       "           random_state=None, refit=True, scoring=None, solver='lbfgs',\n",
       "           tol=0.0001, verbose=0)"
      ]
     },
     "execution_count": 106,
     "metadata": {},
     "output_type": "execute_result"
    }
   ],
   "source": [
    "clf_multiclass_logistic.fit(X_train, y_train)"
   ]
  },
  {
   "cell_type": "code",
   "execution_count": 107,
   "metadata": {},
   "outputs": [
    {
     "data": {
      "text/plain": [
       "0.5230125523012552"
      ]
     },
     "execution_count": 107,
     "metadata": {},
     "output_type": "execute_result"
    }
   ],
   "source": [
    "clf_multiclass_logistic.score(X_test, y_test)"
   ]
  },
  {
   "cell_type": "code",
   "execution_count": 108,
   "metadata": {},
   "outputs": [
    {
     "data": {
      "text/plain": [
       "0.3871799012694391"
      ]
     },
     "execution_count": 108,
     "metadata": {},
     "output_type": "execute_result"
    }
   ],
   "source": [
    "y_pred_log_reg = clf_multiclass_logistic.predict(X_test)\n",
    "\n",
    "f1_logistic = f1_score(y_test, y_pred_log_reg, average='macro')\n",
    "f1_logistic"
   ]
  },
  {
   "cell_type": "markdown",
   "metadata": {},
   "source": [
    "## SVM"
   ]
  },
  {
   "cell_type": "code",
   "execution_count": 109,
   "metadata": {},
   "outputs": [],
   "source": [
    "clf_SVM = SVC()"
   ]
  },
  {
   "cell_type": "code",
   "execution_count": 110,
   "metadata": {
    "scrolled": true
   },
   "outputs": [
    {
     "name": "stderr",
     "output_type": "stream",
     "text": [
      "/home/nemosaic/.local/lib/python3.6/site-packages/sklearn/svm/base.py:196: FutureWarning: The default value of gamma will change from 'auto' to 'scale' in version 0.22 to account better for unscaled features. Set gamma explicitly to 'auto' or 'scale' to avoid this warning.\n",
      "  \"avoid this warning.\", FutureWarning)\n"
     ]
    },
    {
     "data": {
      "text/plain": [
       "SVC(C=1.0, cache_size=200, class_weight=None, coef0=0.0,\n",
       "  decision_function_shape='ovr', degree=3, gamma='auto_deprecated',\n",
       "  kernel='rbf', max_iter=-1, probability=False, random_state=None,\n",
       "  shrinking=True, tol=0.001, verbose=False)"
      ]
     },
     "execution_count": 110,
     "metadata": {},
     "output_type": "execute_result"
    }
   ],
   "source": [
    "clf_SVM.fit(X_train, y_train)"
   ]
  },
  {
   "cell_type": "code",
   "execution_count": 111,
   "metadata": {},
   "outputs": [
    {
     "data": {
      "text/plain": [
       "0.6260460251046025"
      ]
     },
     "execution_count": 111,
     "metadata": {},
     "output_type": "execute_result"
    }
   ],
   "source": [
    "clf_SVM.score(X_test, y_test)"
   ]
  },
  {
   "cell_type": "code",
   "execution_count": 112,
   "metadata": {},
   "outputs": [
    {
     "data": {
      "text/plain": [
       "0.22173155053186192"
      ]
     },
     "execution_count": 112,
     "metadata": {},
     "output_type": "execute_result"
    }
   ],
   "source": [
    "y_pred_SVM = clf_SVM.predict(X_test)\n",
    "\n",
    "f1_SVM = f1_score(y_test, y_pred_SVM, average='macro')\n",
    "f1_SVM"
   ]
  },
  {
   "cell_type": "markdown",
   "metadata": {},
   "source": [
    "## Random Forest"
   ]
  },
  {
   "cell_type": "code",
   "execution_count": 113,
   "metadata": {},
   "outputs": [],
   "source": [
    "clf_RF = RandomForestClassifier()"
   ]
  },
  {
   "cell_type": "code",
   "execution_count": 114,
   "metadata": {},
   "outputs": [
    {
     "name": "stderr",
     "output_type": "stream",
     "text": [
      "/home/nemosaic/.local/lib/python3.6/site-packages/sklearn/ensemble/forest.py:246: FutureWarning: The default value of n_estimators will change from 10 in version 0.20 to 100 in 0.22.\n",
      "  \"10 in version 0.20 to 100 in 0.22.\", FutureWarning)\n"
     ]
    },
    {
     "data": {
      "text/plain": [
       "RandomForestClassifier(bootstrap=True, class_weight=None, criterion='gini',\n",
       "            max_depth=None, max_features='auto', max_leaf_nodes=None,\n",
       "            min_impurity_decrease=0.0, min_impurity_split=None,\n",
       "            min_samples_leaf=1, min_samples_split=2,\n",
       "            min_weight_fraction_leaf=0.0, n_estimators=10, n_jobs=None,\n",
       "            oob_score=False, random_state=None, verbose=0,\n",
       "            warm_start=False)"
      ]
     },
     "execution_count": 114,
     "metadata": {},
     "output_type": "execute_result"
    }
   ],
   "source": [
    "clf_RF.fit(X_train, y_train)"
   ]
  },
  {
   "cell_type": "code",
   "execution_count": 115,
   "metadata": {},
   "outputs": [
    {
     "data": {
      "text/plain": [
       "0.8985355648535565"
      ]
     },
     "execution_count": 115,
     "metadata": {},
     "output_type": "execute_result"
    }
   ],
   "source": [
    "clf_RF.score(X_test, y_test)"
   ]
  },
  {
   "cell_type": "code",
   "execution_count": 116,
   "metadata": {},
   "outputs": [
    {
     "data": {
      "text/plain": [
       "0.8466637910672062"
      ]
     },
     "execution_count": 116,
     "metadata": {},
     "output_type": "execute_result"
    }
   ],
   "source": [
    "y_pred_RF = clf_RF.predict(X_test)\n",
    "\n",
    "f1_RF = f1_score(y_test, y_pred_RF, average='macro')\n",
    "f1_RF"
   ]
  },
  {
   "cell_type": "code",
   "execution_count": 117,
   "metadata": {},
   "outputs": [
    {
     "data": {
      "text/html": [
       "<div>\n",
       "<style scoped>\n",
       "    .dataframe tbody tr th:only-of-type {\n",
       "        vertical-align: middle;\n",
       "    }\n",
       "\n",
       "    .dataframe tbody tr th {\n",
       "        vertical-align: top;\n",
       "    }\n",
       "\n",
       "    .dataframe thead th {\n",
       "        text-align: right;\n",
       "    }\n",
       "</style>\n",
       "<table border=\"1\" class=\"dataframe\">\n",
       "  <thead>\n",
       "    <tr style=\"text-align: right;\">\n",
       "      <th></th>\n",
       "      <th>importance</th>\n",
       "    </tr>\n",
       "  </thead>\n",
       "  <tbody>\n",
       "    <tr>\n",
       "      <th>meaneduc</th>\n",
       "      <td>0.057626</td>\n",
       "    </tr>\n",
       "    <tr>\n",
       "      <th>SQBmeaned</th>\n",
       "      <td>0.050892</td>\n",
       "    </tr>\n",
       "    <tr>\n",
       "      <th>SQBdependency</th>\n",
       "      <td>0.031181</td>\n",
       "    </tr>\n",
       "    <tr>\n",
       "      <th>SQBedjefe</th>\n",
       "      <td>0.027979</td>\n",
       "    </tr>\n",
       "    <tr>\n",
       "      <th>hogar_nin</th>\n",
       "      <td>0.027488</td>\n",
       "    </tr>\n",
       "    <tr>\n",
       "      <th>SQBovercrowding</th>\n",
       "      <td>0.027318</td>\n",
       "    </tr>\n",
       "    <tr>\n",
       "      <th>qmobilephone</th>\n",
       "      <td>0.026119</td>\n",
       "    </tr>\n",
       "    <tr>\n",
       "      <th>overcrowding</th>\n",
       "      <td>0.024214</td>\n",
       "    </tr>\n",
       "    <tr>\n",
       "      <th>rooms</th>\n",
       "      <td>0.020218</td>\n",
       "    </tr>\n",
       "    <tr>\n",
       "      <th>SQBage</th>\n",
       "      <td>0.019893</td>\n",
       "    </tr>\n",
       "  </tbody>\n",
       "</table>\n",
       "</div>"
      ],
      "text/plain": [
       "                 importance\n",
       "meaneduc           0.057626\n",
       "SQBmeaned          0.050892\n",
       "SQBdependency      0.031181\n",
       "SQBedjefe          0.027979\n",
       "hogar_nin          0.027488\n",
       "SQBovercrowding    0.027318\n",
       "qmobilephone       0.026119\n",
       "overcrowding       0.024214\n",
       "rooms              0.020218\n",
       "SQBage             0.019893"
      ]
     },
     "execution_count": 117,
     "metadata": {},
     "output_type": "execute_result"
    }
   ],
   "source": [
    "feature_importances = pd.DataFrame(clf_RF.feature_importances_,\n",
    "                                   index = X_train.columns,\n",
    "                                   columns=['importance']).sort_values('importance', \n",
    "                                   ascending=False)\n",
    "feature_importances.head(10)"
   ]
  },
  {
   "cell_type": "markdown",
   "metadata": {},
   "source": [
    "## XGB Classifier"
   ]
  },
  {
   "cell_type": "code",
   "execution_count": 118,
   "metadata": {},
   "outputs": [],
   "source": [
    "clf_xgb = xgb.XGBClassifier(max_depth=6,n_estimators=100, n_jobs=-1, subsample=.7)"
   ]
  },
  {
   "cell_type": "code",
   "execution_count": 119,
   "metadata": {},
   "outputs": [
    {
     "name": "stdout",
     "output_type": "stream",
     "text": [
      "[0]\tvalidation_0-merror:0.251929\tvalidation_1-merror:0.268828\n",
      "[1]\tvalidation_0-merror:0.238195\tvalidation_1-merror:0.258891\n",
      "[2]\tvalidation_0-merror:0.233224\tvalidation_1-merror:0.256276\n",
      "[3]\tvalidation_0-merror:0.228515\tvalidation_1-merror:0.245816\n",
      "[4]\tvalidation_0-merror:0.228646\tvalidation_1-merror:0.251046\n",
      "[5]\tvalidation_0-merror:0.223283\tvalidation_1-merror:0.250523\n",
      "[6]\tvalidation_0-merror:0.218967\tvalidation_1-merror:0.250523\n",
      "[7]\tvalidation_0-merror:0.219097\tvalidation_1-merror:0.246862\n",
      "[8]\tvalidation_0-merror:0.213996\tvalidation_1-merror:0.243724\n",
      "[9]\tvalidation_0-merror:0.212819\tvalidation_1-merror:0.239017\n",
      "[10]\tvalidation_0-merror:0.212034\tvalidation_1-merror:0.241632\n",
      "[11]\tvalidation_0-merror:0.210464\tvalidation_1-merror:0.238494\n",
      "[12]\tvalidation_0-merror:0.206148\tvalidation_1-merror:0.232741\n",
      "[13]\tvalidation_0-merror:0.205363\tvalidation_1-merror:0.230649\n",
      "[14]\tvalidation_0-merror:0.203401\tvalidation_1-merror:0.228033\n",
      "[15]\tvalidation_0-merror:0.201177\tvalidation_1-merror:0.224372\n",
      "[16]\tvalidation_0-merror:0.198561\tvalidation_1-merror:0.222803\n",
      "[17]\tvalidation_0-merror:0.194899\tvalidation_1-merror:0.22228\n",
      "[18]\tvalidation_0-merror:0.193329\tvalidation_1-merror:0.221234\n",
      "[19]\tvalidation_0-merror:0.191629\tvalidation_1-merror:0.221757\n",
      "[20]\tvalidation_0-merror:0.191759\tvalidation_1-merror:0.221234\n",
      "[21]\tvalidation_0-merror:0.188097\tvalidation_1-merror:0.218096\n",
      "[22]\tvalidation_0-merror:0.18692\tvalidation_1-merror:0.217573\n",
      "[23]\tvalidation_0-merror:0.186004\tvalidation_1-merror:0.218096\n",
      "[24]\tvalidation_0-merror:0.182603\tvalidation_1-merror:0.216004\n",
      "[25]\tvalidation_0-merror:0.184173\tvalidation_1-merror:0.218619\n",
      "[26]\tvalidation_0-merror:0.181687\tvalidation_1-merror:0.216527\n",
      "[27]\tvalidation_0-merror:0.179333\tvalidation_1-merror:0.216004\n",
      "[28]\tvalidation_0-merror:0.17567\tvalidation_1-merror:0.212866\n",
      "[29]\tvalidation_0-merror:0.173578\tvalidation_1-merror:0.211297\n",
      "[30]\tvalidation_0-merror:0.1724\tvalidation_1-merror:0.208682\n",
      "[31]\tvalidation_0-merror:0.171615\tvalidation_1-merror:0.208159\n",
      "[32]\tvalidation_0-merror:0.167953\tvalidation_1-merror:0.202929\n",
      "[33]\tvalidation_0-merror:0.165337\tvalidation_1-merror:0.20136\n",
      "[34]\tvalidation_0-merror:0.162852\tvalidation_1-merror:0.199268\n",
      "[35]\tvalidation_0-merror:0.158666\tvalidation_1-merror:0.195084\n",
      "[36]\tvalidation_0-merror:0.157358\tvalidation_1-merror:0.195607\n",
      "[37]\tvalidation_0-merror:0.154349\tvalidation_1-merror:0.192992\n",
      "[38]\tvalidation_0-merror:0.153041\tvalidation_1-merror:0.190377\n",
      "[39]\tvalidation_0-merror:0.150033\tvalidation_1-merror:0.1909\n",
      "[40]\tvalidation_0-merror:0.148071\tvalidation_1-merror:0.189854\n",
      "[41]\tvalidation_0-merror:0.145716\tvalidation_1-merror:0.185669\n",
      "[42]\tvalidation_0-merror:0.143623\tvalidation_1-merror:0.184623\n",
      "[43]\tvalidation_0-merror:0.142054\tvalidation_1-merror:0.182008\n",
      "[44]\tvalidation_0-merror:0.139961\tvalidation_1-merror:0.182531\n",
      "[45]\tvalidation_0-merror:0.13826\tvalidation_1-merror:0.183054\n",
      "[46]\tvalidation_0-merror:0.137083\tvalidation_1-merror:0.180962\n",
      "[47]\tvalidation_0-merror:0.135121\tvalidation_1-merror:0.181485\n",
      "[48]\tvalidation_0-merror:0.134336\tvalidation_1-merror:0.179393\n",
      "[49]\tvalidation_0-merror:0.132374\tvalidation_1-merror:0.178347\n",
      "[50]\tvalidation_0-merror:0.131458\tvalidation_1-merror:0.178347\n",
      "[51]\tvalidation_0-merror:0.130935\tvalidation_1-merror:0.178347\n",
      "[52]\tvalidation_0-merror:0.129235\tvalidation_1-merror:0.177301\n",
      "[53]\tvalidation_0-merror:0.127534\tvalidation_1-merror:0.178347\n",
      "[54]\tvalidation_0-merror:0.125572\tvalidation_1-merror:0.177301\n",
      "[55]\tvalidation_0-merror:0.123349\tvalidation_1-merror:0.176778\n",
      "[56]\tvalidation_0-merror:0.122825\tvalidation_1-merror:0.177301\n",
      "[57]\tvalidation_0-merror:0.122564\tvalidation_1-merror:0.177301\n",
      "[58]\tvalidation_0-merror:0.120733\tvalidation_1-merror:0.175732\n",
      "[59]\tvalidation_0-merror:0.118378\tvalidation_1-merror:0.175209\n",
      "[60]\tvalidation_0-merror:0.113931\tvalidation_1-merror:0.172071\n",
      "[61]\tvalidation_0-merror:0.112623\tvalidation_1-merror:0.172594\n",
      "[62]\tvalidation_0-merror:0.111184\tvalidation_1-merror:0.172071\n",
      "[63]\tvalidation_0-merror:0.110268\tvalidation_1-merror:0.171548\n",
      "[64]\tvalidation_0-merror:0.109876\tvalidation_1-merror:0.171548\n",
      "[65]\tvalidation_0-merror:0.108306\tvalidation_1-merror:0.169979\n",
      "[66]\tvalidation_0-merror:0.105428\tvalidation_1-merror:0.16841\n",
      "[67]\tvalidation_0-merror:0.10399\tvalidation_1-merror:0.167364\n",
      "[68]\tvalidation_0-merror:0.101504\tvalidation_1-merror:0.165272\n",
      "[69]\tvalidation_0-merror:0.100196\tvalidation_1-merror:0.164749\n",
      "[70]\tvalidation_0-merror:0.096141\tvalidation_1-merror:0.163703\n",
      "[71]\tvalidation_0-merror:0.094572\tvalidation_1-merror:0.162134\n",
      "[72]\tvalidation_0-merror:0.093918\tvalidation_1-merror:0.161611\n",
      "[73]\tvalidation_0-merror:0.093656\tvalidation_1-merror:0.161088\n",
      "[74]\tvalidation_0-merror:0.091694\tvalidation_1-merror:0.161611\n",
      "[75]\tvalidation_0-merror:0.09104\tvalidation_1-merror:0.160565\n",
      "[76]\tvalidation_0-merror:0.089732\tvalidation_1-merror:0.157427\n",
      "[77]\tvalidation_0-merror:0.088947\tvalidation_1-merror:0.156904\n",
      "[78]\tvalidation_0-merror:0.088424\tvalidation_1-merror:0.15795\n",
      "[79]\tvalidation_0-merror:0.087116\tvalidation_1-merror:0.155858\n",
      "[80]\tvalidation_0-merror:0.086593\tvalidation_1-merror:0.155858\n",
      "[81]\tvalidation_0-merror:0.085285\tvalidation_1-merror:0.154289\n",
      "[82]\tvalidation_0-merror:0.084238\tvalidation_1-merror:0.152197\n",
      "[83]\tvalidation_0-merror:0.082799\tvalidation_1-merror:0.149582\n",
      "[84]\tvalidation_0-merror:0.081884\tvalidation_1-merror:0.149059\n",
      "[85]\tvalidation_0-merror:0.080837\tvalidation_1-merror:0.146444\n",
      "[86]\tvalidation_0-merror:0.080576\tvalidation_1-merror:0.148013\n",
      "[87]\tvalidation_0-merror:0.078483\tvalidation_1-merror:0.148013\n",
      "[88]\tvalidation_0-merror:0.077959\tvalidation_1-merror:0.145397\n",
      "[89]\tvalidation_0-merror:0.076521\tvalidation_1-merror:0.146967\n",
      "[90]\tvalidation_0-merror:0.075474\tvalidation_1-merror:0.143305\n",
      "[91]\tvalidation_0-merror:0.07482\tvalidation_1-merror:0.143305\n",
      "[92]\tvalidation_0-merror:0.073643\tvalidation_1-merror:0.143828\n",
      "[93]\tvalidation_0-merror:0.07325\tvalidation_1-merror:0.142782\n",
      "[94]\tvalidation_0-merror:0.07312\tvalidation_1-merror:0.142782\n",
      "[95]\tvalidation_0-merror:0.072335\tvalidation_1-merror:0.14069\n",
      "[96]\tvalidation_0-merror:0.071158\tvalidation_1-merror:0.141213\n",
      "[97]\tvalidation_0-merror:0.070634\tvalidation_1-merror:0.141736\n",
      "[98]\tvalidation_0-merror:0.069065\tvalidation_1-merror:0.140167\n",
      "[99]\tvalidation_0-merror:0.067888\tvalidation_1-merror:0.139644\n"
     ]
    },
    {
     "data": {
      "text/plain": [
       "XGBClassifier(base_score=0.5, booster='gbtree', colsample_bylevel=1,\n",
       "       colsample_bynode=1, colsample_bytree=1, gamma=0, learning_rate=0.1,\n",
       "       max_delta_step=0, max_depth=6, min_child_weight=1, missing=None,\n",
       "       n_estimators=100, n_jobs=-1, nthread=None,\n",
       "       objective='multi:softprob', random_state=0, reg_alpha=0,\n",
       "       reg_lambda=1, scale_pos_weight=1, seed=None, silent=None,\n",
       "       subsample=0.7, verbosity=1)"
      ]
     },
     "execution_count": 119,
     "metadata": {},
     "output_type": "execute_result"
    }
   ],
   "source": [
    "clf_xgb.fit(X_train, y_train, eval_set=[(X_train, y_train), (X_test, y_test)], verbose=True)"
   ]
  },
  {
   "cell_type": "code",
   "execution_count": 120,
   "metadata": {},
   "outputs": [
    {
     "data": {
      "text/plain": [
       "0.8603556485355649"
      ]
     },
     "execution_count": 120,
     "metadata": {},
     "output_type": "execute_result"
    }
   ],
   "source": [
    "clf_xgb.score(X_test, y_test)"
   ]
  },
  {
   "cell_type": "code",
   "execution_count": 121,
   "metadata": {},
   "outputs": [
    {
     "data": {
      "text/plain": [
       "0.7887912428409045"
      ]
     },
     "execution_count": 121,
     "metadata": {},
     "output_type": "execute_result"
    }
   ],
   "source": [
    "y_pred_xgb = clf_xgb.predict(X_test)\n",
    "\n",
    "f1_xgb = f1_score(y_test, y_pred_xgb, average='macro')\n",
    "f1_xgb"
   ]
  },
  {
   "cell_type": "markdown",
   "metadata": {},
   "source": [
    "### Feature Importance (XGBoost)"
   ]
  },
  {
   "cell_type": "code",
   "execution_count": 122,
   "metadata": {
    "scrolled": true
   },
   "outputs": [
    {
     "data": {
      "text/plain": [
       "<matplotlib.axes._subplots.AxesSubplot at 0x7fae7f75cac8>"
      ]
     },
     "execution_count": 122,
     "metadata": {},
     "output_type": "execute_result"
    },
    {
     "data": {
      "image/png": "[encoded data removed]",
      "text/plain": [
       "<Figure size 432x288 with 1 Axes>"
      ]
     },
     "metadata": {},
     "output_type": "display_data"
    }
   ],
   "source": [
    "xgb.plot_importance(clf_xgb, max_num_features=20)"
   ]
  },
  {
   "cell_type": "markdown",
   "metadata": {},
   "source": [
    "# Classification with Predicted Rent Values"
   ]
  },
  {
   "cell_type": "code",
   "execution_count": 123,
   "metadata": {},
   "outputs": [
    {
     "name": "stdout",
     "output_type": "stream",
     "text": [
      "(9557, 136)\n",
      "(9557,)\n"
     ]
    }
   ],
   "source": [
    "# Load dataframe \n",
    "df_rent = pd.read_pickle('df_rent.pkl')\n",
    "\n",
    "# Partition explanatory and response variables\n",
    "X = df_rent.drop(columns=['Target', 'Id', 'idhogar'])\n",
    "print(X.shape)\n",
    "\n",
    "y = df_rent['Target']\n",
    "print(y.shape)"
   ]
  },
  {
   "cell_type": "code",
   "execution_count": 124,
   "metadata": {},
   "outputs": [],
   "source": [
    "X_train, X_test, y_train, y_test = train_test_split(X, y, test_size = 0.2, stratify=y, random_state=12345)"
   ]
  },
  {
   "cell_type": "markdown",
   "metadata": {},
   "source": [
    "## Linear Regression"
   ]
  },
  {
   "cell_type": "code",
   "execution_count": 125,
   "metadata": {},
   "outputs": [],
   "source": [
    "clf_linear = LinearRegression()"
   ]
  },
  {
   "cell_type": "code",
   "execution_count": 126,
   "metadata": {
    "scrolled": true
   },
   "outputs": [
    {
     "data": {
      "text/plain": [
       "LinearRegression(copy_X=True, fit_intercept=True, n_jobs=None,\n",
       "         normalize=False)"
      ]
     },
     "execution_count": 126,
     "metadata": {},
     "output_type": "execute_result"
    }
   ],
   "source": [
    "clf_linear.fit(X_train, y_train)"
   ]
  },
  {
   "cell_type": "code",
   "execution_count": 127,
   "metadata": {},
   "outputs": [
    {
     "data": {
      "text/plain": [
       "0.4942468619246862"
      ]
     },
     "execution_count": 127,
     "metadata": {},
     "output_type": "execute_result"
    }
   ],
   "source": [
    "y_pred = clf_linear.predict(X_test)\n",
    "y_pred = y_pred.round()\n",
    "y_pred = y_pred.astype(int)\n",
    "\n",
    "df_test = pd.DataFrame([y_pred, y_test], index=['ypred', 'ytest'])\n",
    "df_test = df_test.transpose()\n",
    "df_test['correct'] = df_test['ypred'] == df_test['ytest']\n",
    "df_test.correct.mean()"
   ]
  },
  {
   "cell_type": "code",
   "execution_count": 128,
   "metadata": {
    "scrolled": true
   },
   "outputs": [
    {
     "name": "stderr",
     "output_type": "stream",
     "text": [
      "/home/nemosaic/.local/lib/python3.6/site-packages/sklearn/metrics/classification.py:1145: UndefinedMetricWarning: F-score is ill-defined and being set to 0.0 in labels with no true samples.\n",
      "  'recall', 'true', average, warn_for)\n"
     ]
    },
    {
     "data": {
      "text/plain": [
       "0.2840276240621904"
      ]
     },
     "execution_count": 128,
     "metadata": {},
     "output_type": "execute_result"
    }
   ],
   "source": [
    "f1_linear_rent = f1_score(y_test, y_pred, average='macro')\n",
    "f1_linear_rent"
   ]
  },
  {
   "cell_type": "markdown",
   "metadata": {},
   "source": [
    "## Multiclass Logistic"
   ]
  },
  {
   "cell_type": "code",
   "execution_count": 129,
   "metadata": {},
   "outputs": [],
   "source": [
    "clf_multiclass_logistic = LogisticRegressionCV(class_weight='balanced', multi_class='multinomial')"
   ]
  },
  {
   "cell_type": "code",
   "execution_count": 130,
   "metadata": {
    "scrolled": true
   },
   "outputs": [
    {
     "name": "stderr",
     "output_type": "stream",
     "text": [
      "/home/nemosaic/.local/lib/python3.6/site-packages/sklearn/model_selection/_split.py:2053: FutureWarning: You should specify a value for 'cv' instead of relying on the default value. The default value will change from 3 to 5 in version 0.22.\n",
      "  warnings.warn(CV_WARNING, FutureWarning)\n",
      "/home/nemosaic/.local/lib/python3.6/site-packages/sklearn/linear_model/logistic.py:758: ConvergenceWarning: lbfgs failed to converge. Increase the number of iterations.\n",
      "  \"of iterations.\", ConvergenceWarning)\n",
      "/home/nemosaic/.local/lib/python3.6/site-packages/sklearn/linear_model/logistic.py:758: ConvergenceWarning: lbfgs failed to converge. Increase the number of iterations.\n",
      "  \"of iterations.\", ConvergenceWarning)\n",
      "/home/nemosaic/.local/lib/python3.6/site-packages/sklearn/linear_model/logistic.py:758: ConvergenceWarning: lbfgs failed to converge. Increase the number of iterations.\n",
      "  \"of iterations.\", ConvergenceWarning)\n",
      "/home/nemosaic/.local/lib/python3.6/site-packages/sklearn/linear_model/logistic.py:758: ConvergenceWarning: lbfgs failed to converge. Increase the number of iterations.\n",
      "  \"of iterations.\", ConvergenceWarning)\n"
     ]
    },
    {
     "data": {
      "text/plain": [
       "LogisticRegressionCV(Cs=10, class_weight='balanced', cv='warn', dual=False,\n",
       "           fit_intercept=True, intercept_scaling=1.0, max_iter=100,\n",
       "           multi_class='multinomial', n_jobs=None, penalty='l2',\n",
       "           random_state=None, refit=True, scoring=None, solver='lbfgs',\n",
       "           tol=0.0001, verbose=0)"
      ]
     },
     "execution_count": 130,
     "metadata": {},
     "output_type": "execute_result"
    }
   ],
   "source": [
    "clf_multiclass_logistic.fit(X_train, y_train)"
   ]
  },
  {
   "cell_type": "code",
   "execution_count": 131,
   "metadata": {},
   "outputs": [
    {
     "data": {
      "text/plain": [
       "0.5543933054393305"
      ]
     },
     "execution_count": 131,
     "metadata": {},
     "output_type": "execute_result"
    }
   ],
   "source": [
    "clf_multiclass_logistic.score(X_test, y_test)"
   ]
  },
  {
   "cell_type": "code",
   "execution_count": 132,
   "metadata": {},
   "outputs": [
    {
     "data": {
      "text/plain": [
       "0.3281125951130635"
      ]
     },
     "execution_count": 132,
     "metadata": {},
     "output_type": "execute_result"
    }
   ],
   "source": [
    "y_pred_log_reg = clf_multiclass_logistic.predict(X_test)\n",
    "\n",
    "f1_logistic_rent = f1_score(y_test, y_pred_log_reg, average='macro')\n",
    "f1_logistic_rent"
   ]
  },
  {
   "cell_type": "markdown",
   "metadata": {},
   "source": [
    "## SVM"
   ]
  },
  {
   "cell_type": "code",
   "execution_count": 133,
   "metadata": {},
   "outputs": [],
   "source": [
    "clf_SVM = SVC()"
   ]
  },
  {
   "cell_type": "code",
   "execution_count": 134,
   "metadata": {
    "scrolled": true
   },
   "outputs": [
    {
     "name": "stderr",
     "output_type": "stream",
     "text": [
      "/home/nemosaic/.local/lib/python3.6/site-packages/sklearn/svm/base.py:196: FutureWarning: The default value of gamma will change from 'auto' to 'scale' in version 0.22 to account better for unscaled features. Set gamma explicitly to 'auto' or 'scale' to avoid this warning.\n",
      "  \"avoid this warning.\", FutureWarning)\n"
     ]
    },
    {
     "data": {
      "text/plain": [
       "SVC(C=1.0, cache_size=200, class_weight=None, coef0=0.0,\n",
       "  decision_function_shape='ovr', degree=3, gamma='auto_deprecated',\n",
       "  kernel='rbf', max_iter=-1, probability=False, random_state=None,\n",
       "  shrinking=True, tol=0.001, verbose=False)"
      ]
     },
     "execution_count": 134,
     "metadata": {},
     "output_type": "execute_result"
    }
   ],
   "source": [
    "clf_SVM.fit(X_train, y_train)"
   ]
  },
  {
   "cell_type": "code",
   "execution_count": 135,
   "metadata": {},
   "outputs": [
    {
     "data": {
      "text/plain": [
       "0.6323221757322176"
      ]
     },
     "execution_count": 135,
     "metadata": {},
     "output_type": "execute_result"
    }
   ],
   "source": [
    "clf_SVM.score(X_test, y_test)"
   ]
  },
  {
   "cell_type": "code",
   "execution_count": 136,
   "metadata": {},
   "outputs": [
    {
     "data": {
      "text/plain": [
       "0.2099798668643043"
      ]
     },
     "execution_count": 136,
     "metadata": {},
     "output_type": "execute_result"
    }
   ],
   "source": [
    "y_pred_SVM = clf_SVM.predict(X_test)\n",
    "\n",
    "f1_SVM_rent = f1_score(y_test, y_pred_SVM, average='macro')\n",
    "f1_SVM_rent"
   ]
  },
  {
   "cell_type": "markdown",
   "metadata": {},
   "source": [
    "## Random Forests"
   ]
  },
  {
   "cell_type": "code",
   "execution_count": 137,
   "metadata": {},
   "outputs": [],
   "source": [
    "clf_RF = RandomForestClassifier()"
   ]
  },
  {
   "cell_type": "code",
   "execution_count": 138,
   "metadata": {},
   "outputs": [
    {
     "name": "stderr",
     "output_type": "stream",
     "text": [
      "/home/nemosaic/.local/lib/python3.6/site-packages/sklearn/ensemble/forest.py:246: FutureWarning: The default value of n_estimators will change from 10 in version 0.20 to 100 in 0.22.\n",
      "  \"10 in version 0.20 to 100 in 0.22.\", FutureWarning)\n"
     ]
    },
    {
     "data": {
      "text/plain": [
       "RandomForestClassifier(bootstrap=True, class_weight=None, criterion='gini',\n",
       "            max_depth=None, max_features='auto', max_leaf_nodes=None,\n",
       "            min_impurity_decrease=0.0, min_impurity_split=None,\n",
       "            min_samples_leaf=1, min_samples_split=2,\n",
       "            min_weight_fraction_leaf=0.0, n_estimators=10, n_jobs=None,\n",
       "            oob_score=False, random_state=None, verbose=0,\n",
       "            warm_start=False)"
      ]
     },
     "execution_count": 138,
     "metadata": {},
     "output_type": "execute_result"
    }
   ],
   "source": [
    "clf_RF.fit(X_train, y_train)"
   ]
  },
  {
   "cell_type": "code",
   "execution_count": 139,
   "metadata": {},
   "outputs": [
    {
     "data": {
      "text/plain": [
       "0.8948744769874477"
      ]
     },
     "execution_count": 139,
     "metadata": {},
     "output_type": "execute_result"
    }
   ],
   "source": [
    "clf_RF.score(X_test, y_test)"
   ]
  },
  {
   "cell_type": "code",
   "execution_count": 140,
   "metadata": {},
   "outputs": [
    {
     "data": {
      "text/plain": [
       "0.8377215850590503"
      ]
     },
     "execution_count": 140,
     "metadata": {},
     "output_type": "execute_result"
    }
   ],
   "source": [
    "y_pred_RF = clf_RF.predict(X_test)\n",
    "\n",
    "f1_RF_rent = f1_score(y_test, y_pred_RF, average='macro')\n",
    "f1_RF_rent"
   ]
  },
  {
   "cell_type": "code",
   "execution_count": 141,
   "metadata": {},
   "outputs": [
    {
     "data": {
      "text/html": [
       "<div>\n",
       "<style scoped>\n",
       "    .dataframe tbody tr th:only-of-type {\n",
       "        vertical-align: middle;\n",
       "    }\n",
       "\n",
       "    .dataframe tbody tr th {\n",
       "        vertical-align: top;\n",
       "    }\n",
       "\n",
       "    .dataframe thead th {\n",
       "        text-align: right;\n",
       "    }\n",
       "</style>\n",
       "<table border=\"1\" class=\"dataframe\">\n",
       "  <thead>\n",
       "    <tr style=\"text-align: right;\">\n",
       "      <th></th>\n",
       "      <th>importance</th>\n",
       "    </tr>\n",
       "  </thead>\n",
       "  <tbody>\n",
       "    <tr>\n",
       "      <th>v2a1</th>\n",
       "      <td>0.067891</td>\n",
       "    </tr>\n",
       "    <tr>\n",
       "      <th>SQBmeaned</th>\n",
       "      <td>0.047744</td>\n",
       "    </tr>\n",
       "    <tr>\n",
       "      <th>meaneduc</th>\n",
       "      <td>0.040809</td>\n",
       "    </tr>\n",
       "    <tr>\n",
       "      <th>SQBdependency</th>\n",
       "      <td>0.027724</td>\n",
       "    </tr>\n",
       "    <tr>\n",
       "      <th>overcrowding</th>\n",
       "      <td>0.027037</td>\n",
       "    </tr>\n",
       "    <tr>\n",
       "      <th>qmobilephone</th>\n",
       "      <td>0.025180</td>\n",
       "    </tr>\n",
       "    <tr>\n",
       "      <th>hogar_nin</th>\n",
       "      <td>0.024728</td>\n",
       "    </tr>\n",
       "    <tr>\n",
       "      <th>SQBedjefe</th>\n",
       "      <td>0.023298</td>\n",
       "    </tr>\n",
       "    <tr>\n",
       "      <th>SQBovercrowding</th>\n",
       "      <td>0.023207</td>\n",
       "    </tr>\n",
       "    <tr>\n",
       "      <th>agesq</th>\n",
       "      <td>0.019984</td>\n",
       "    </tr>\n",
       "  </tbody>\n",
       "</table>\n",
       "</div>"
      ],
      "text/plain": [
       "                 importance\n",
       "v2a1               0.067891\n",
       "SQBmeaned          0.047744\n",
       "meaneduc           0.040809\n",
       "SQBdependency      0.027724\n",
       "overcrowding       0.027037\n",
       "qmobilephone       0.025180\n",
       "hogar_nin          0.024728\n",
       "SQBedjefe          0.023298\n",
       "SQBovercrowding    0.023207\n",
       "agesq              0.019984"
      ]
     },
     "execution_count": 141,
     "metadata": {},
     "output_type": "execute_result"
    }
   ],
   "source": [
    "feature_importances = pd.DataFrame(clf_RF.feature_importances_,\n",
    "                                   index = X_train.columns,\n",
    "                                   columns=['importance']).sort_values('importance', \n",
    "                                   ascending=False)\n",
    "feature_importances.head(10)"
   ]
  },
  {
   "cell_type": "markdown",
   "metadata": {},
   "source": [
    "## XGB Classifier"
   ]
  },
  {
   "cell_type": "code",
   "execution_count": 142,
   "metadata": {},
   "outputs": [],
   "source": [
    "clf_xgb = xgb.XGBClassifier(max_depth=6,n_estimators=100, n_jobs=-1, subsample=.7)"
   ]
  },
  {
   "cell_type": "code",
   "execution_count": 143,
   "metadata": {},
   "outputs": [
    {
     "name": "stdout",
     "output_type": "stream",
     "text": [
      "[0]\tvalidation_0-merror:0.257554\tvalidation_1-merror:0.287134\n",
      "[1]\tvalidation_0-merror:0.238587\tvalidation_1-merror:0.263075\n",
      "[2]\tvalidation_0-merror:0.230608\tvalidation_1-merror:0.256799\n",
      "[3]\tvalidation_0-merror:0.222891\tvalidation_1-merror:0.257322\n",
      "[4]\tvalidation_0-merror:0.223152\tvalidation_1-merror:0.251569\n",
      "[5]\tvalidation_0-merror:0.220275\tvalidation_1-merror:0.249477\n",
      "[6]\tvalidation_0-merror:0.215304\tvalidation_1-merror:0.25\n",
      "[7]\tvalidation_0-merror:0.210988\tvalidation_1-merror:0.25\n",
      "[8]\tvalidation_0-merror:0.209941\tvalidation_1-merror:0.243724\n",
      "[9]\tvalidation_0-merror:0.206409\tvalidation_1-merror:0.240063\n",
      "[10]\tvalidation_0-merror:0.205625\tvalidation_1-merror:0.237448\n",
      "[11]\tvalidation_0-merror:0.202224\tvalidation_1-merror:0.240063\n",
      "[12]\tvalidation_0-merror:0.201439\tvalidation_1-merror:0.235879\n",
      "[13]\tvalidation_0-merror:0.201308\tvalidation_1-merror:0.234833\n",
      "[14]\tvalidation_0-merror:0.199084\tvalidation_1-merror:0.229079\n",
      "[15]\tvalidation_0-merror:0.195291\tvalidation_1-merror:0.226464\n",
      "[16]\tvalidation_0-merror:0.192675\tvalidation_1-merror:0.220188\n",
      "[17]\tvalidation_0-merror:0.193329\tvalidation_1-merror:0.219142\n",
      "[18]\tvalidation_0-merror:0.192283\tvalidation_1-merror:0.219665\n",
      "[19]\tvalidation_0-merror:0.19032\tvalidation_1-merror:0.219665\n",
      "[20]\tvalidation_0-merror:0.186396\tvalidation_1-merror:0.217573\n",
      "[21]\tvalidation_0-merror:0.183519\tvalidation_1-merror:0.216004\n",
      "[22]\tvalidation_0-merror:0.182865\tvalidation_1-merror:0.215481\n",
      "[23]\tvalidation_0-merror:0.177763\tvalidation_1-merror:0.214435\n",
      "[24]\tvalidation_0-merror:0.176063\tvalidation_1-merror:0.21182\n",
      "[25]\tvalidation_0-merror:0.17397\tvalidation_1-merror:0.212866\n",
      "[26]\tvalidation_0-merror:0.172531\tvalidation_1-merror:0.212343\n",
      "[27]\tvalidation_0-merror:0.171746\tvalidation_1-merror:0.21182\n",
      "[28]\tvalidation_0-merror:0.168738\tvalidation_1-merror:0.208682\n",
      "[29]\tvalidation_0-merror:0.169392\tvalidation_1-merror:0.208159\n",
      "[30]\tvalidation_0-merror:0.165206\tvalidation_1-merror:0.206067\n",
      "[31]\tvalidation_0-merror:0.163244\tvalidation_1-merror:0.20136\n",
      "[32]\tvalidation_0-merror:0.160366\tvalidation_1-merror:0.199791\n",
      "[33]\tvalidation_0-merror:0.158143\tvalidation_1-merror:0.198222\n",
      "[34]\tvalidation_0-merror:0.156835\tvalidation_1-merror:0.198745\n",
      "[35]\tvalidation_0-merror:0.153564\tvalidation_1-merror:0.197176\n",
      "[36]\tvalidation_0-merror:0.15278\tvalidation_1-merror:0.19613\n",
      "[37]\tvalidation_0-merror:0.148463\tvalidation_1-merror:0.194561\n",
      "[38]\tvalidation_0-merror:0.147417\tvalidation_1-merror:0.194038\n",
      "[39]\tvalidation_0-merror:0.145716\tvalidation_1-merror:0.191946\n",
      "[40]\tvalidation_0-merror:0.143362\tvalidation_1-merror:0.188285\n",
      "[41]\tvalidation_0-merror:0.140092\tvalidation_1-merror:0.185669\n",
      "[42]\tvalidation_0-merror:0.137083\tvalidation_1-merror:0.187762\n",
      "[43]\tvalidation_0-merror:0.13656\tvalidation_1-merror:0.185146\n",
      "[44]\tvalidation_0-merror:0.133944\tvalidation_1-merror:0.183577\n",
      "[45]\tvalidation_0-merror:0.131589\tvalidation_1-merror:0.181485\n",
      "[46]\tvalidation_0-merror:0.127142\tvalidation_1-merror:0.182008\n",
      "[47]\tvalidation_0-merror:0.125441\tvalidation_1-merror:0.179393\n",
      "[48]\tvalidation_0-merror:0.12361\tvalidation_1-merror:0.177301\n",
      "[49]\tvalidation_0-merror:0.121125\tvalidation_1-merror:0.17887\n",
      "[50]\tvalidation_0-merror:0.119686\tvalidation_1-merror:0.174686\n",
      "[51]\tvalidation_0-merror:0.117855\tvalidation_1-merror:0.172071\n",
      "[52]\tvalidation_0-merror:0.1155\tvalidation_1-merror:0.16841\n",
      "[53]\tvalidation_0-merror:0.113277\tvalidation_1-merror:0.166841\n",
      "[54]\tvalidation_0-merror:0.111838\tvalidation_1-merror:0.165272\n",
      "[55]\tvalidation_0-merror:0.109745\tvalidation_1-merror:0.165272\n",
      "[56]\tvalidation_0-merror:0.108437\tvalidation_1-merror:0.16318\n",
      "[57]\tvalidation_0-merror:0.107783\tvalidation_1-merror:0.162657\n",
      "[58]\tvalidation_0-merror:0.106998\tvalidation_1-merror:0.165272\n",
      "[59]\tvalidation_0-merror:0.105559\tvalidation_1-merror:0.16318\n",
      "[60]\tvalidation_0-merror:0.103728\tvalidation_1-merror:0.161611\n",
      "[61]\tvalidation_0-merror:0.101897\tvalidation_1-merror:0.162657\n",
      "[62]\tvalidation_0-merror:0.100719\tvalidation_1-merror:0.163703\n",
      "[63]\tvalidation_0-merror:0.097842\tvalidation_1-merror:0.162134\n",
      "[64]\tvalidation_0-merror:0.097188\tvalidation_1-merror:0.159519\n",
      "[65]\tvalidation_0-merror:0.094833\tvalidation_1-merror:0.159519\n",
      "[66]\tvalidation_0-merror:0.09261\tvalidation_1-merror:0.158996\n",
      "[67]\tvalidation_0-merror:0.090386\tvalidation_1-merror:0.15795\n",
      "[68]\tvalidation_0-merror:0.088816\tvalidation_1-merror:0.156904\n",
      "[69]\tvalidation_0-merror:0.088685\tvalidation_1-merror:0.15795\n",
      "[70]\tvalidation_0-merror:0.087508\tvalidation_1-merror:0.156381\n",
      "[71]\tvalidation_0-merror:0.086593\tvalidation_1-merror:0.154812\n",
      "[72]\tvalidation_0-merror:0.08463\tvalidation_1-merror:0.154289\n",
      "[73]\tvalidation_0-merror:0.083322\tvalidation_1-merror:0.154812\n",
      "[74]\tvalidation_0-merror:0.08293\tvalidation_1-merror:0.15272\n",
      "[75]\tvalidation_0-merror:0.081491\tvalidation_1-merror:0.151151\n",
      "[76]\tvalidation_0-merror:0.080968\tvalidation_1-merror:0.151151\n",
      "[77]\tvalidation_0-merror:0.079529\tvalidation_1-merror:0.150105\n",
      "[78]\tvalidation_0-merror:0.078221\tvalidation_1-merror:0.148013\n",
      "[79]\tvalidation_0-merror:0.077829\tvalidation_1-merror:0.148013\n",
      "[80]\tvalidation_0-merror:0.075867\tvalidation_1-merror:0.14749\n",
      "[81]\tvalidation_0-merror:0.07482\tvalidation_1-merror:0.148536\n",
      "[82]\tvalidation_0-merror:0.07312\tvalidation_1-merror:0.146967\n",
      "[83]\tvalidation_0-merror:0.07155\tvalidation_1-merror:0.146444\n",
      "[84]\tvalidation_0-merror:0.070765\tvalidation_1-merror:0.145921\n",
      "[85]\tvalidation_0-merror:0.06998\tvalidation_1-merror:0.144351\n",
      "[86]\tvalidation_0-merror:0.067233\tvalidation_1-merror:0.145397\n",
      "[87]\tvalidation_0-merror:0.067233\tvalidation_1-merror:0.145397\n",
      "[88]\tvalidation_0-merror:0.066187\tvalidation_1-merror:0.145397\n",
      "[89]\tvalidation_0-merror:0.065271\tvalidation_1-merror:0.144874\n",
      "[90]\tvalidation_0-merror:0.064487\tvalidation_1-merror:0.142782\n",
      "[91]\tvalidation_0-merror:0.062786\tvalidation_1-merror:0.142782\n",
      "[92]\tvalidation_0-merror:0.062263\tvalidation_1-merror:0.140167\n",
      "[93]\tvalidation_0-merror:0.061871\tvalidation_1-merror:0.139644\n",
      "[94]\tvalidation_0-merror:0.060955\tvalidation_1-merror:0.138075\n",
      "[95]\tvalidation_0-merror:0.060039\tvalidation_1-merror:0.137029\n",
      "[96]\tvalidation_0-merror:0.059778\tvalidation_1-merror:0.137552\n",
      "[97]\tvalidation_0-merror:0.058208\tvalidation_1-merror:0.136506\n",
      "[98]\tvalidation_0-merror:0.057685\tvalidation_1-merror:0.135983\n",
      "[99]\tvalidation_0-merror:0.055461\tvalidation_1-merror:0.135983\n"
     ]
    },
    {
     "data": {
      "text/plain": [
       "XGBClassifier(base_score=0.5, booster='gbtree', colsample_bylevel=1,\n",
       "       colsample_bynode=1, colsample_bytree=1, gamma=0, learning_rate=0.1,\n",
       "       max_delta_step=0, max_depth=6, min_child_weight=1, missing=None,\n",
       "       n_estimators=100, n_jobs=-1, nthread=None,\n",
       "       objective='multi:softprob', random_state=0, reg_alpha=0,\n",
       "       reg_lambda=1, scale_pos_weight=1, seed=None, silent=None,\n",
       "       subsample=0.7, verbosity=1)"
      ]
     },
     "execution_count": 143,
     "metadata": {},
     "output_type": "execute_result"
    }
   ],
   "source": [
    "clf_xgb.fit(X_train, y_train, eval_set=[(X_train, y_train), (X_test, y_test)], verbose=True)"
   ]
  },
  {
   "cell_type": "code",
   "execution_count": 144,
   "metadata": {},
   "outputs": [
    {
     "data": {
      "text/plain": [
       "0.8640167364016736"
      ]
     },
     "execution_count": 144,
     "metadata": {},
     "output_type": "execute_result"
    }
   ],
   "source": [
    "clf_xgb.score(X_test, y_test)"
   ]
  },
  {
   "cell_type": "code",
   "execution_count": 145,
   "metadata": {},
   "outputs": [
    {
     "data": {
      "text/plain": [
       "0.7926839596156446"
      ]
     },
     "execution_count": 145,
     "metadata": {},
     "output_type": "execute_result"
    }
   ],
   "source": [
    "y_pred_xgb = clf_xgb.predict(X_test)\n",
    "\n",
    "f1_xgb_rent = f1_score(y_test, y_pred_xgb, average='macro')\n",
    "f1_xgb_rent"
   ]
  },
  {
   "cell_type": "markdown",
   "metadata": {},
   "source": [
    "### Feature Importance (XGBoost)"
   ]
  },
  {
   "cell_type": "code",
   "execution_count": 146,
   "metadata": {
    "scrolled": true
   },
   "outputs": [
    {
     "data": {
      "text/plain": [
       "<matplotlib.axes._subplots.AxesSubplot at 0x7fae8e5b6470>"
      ]
     },
     "execution_count": 146,
     "metadata": {},
     "output_type": "execute_result"
    },
    {
     "data": {
      "image/png": "[encoded data removed]",
      "text/plain": [
       "<Figure size 432x288 with 1 Axes>"
      ]
     },
     "metadata": {},
     "output_type": "display_data"
    }
   ],
   "source": [
    "xgb.plot_importance(clf_xgb, max_num_features=20)"
   ]
  },
  {
   "cell_type": "markdown",
   "metadata": {},
   "source": [
    "## Comparison of Models (No Rent vs Rent)"
   ]
  },
  {
   "cell_type": "code",
   "execution_count": 147,
   "metadata": {},
   "outputs": [
    {
     "name": "stdout",
     "output_type": "stream",
     "text": [
      "Change in f1 with predicted rent values:\n",
      "\n",
      "Linear Regression:\t  0.00016\n",
      "Logistic Regression:\t -0.05907\n",
      "Support Vector Machines: -0.01175\n",
      "Random Forrest:\t\t  -0.00894\n",
      "XGBoost:\t\t 0.00389\n"
     ]
    }
   ],
   "source": [
    "print(\"Change in f1 with predicted rent values:\\n\")\n",
    "\n",
    "# Linear Regression\n",
    "print(\"Linear Regression:\\t \", round(f1_linear_rent - f1_linear, 5))\n",
    "\n",
    "# Multiple Logistic Regression\n",
    "print(\"Logistic Regression:\\t\", round(f1_logistic_rent - f1_logistic, 5))\n",
    "\n",
    "# SVM\n",
    "print(\"Support Vector Machines:\", round(f1_SVM_rent - f1_SVM, 5))\n",
    "\n",
    "# Random Forrest\n",
    "print(\"Random Forrest:\\t\\t \", round(f1_RF_rent - f1_RF, 5))\n",
    "\n",
    "# XGB\n",
    "print(\"XGBoost:\\t\\t\", round(f1_xgb_rent - f1_xgb, 5))"
   ]
  },
  {
   "cell_type": "markdown",
   "metadata": {},
   "source": [
    "### Random Forest vs XGBoost"
   ]
  },
  {
   "cell_type": "code",
   "execution_count": 148,
   "metadata": {
    "scrolled": false
   },
   "outputs": [
    {
     "name": "stdout",
     "output_type": "stream",
     "text": [
      "NO RENT (RF) 0.8466637910672062\n",
      "W/ RENT (RF) 0.8377215850590503\n",
      "NO RENT (XGB) 0.7887912428409045\n",
      "W/ RENT (XGB) 0.7926839596156446\n"
     ]
    }
   ],
   "source": [
    "print(\"NO RENT (RF)\", f1_RF)\n",
    "print(\"W/ RENT (RF)\", f1_RF_rent)\n",
    "print(\"NO RENT (XGB)\", f1_xgb)\n",
    "print(\"W/ RENT (XGB)\", f1_xgb_rent)"
   ]
  },
  {
   "cell_type": "markdown",
   "metadata": {},
   "source": [
    "# Classification with Predicted Rent Values AND Tranformations"
   ]
  },
  {
   "cell_type": "code",
   "execution_count": 149,
   "metadata": {},
   "outputs": [
    {
     "name": "stdout",
     "output_type": "stream",
     "text": [
      "(9557, 141)\n",
      "(9557,)\n"
     ]
    }
   ],
   "source": [
    "# Load dataframe \n",
    "df_trans = pd.read_pickle('df_trans.pkl')\n",
    "\n",
    "# Partition explanatory and response variables\n",
    "X = df_trans.drop(columns=['Target', 'Id', 'idhogar'])\n",
    "print(X.shape)\n",
    "\n",
    "y = df_trans['Target']\n",
    "print(y.shape)"
   ]
  },
  {
   "cell_type": "code",
   "execution_count": 150,
   "metadata": {},
   "outputs": [],
   "source": [
    "X_train, X_test, y_train, y_test = train_test_split(X, y, test_size = 0.2, stratify=y, random_state=12345)"
   ]
  },
  {
   "cell_type": "markdown",
   "metadata": {},
   "source": [
    "## Linear Regression"
   ]
  },
  {
   "cell_type": "code",
   "execution_count": 151,
   "metadata": {},
   "outputs": [],
   "source": [
    "clf_linear = LinearRegression()"
   ]
  },
  {
   "cell_type": "code",
   "execution_count": 152,
   "metadata": {
    "scrolled": true
   },
   "outputs": [
    {
     "data": {
      "text/plain": [
       "LinearRegression(copy_X=True, fit_intercept=True, n_jobs=None,\n",
       "         normalize=False)"
      ]
     },
     "execution_count": 152,
     "metadata": {},
     "output_type": "execute_result"
    }
   ],
   "source": [
    "clf_linear.fit(X_train, y_train)"
   ]
  },
  {
   "cell_type": "code",
   "execution_count": 153,
   "metadata": {},
   "outputs": [
    {
     "data": {
      "text/plain": [
       "0.5015690376569037"
      ]
     },
     "execution_count": 153,
     "metadata": {},
     "output_type": "execute_result"
    }
   ],
   "source": [
    "y_pred = clf_linear.predict(X_test)\n",
    "y_pred = y_pred.round()\n",
    "y_pred = y_pred.astype(int)\n",
    "\n",
    "df_test = pd.DataFrame([y_pred, y_test], index=['ypred', 'ytest'])\n",
    "df_test = df_test.transpose()\n",
    "df_test['correct'] = df_test['ypred'] == df_test['ytest']\n",
    "df_test.correct.mean()"
   ]
  },
  {
   "cell_type": "code",
   "execution_count": 154,
   "metadata": {
    "scrolled": true
   },
   "outputs": [
    {
     "name": "stderr",
     "output_type": "stream",
     "text": [
      "/home/nemosaic/.local/lib/python3.6/site-packages/sklearn/metrics/classification.py:1145: UndefinedMetricWarning: F-score is ill-defined and being set to 0.0 in labels with no true samples.\n",
      "  'recall', 'true', average, warn_for)\n"
     ]
    },
    {
     "data": {
      "text/plain": [
       "0.28595366009121614"
      ]
     },
     "execution_count": 154,
     "metadata": {},
     "output_type": "execute_result"
    }
   ],
   "source": [
    "f1_linear_trans = f1_score(y_test, y_pred, average='macro')\n",
    "f1_linear_trans"
   ]
  },
  {
   "cell_type": "markdown",
   "metadata": {},
   "source": [
    "## Multiclass Logistic"
   ]
  },
  {
   "cell_type": "code",
   "execution_count": 155,
   "metadata": {},
   "outputs": [],
   "source": [
    "clf_multiclass_logistic = LogisticRegressionCV(class_weight='balanced', multi_class='multinomial')"
   ]
  },
  {
   "cell_type": "code",
   "execution_count": 156,
   "metadata": {
    "scrolled": true
   },
   "outputs": [
    {
     "name": "stderr",
     "output_type": "stream",
     "text": [
      "/home/nemosaic/.local/lib/python3.6/site-packages/sklearn/model_selection/_split.py:2053: FutureWarning: You should specify a value for 'cv' instead of relying on the default value. The default value will change from 3 to 5 in version 0.22.\n",
      "  warnings.warn(CV_WARNING, FutureWarning)\n"
     ]
    },
    {
     "data": {
      "text/plain": [
       "LogisticRegressionCV(Cs=10, class_weight='balanced', cv='warn', dual=False,\n",
       "           fit_intercept=True, intercept_scaling=1.0, max_iter=100,\n",
       "           multi_class='multinomial', n_jobs=None, penalty='l2',\n",
       "           random_state=None, refit=True, scoring=None, solver='lbfgs',\n",
       "           tol=0.0001, verbose=0)"
      ]
     },
     "execution_count": 156,
     "metadata": {},
     "output_type": "execute_result"
    }
   ],
   "source": [
    "clf_multiclass_logistic.fit(X_train, y_train)"
   ]
  },
  {
   "cell_type": "code",
   "execution_count": 157,
   "metadata": {},
   "outputs": [
    {
     "data": {
      "text/plain": [
       "0.6265690376569037"
      ]
     },
     "execution_count": 157,
     "metadata": {},
     "output_type": "execute_result"
    }
   ],
   "source": [
    "clf_multiclass_logistic.score(X_test, y_test)"
   ]
  },
  {
   "cell_type": "code",
   "execution_count": 158,
   "metadata": {},
   "outputs": [
    {
     "name": "stderr",
     "output_type": "stream",
     "text": [
      "/home/nemosaic/.local/lib/python3.6/site-packages/sklearn/metrics/classification.py:1143: UndefinedMetricWarning: F-score is ill-defined and being set to 0.0 in labels with no predicted samples.\n",
      "  'precision', 'predicted', average, warn_for)\n"
     ]
    },
    {
     "data": {
      "text/plain": [
       "0.19260450160771705"
      ]
     },
     "execution_count": 158,
     "metadata": {},
     "output_type": "execute_result"
    }
   ],
   "source": [
    "y_pred_log_reg = clf_multiclass_logistic.predict(X_test)\n",
    "\n",
    "f1_logistic_trans = f1_score(y_test, y_pred_log_reg, average='macro')\n",
    "f1_logistic_trans"
   ]
  },
  {
   "cell_type": "markdown",
   "metadata": {},
   "source": [
    "## SVM"
   ]
  },
  {
   "cell_type": "code",
   "execution_count": 159,
   "metadata": {},
   "outputs": [],
   "source": [
    "clf_SVM = SVC()"
   ]
  },
  {
   "cell_type": "code",
   "execution_count": 160,
   "metadata": {
    "scrolled": true
   },
   "outputs": [
    {
     "name": "stderr",
     "output_type": "stream",
     "text": [
      "/home/nemosaic/.local/lib/python3.6/site-packages/sklearn/svm/base.py:196: FutureWarning: The default value of gamma will change from 'auto' to 'scale' in version 0.22 to account better for unscaled features. Set gamma explicitly to 'auto' or 'scale' to avoid this warning.\n",
      "  \"avoid this warning.\", FutureWarning)\n"
     ]
    },
    {
     "data": {
      "text/plain": [
       "SVC(C=1.0, cache_size=200, class_weight=None, coef0=0.0,\n",
       "  decision_function_shape='ovr', degree=3, gamma='auto_deprecated',\n",
       "  kernel='rbf', max_iter=-1, probability=False, random_state=None,\n",
       "  shrinking=True, tol=0.001, verbose=False)"
      ]
     },
     "execution_count": 160,
     "metadata": {},
     "output_type": "execute_result"
    }
   ],
   "source": [
    "clf_SVM.fit(X_train, y_train)"
   ]
  },
  {
   "cell_type": "code",
   "execution_count": 161,
   "metadata": {},
   "outputs": [
    {
     "data": {
      "text/plain": [
       "0.6317991631799164"
      ]
     },
     "execution_count": 161,
     "metadata": {},
     "output_type": "execute_result"
    }
   ],
   "source": [
    "clf_SVM.score(X_test, y_test)"
   ]
  },
  {
   "cell_type": "code",
   "execution_count": 162,
   "metadata": {},
   "outputs": [
    {
     "data": {
      "text/plain": [
       "0.207876825155869"
      ]
     },
     "execution_count": 162,
     "metadata": {},
     "output_type": "execute_result"
    }
   ],
   "source": [
    "y_pred_SVM = clf_SVM.predict(X_test)\n",
    "\n",
    "f1_SVM_trans = f1_score(y_test, y_pred_SVM, average='macro')\n",
    "f1_SVM_trans"
   ]
  },
  {
   "cell_type": "markdown",
   "metadata": {},
   "source": [
    "## Random Forests"
   ]
  },
  {
   "cell_type": "code",
   "execution_count": 163,
   "metadata": {},
   "outputs": [],
   "source": [
    "clf_RF = RandomForestClassifier()"
   ]
  },
  {
   "cell_type": "code",
   "execution_count": 164,
   "metadata": {},
   "outputs": [
    {
     "name": "stderr",
     "output_type": "stream",
     "text": [
      "/home/nemosaic/.local/lib/python3.6/site-packages/sklearn/ensemble/forest.py:246: FutureWarning: The default value of n_estimators will change from 10 in version 0.20 to 100 in 0.22.\n",
      "  \"10 in version 0.20 to 100 in 0.22.\", FutureWarning)\n"
     ]
    },
    {
     "data": {
      "text/plain": [
       "RandomForestClassifier(bootstrap=True, class_weight=None, criterion='gini',\n",
       "            max_depth=None, max_features='auto', max_leaf_nodes=None,\n",
       "            min_impurity_decrease=0.0, min_impurity_split=None,\n",
       "            min_samples_leaf=1, min_samples_split=2,\n",
       "            min_weight_fraction_leaf=0.0, n_estimators=10, n_jobs=None,\n",
       "            oob_score=False, random_state=None, verbose=0,\n",
       "            warm_start=False)"
      ]
     },
     "execution_count": 164,
     "metadata": {},
     "output_type": "execute_result"
    }
   ],
   "source": [
    "clf_RF.fit(X_train, y_train)"
   ]
  },
  {
   "cell_type": "code",
   "execution_count": 165,
   "metadata": {},
   "outputs": [
    {
     "data": {
      "text/plain": [
       "0.9231171548117155"
      ]
     },
     "execution_count": 165,
     "metadata": {},
     "output_type": "execute_result"
    }
   ],
   "source": [
    "clf_RF.score(X_test, y_test)"
   ]
  },
  {
   "cell_type": "code",
   "execution_count": 166,
   "metadata": {},
   "outputs": [
    {
     "data": {
      "text/plain": [
       "0.8852911833817918"
      ]
     },
     "execution_count": 166,
     "metadata": {},
     "output_type": "execute_result"
    }
   ],
   "source": [
    "y_pred_RF = clf_RF.predict(X_test)\n",
    "\n",
    "f1_RF_trans = f1_score(y_test, y_pred_RF, average='macro')\n",
    "f1_RF_trans"
   ]
  },
  {
   "cell_type": "code",
   "execution_count": 167,
   "metadata": {},
   "outputs": [
    {
     "data": {
      "text/html": [
       "<div>\n",
       "<style scoped>\n",
       "    .dataframe tbody tr th:only-of-type {\n",
       "        vertical-align: middle;\n",
       "    }\n",
       "\n",
       "    .dataframe tbody tr th {\n",
       "        vertical-align: top;\n",
       "    }\n",
       "\n",
       "    .dataframe thead th {\n",
       "        text-align: right;\n",
       "    }\n",
       "</style>\n",
       "<table border=\"1\" class=\"dataframe\">\n",
       "  <thead>\n",
       "    <tr style=\"text-align: right;\">\n",
       "      <th></th>\n",
       "      <th>importance</th>\n",
       "    </tr>\n",
       "  </thead>\n",
       "  <tbody>\n",
       "    <tr>\n",
       "      <th>SQ_v2a1</th>\n",
       "      <td>0.052571</td>\n",
       "    </tr>\n",
       "    <tr>\n",
       "      <th>meaneduc</th>\n",
       "      <td>0.043464</td>\n",
       "    </tr>\n",
       "    <tr>\n",
       "      <th>v2a1</th>\n",
       "      <td>0.038639</td>\n",
       "    </tr>\n",
       "    <tr>\n",
       "      <th>SQBmeaned</th>\n",
       "      <td>0.038421</td>\n",
       "    </tr>\n",
       "    <tr>\n",
       "      <th>SQBdependency</th>\n",
       "      <td>0.034722</td>\n",
       "    </tr>\n",
       "    <tr>\n",
       "      <th>LOG_meaneduc</th>\n",
       "      <td>0.030537</td>\n",
       "    </tr>\n",
       "    <tr>\n",
       "      <th>LOG_SQBdependency</th>\n",
       "      <td>0.025043</td>\n",
       "    </tr>\n",
       "    <tr>\n",
       "      <th>SQBovercrowding</th>\n",
       "      <td>0.022806</td>\n",
       "    </tr>\n",
       "    <tr>\n",
       "      <th>SQBedjefe</th>\n",
       "      <td>0.020889</td>\n",
       "    </tr>\n",
       "    <tr>\n",
       "      <th>hogar_nin</th>\n",
       "      <td>0.020283</td>\n",
       "    </tr>\n",
       "  </tbody>\n",
       "</table>\n",
       "</div>"
      ],
      "text/plain": [
       "                   importance\n",
       "SQ_v2a1              0.052571\n",
       "meaneduc             0.043464\n",
       "v2a1                 0.038639\n",
       "SQBmeaned            0.038421\n",
       "SQBdependency        0.034722\n",
       "LOG_meaneduc         0.030537\n",
       "LOG_SQBdependency    0.025043\n",
       "SQBovercrowding      0.022806\n",
       "SQBedjefe            0.020889\n",
       "hogar_nin            0.020283"
      ]
     },
     "execution_count": 167,
     "metadata": {},
     "output_type": "execute_result"
    }
   ],
   "source": [
    "feature_importances = pd.DataFrame(clf_RF.feature_importances_,\n",
    "                                   index = X_train.columns,\n",
    "                                   columns=['importance']).sort_values('importance', \n",
    "                                   ascending=False)\n",
    "feature_importances.head(10)"
   ]
  },
  {
   "cell_type": "markdown",
   "metadata": {},
   "source": [
    "## XGB Classifier"
   ]
  },
  {
   "cell_type": "code",
   "execution_count": 168,
   "metadata": {},
   "outputs": [],
   "source": [
    "clf_xgb = xgb.XGBClassifier(max_depth=6,n_estimators=100, n_jobs=-1, subsample=.7)"
   ]
  },
  {
   "cell_type": "code",
   "execution_count": 169,
   "metadata": {},
   "outputs": [
    {
     "name": "stdout",
     "output_type": "stream",
     "text": [
      "[0]\tvalidation_0-merror:0.257816\tvalidation_1-merror:0.287657\n",
      "[1]\tvalidation_0-merror:0.238849\tvalidation_1-merror:0.263075\n",
      "[2]\tvalidation_0-merror:0.23087\tvalidation_1-merror:0.256799\n",
      "[3]\tvalidation_0-merror:0.22433\tvalidation_1-merror:0.259414\n",
      "[4]\tvalidation_0-merror:0.222368\tvalidation_1-merror:0.251046\n",
      "[5]\tvalidation_0-merror:0.21949\tvalidation_1-merror:0.247908\n",
      "[6]\tvalidation_0-merror:0.215173\tvalidation_1-merror:0.247908\n",
      "[7]\tvalidation_0-merror:0.212034\tvalidation_1-merror:0.251046\n",
      "[8]\tvalidation_0-merror:0.20981\tvalidation_1-merror:0.243201\n",
      "[9]\tvalidation_0-merror:0.206017\tvalidation_1-merror:0.240063\n",
      "[10]\tvalidation_0-merror:0.203793\tvalidation_1-merror:0.233787\n",
      "[11]\tvalidation_0-merror:0.202485\tvalidation_1-merror:0.237971\n",
      "[12]\tvalidation_0-merror:0.200262\tvalidation_1-merror:0.233787\n",
      "[13]\tvalidation_0-merror:0.199477\tvalidation_1-merror:0.232741\n",
      "[14]\tvalidation_0-merror:0.197907\tvalidation_1-merror:0.231172\n",
      "[15]\tvalidation_0-merror:0.195029\tvalidation_1-merror:0.229079\n",
      "[16]\tvalidation_0-merror:0.193721\tvalidation_1-merror:0.222803\n",
      "[17]\tvalidation_0-merror:0.192283\tvalidation_1-merror:0.220711\n",
      "[18]\tvalidation_0-merror:0.18862\tvalidation_1-merror:0.220188\n",
      "[19]\tvalidation_0-merror:0.186396\tvalidation_1-merror:0.219665\n",
      "[20]\tvalidation_0-merror:0.183257\tvalidation_1-merror:0.218096\n",
      "[21]\tvalidation_0-merror:0.180249\tvalidation_1-merror:0.214958\n",
      "[22]\tvalidation_0-merror:0.179595\tvalidation_1-merror:0.214435\n",
      "[23]\tvalidation_0-merror:0.177109\tvalidation_1-merror:0.214958\n",
      "[24]\tvalidation_0-merror:0.172923\tvalidation_1-merror:0.210251\n",
      "[25]\tvalidation_0-merror:0.172008\tvalidation_1-merror:0.211297\n",
      "[26]\tvalidation_0-merror:0.169392\tvalidation_1-merror:0.208159\n",
      "[27]\tvalidation_0-merror:0.169392\tvalidation_1-merror:0.209205\n",
      "[28]\tvalidation_0-merror:0.166514\tvalidation_1-merror:0.207113\n",
      "[29]\tvalidation_0-merror:0.165468\tvalidation_1-merror:0.206067\n",
      "[30]\tvalidation_0-merror:0.161413\tvalidation_1-merror:0.202406\n",
      "[31]\tvalidation_0-merror:0.159843\tvalidation_1-merror:0.199791\n",
      "[32]\tvalidation_0-merror:0.157096\tvalidation_1-merror:0.197699\n",
      "[33]\tvalidation_0-merror:0.156181\tvalidation_1-merror:0.197176\n",
      "[34]\tvalidation_0-merror:0.154218\tvalidation_1-merror:0.197176\n",
      "[35]\tvalidation_0-merror:0.149771\tvalidation_1-merror:0.194038\n",
      "[36]\tvalidation_0-merror:0.148463\tvalidation_1-merror:0.194038\n",
      "[37]\tvalidation_0-merror:0.145847\tvalidation_1-merror:0.194038\n",
      "[38]\tvalidation_0-merror:0.14467\tvalidation_1-merror:0.1909\n",
      "[39]\tvalidation_0-merror:0.142184\tvalidation_1-merror:0.191946\n",
      "[40]\tvalidation_0-merror:0.140222\tvalidation_1-merror:0.190377\n",
      "[41]\tvalidation_0-merror:0.138522\tvalidation_1-merror:0.189331\n",
      "[42]\tvalidation_0-merror:0.13656\tvalidation_1-merror:0.185669\n",
      "[43]\tvalidation_0-merror:0.135252\tvalidation_1-merror:0.184623\n",
      "[44]\tvalidation_0-merror:0.134205\tvalidation_1-merror:0.185146\n",
      "[45]\tvalidation_0-merror:0.13002\tvalidation_1-merror:0.180439\n",
      "[46]\tvalidation_0-merror:0.12675\tvalidation_1-merror:0.180439\n",
      "[47]\tvalidation_0-merror:0.126095\tvalidation_1-merror:0.180962\n",
      "[48]\tvalidation_0-merror:0.124133\tvalidation_1-merror:0.180439\n",
      "[49]\tvalidation_0-merror:0.122041\tvalidation_1-merror:0.177301\n",
      "[50]\tvalidation_0-merror:0.120733\tvalidation_1-merror:0.174163\n",
      "[51]\tvalidation_0-merror:0.118901\tvalidation_1-merror:0.174163\n",
      "[52]\tvalidation_0-merror:0.116678\tvalidation_1-merror:0.172594\n",
      "[53]\tvalidation_0-merror:0.116024\tvalidation_1-merror:0.173117\n",
      "[54]\tvalidation_0-merror:0.113669\tvalidation_1-merror:0.169456\n",
      "[55]\tvalidation_0-merror:0.11223\tvalidation_1-merror:0.167887\n",
      "[56]\tvalidation_0-merror:0.109483\tvalidation_1-merror:0.166318\n",
      "[57]\tvalidation_0-merror:0.108175\tvalidation_1-merror:0.166318\n",
      "[58]\tvalidation_0-merror:0.107652\tvalidation_1-merror:0.164226\n",
      "[59]\tvalidation_0-merror:0.105821\tvalidation_1-merror:0.160565\n",
      "[60]\tvalidation_0-merror:0.103597\tvalidation_1-merror:0.158996\n",
      "[61]\tvalidation_0-merror:0.103074\tvalidation_1-merror:0.158996\n",
      "[62]\tvalidation_0-merror:0.101766\tvalidation_1-merror:0.158473\n",
      "[63]\tvalidation_0-merror:0.100196\tvalidation_1-merror:0.158473\n",
      "[64]\tvalidation_0-merror:0.098103\tvalidation_1-merror:0.157427\n",
      "[65]\tvalidation_0-merror:0.097057\tvalidation_1-merror:0.157427\n",
      "[66]\tvalidation_0-merror:0.096403\tvalidation_1-merror:0.156904\n",
      "[67]\tvalidation_0-merror:0.09431\tvalidation_1-merror:0.153766\n",
      "[68]\tvalidation_0-merror:0.09274\tvalidation_1-merror:0.153243\n",
      "[69]\tvalidation_0-merror:0.092086\tvalidation_1-merror:0.153766\n",
      "[70]\tvalidation_0-merror:0.089339\tvalidation_1-merror:0.15272\n",
      "[71]\tvalidation_0-merror:0.088031\tvalidation_1-merror:0.15272\n",
      "[72]\tvalidation_0-merror:0.0862\tvalidation_1-merror:0.151151\n",
      "[73]\tvalidation_0-merror:0.085154\tvalidation_1-merror:0.15272\n",
      "[74]\tvalidation_0-merror:0.083584\tvalidation_1-merror:0.151674\n",
      "[75]\tvalidation_0-merror:0.081753\tvalidation_1-merror:0.151151\n",
      "[76]\tvalidation_0-merror:0.080314\tvalidation_1-merror:0.148536\n",
      "[77]\tvalidation_0-merror:0.079922\tvalidation_1-merror:0.146444\n",
      "[78]\tvalidation_0-merror:0.078875\tvalidation_1-merror:0.146967\n",
      "[79]\tvalidation_0-merror:0.078483\tvalidation_1-merror:0.144351\n",
      "[80]\tvalidation_0-merror:0.077044\tvalidation_1-merror:0.145921\n",
      "[81]\tvalidation_0-merror:0.076128\tvalidation_1-merror:0.144874\n",
      "[82]\tvalidation_0-merror:0.074428\tvalidation_1-merror:0.145921\n",
      "[83]\tvalidation_0-merror:0.072989\tvalidation_1-merror:0.144351\n",
      "[84]\tvalidation_0-merror:0.072335\tvalidation_1-merror:0.145397\n",
      "[85]\tvalidation_0-merror:0.071158\tvalidation_1-merror:0.144351\n",
      "[86]\tvalidation_0-merror:0.069196\tvalidation_1-merror:0.142259\n",
      "[87]\tvalidation_0-merror:0.068934\tvalidation_1-merror:0.141736\n",
      "[88]\tvalidation_0-merror:0.066318\tvalidation_1-merror:0.14069\n",
      "[89]\tvalidation_0-merror:0.065271\tvalidation_1-merror:0.139121\n",
      "[90]\tvalidation_0-merror:0.06501\tvalidation_1-merror:0.139121\n",
      "[91]\tvalidation_0-merror:0.064617\tvalidation_1-merror:0.138075\n",
      "[92]\tvalidation_0-merror:0.063309\tvalidation_1-merror:0.137552\n",
      "[93]\tvalidation_0-merror:0.062655\tvalidation_1-merror:0.138075\n",
      "[94]\tvalidation_0-merror:0.062394\tvalidation_1-merror:0.136506\n",
      "[95]\tvalidation_0-merror:0.061086\tvalidation_1-merror:0.133891\n",
      "[96]\tvalidation_0-merror:0.061347\tvalidation_1-merror:0.135983\n",
      "[97]\tvalidation_0-merror:0.059908\tvalidation_1-merror:0.134937\n",
      "[98]\tvalidation_0-merror:0.059124\tvalidation_1-merror:0.134414\n",
      "[99]\tvalidation_0-merror:0.05847\tvalidation_1-merror:0.135983\n"
     ]
    },
    {
     "data": {
      "text/plain": [
       "XGBClassifier(base_score=0.5, booster='gbtree', colsample_bylevel=1,\n",
       "       colsample_bynode=1, colsample_bytree=1, gamma=0, learning_rate=0.1,\n",
       "       max_delta_step=0, max_depth=6, min_child_weight=1, missing=None,\n",
       "       n_estimators=100, n_jobs=-1, nthread=None,\n",
       "       objective='multi:softprob', random_state=0, reg_alpha=0,\n",
       "       reg_lambda=1, scale_pos_weight=1, seed=None, silent=None,\n",
       "       subsample=0.7, verbosity=1)"
      ]
     },
     "execution_count": 169,
     "metadata": {},
     "output_type": "execute_result"
    }
   ],
   "source": [
    "clf_xgb.fit(X_train, y_train, eval_set=[(X_train, y_train), (X_test, y_test)], verbose=True)"
   ]
  },
  {
   "cell_type": "code",
   "execution_count": 170,
   "metadata": {},
   "outputs": [
    {
     "data": {
      "text/plain": [
       "0.8640167364016736"
      ]
     },
     "execution_count": 170,
     "metadata": {},
     "output_type": "execute_result"
    }
   ],
   "source": [
    "clf_xgb.score(X_test, y_test)"
   ]
  },
  {
   "cell_type": "code",
   "execution_count": 171,
   "metadata": {},
   "outputs": [
    {
     "data": {
      "text/plain": [
       "0.7937603953947778"
      ]
     },
     "execution_count": 171,
     "metadata": {},
     "output_type": "execute_result"
    }
   ],
   "source": [
    "y_pred_xgb = clf_xgb.predict(X_test)\n",
    "\n",
    "f1_xgb_trans = f1_score(y_test, y_pred_xgb, average='macro')\n",
    "f1_xgb_trans"
   ]
  },
  {
   "cell_type": "markdown",
   "metadata": {},
   "source": [
    "### Feature Importance (XGBoost)"
   ]
  },
  {
   "cell_type": "code",
   "execution_count": 172,
   "metadata": {
    "scrolled": true
   },
   "outputs": [
    {
     "data": {
      "text/plain": [
       "<matplotlib.axes._subplots.AxesSubplot at 0x7fae84aae080>"
      ]
     },
     "execution_count": 172,
     "metadata": {},
     "output_type": "execute_result"
    },
    {
     "data": {
      "image/png": "[encoded data removed]",
      "text/plain": [
       "<Figure size 432x288 with 1 Axes>"
      ]
     },
     "metadata": {},
     "output_type": "display_data"
    }
   ],
   "source": [
    "xgb.plot_importance(clf_xgb, max_num_features=20)"
   ]
  },
  {
   "cell_type": "markdown",
   "metadata": {},
   "source": [
    "## Comparison of Models (Rent vs Rent with Transposed)"
   ]
  },
  {
   "cell_type": "code",
   "execution_count": 173,
   "metadata": {},
   "outputs": [
    {
     "name": "stdout",
     "output_type": "stream",
     "text": [
      "Change in f1 with predicted rent values and transposed features:\n",
      "\n",
      "Linear Regression:\t  0.00193\n",
      "Logistic Regression:\t -0.13551\n",
      "Support Vector Machines: -0.0021\n",
      "Random Forrest:\t\t  0.04757\n",
      "XGBoost:\t\t 0.00108\n"
     ]
    }
   ],
   "source": [
    "print(\"Change in f1 with predicted rent values and transposed features:\\n\")\n",
    "\n",
    "# Linear Regression\n",
    "print(\"Linear Regression:\\t \", round(f1_linear_trans - f1_linear_rent, 5))\n",
    "\n",
    "# Multiple Logistic Regression\n",
    "print(\"Logistic Regression:\\t\", round(f1_logistic_trans - f1_logistic_rent, 5))\n",
    "\n",
    "# SVM\n",
    "print(\"Support Vector Machines:\", round(f1_SVM_trans - f1_SVM_rent, 5))\n",
    "\n",
    "# Random Forrest\n",
    "print(\"Random Forrest:\\t\\t \", round(f1_RF_trans - f1_RF_rent, 5))\n",
    "\n",
    "# XGB\n",
    "print(\"XGBoost:\\t\\t\", round(f1_xgb_trans - f1_xgb_rent, 5))"
   ]
  },
  {
   "cell_type": "markdown",
   "metadata": {},
   "source": [
    "### Random Forest vs XGBoost"
   ]
  },
  {
   "cell_type": "code",
   "execution_count": 174,
   "metadata": {
    "scrolled": true
   },
   "outputs": [
    {
     "name": "stdout",
     "output_type": "stream",
     "text": [
      "RENT (RF)\t 0.8377215850590503\n",
      "RENT / TRANSFORMED (RF) 0.8852911833817918\n",
      "RENT (XGB)\t 0.7926839596156446\n",
      "RENT / TRANSFORMED (XGB) 0.7937603953947778\n"
     ]
    }
   ],
   "source": [
    "print(\"RENT (RF)\\t\", f1_RF_rent)\n",
    "print(\"RENT / TRANSFORMED (RF)\", f1_RF_trans)\n",
    "print(\"RENT (XGB)\\t\", f1_xgb_rent)\n",
    "print(\"RENT / TRANSFORMED (XGB)\", f1_xgb_trans)"
   ]
  }
 ],
 "metadata": {
  "kernelspec": {
   "display_name": "Python 3",
   "language": "python",
   "name": "python3"
  },
  "language_info": {
   "codemirror_mode": {
    "name": "ipython",
    "version": 3
   },
   "file_extension": ".py",
   "mimetype": "text/x-python",
   "name": "python",
   "nbconvert_exporter": "python",
   "pygments_lexer": "ipython3",
   "version": "3.6.7"
  }
 },
 "nbformat": 4,
 "nbformat_minor": 2
}
