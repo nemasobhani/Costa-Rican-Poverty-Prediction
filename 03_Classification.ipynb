{
 "cells": [
  {
   "cell_type": "markdown",
   "metadata": {},
   "source": [
    "# Costa Rican Household Poverty Level Prediction\n",
    "*From Kaggle ([competition link](https://www.kaggle.com/c/costa-rican-household-poverty-prediction))*\n",
    "  \n",
    "**By Nema Sobhani & David LaCharite**"
   ]
  },
  {
   "cell_type": "markdown",
   "metadata": {},
   "source": [
    "## Summary\n",
    "\n",
    "Income qualification for poor families in Costa Rica to determing need for aid. Data gathered from the *Inter-American Development Bank.*"
   ]
  },
  {
   "cell_type": "markdown",
   "metadata": {},
   "source": [
    "## Imports"
   ]
  },
  {
   "cell_type": "code",
   "execution_count": 55,
   "metadata": {},
   "outputs": [],
   "source": [
    "# General tools\n",
    "import pandas as pd\n",
    "import numpy as np\n",
    "\n",
    "# Functions\n",
    "from functions import *\n",
    "\n",
    "# Visualization\n",
    "import matplotlib.pyplot as plt\n",
    "%matplotlib inline\n",
    "import seaborn as sns\n",
    "from IPython.display import display\n",
    "pd.options.display.max_columns = None\n",
    "\n",
    "# Classification\n",
    "from sklearn.metrics import f1_score, confusion_matrix\n",
    "from sklearn.model_selection import train_test_split\n",
    "from sklearn.linear_model import LinearRegression, LogisticRegression, LogisticRegressionCV\n",
    "from sklearn.linear_model import RidgeCV, LassoCV, ElasticNetCV\n",
    "from sklearn.svm import SVC\n",
    "from sklearn.ensemble import RandomForestRegressor, RandomForestClassifier\n",
    "from sklearn.naive_bayes import MultinomialNB\n",
    "from sklearn.neighbors import NearestNeighbors, KNeighborsClassifier\n",
    "from sklearn.cluster import KMeans\n",
    "import xgboost as xgb\n",
    "from sklearn.feature_selection import SelectFromModel"
   ]
  },
  {
   "cell_type": "markdown",
   "metadata": {},
   "source": [
    "# Classification (Initial)"
   ]
  },
  {
   "cell_type": "code",
   "execution_count": 56,
   "metadata": {},
   "outputs": [
    {
     "name": "stdout",
     "output_type": "stream",
     "text": [
      "(9557, 135)\n",
      "(9557,)\n"
     ]
    }
   ],
   "source": [
    "# Load dataframe \n",
    "df = pd.read_pickle('df.pkl')\n",
    "\n",
    "# Partition explanatory and response variables\n",
    "X = df.drop(columns='Target')\n",
    "print(X.shape)\n",
    "\n",
    "y = df['Target']\n",
    "print(y.shape)"
   ]
  },
  {
   "cell_type": "code",
   "execution_count": 57,
   "metadata": {},
   "outputs": [],
   "source": [
    "X_train, X_test, y_train, y_test = train_test_split(X, y, test_size = 0.2, stratify=y, random_state=12345)"
   ]
  },
  {
   "cell_type": "markdown",
   "metadata": {},
   "source": [
    "## Linear Regression"
   ]
  },
  {
   "cell_type": "code",
   "execution_count": 58,
   "metadata": {},
   "outputs": [],
   "source": [
    "clf_linear = LinearRegression()"
   ]
  },
  {
   "cell_type": "code",
   "execution_count": 59,
   "metadata": {
    "scrolled": true
   },
   "outputs": [
    {
     "data": {
      "text/plain": [
       "LinearRegression(copy_X=True, fit_intercept=True, n_jobs=None,\n",
       "         normalize=False)"
      ]
     },
     "execution_count": 59,
     "metadata": {},
     "output_type": "execute_result"
    }
   ],
   "source": [
    "clf_linear.fit(X_train, y_train)"
   ]
  },
  {
   "cell_type": "code",
   "execution_count": 60,
   "metadata": {},
   "outputs": [
    {
     "data": {
      "text/plain": [
       "0.49476987447698745"
      ]
     },
     "execution_count": 60,
     "metadata": {},
     "output_type": "execute_result"
    }
   ],
   "source": [
    "y_pred = clf_linear.predict(X_test)\n",
    "y_pred = y_pred.round()\n",
    "y_pred = y_pred.astype(int)\n",
    "\n",
    "df_test = pd.DataFrame([y_pred, y_test], index=['ypred', 'ytest'])\n",
    "df_test = df_test.transpose()\n",
    "df_test['correct'] = df_test['ypred'] == df_test['ytest']\n",
    "df_test.correct.mean()"
   ]
  },
  {
   "cell_type": "code",
   "execution_count": 61,
   "metadata": {
    "scrolled": true
   },
   "outputs": [
    {
     "name": "stderr",
     "output_type": "stream",
     "text": [
      "/home/nemosaic/.local/lib/python3.6/site-packages/sklearn/metrics/classification.py:1145: UndefinedMetricWarning: F-score is ill-defined and being set to 0.0 in labels with no true samples.\n",
      "  'recall', 'true', average, warn_for)\n"
     ]
    },
    {
     "data": {
      "text/plain": [
       "0.28386560965239604"
      ]
     },
     "execution_count": 61,
     "metadata": {},
     "output_type": "execute_result"
    }
   ],
   "source": [
    "f1_linear = f1_score(y_test, y_pred, average='macro')\n",
    "f1_linear"
   ]
  },
  {
   "cell_type": "markdown",
   "metadata": {},
   "source": [
    "## Multiclass Logistic"
   ]
  },
  {
   "cell_type": "code",
   "execution_count": 62,
   "metadata": {},
   "outputs": [],
   "source": [
    "clf_multiclass_logistic = LogisticRegressionCV(class_weight='balanced', multi_class='multinomial')"
   ]
  },
  {
   "cell_type": "code",
   "execution_count": 63,
   "metadata": {
    "scrolled": true
   },
   "outputs": [
    {
     "name": "stderr",
     "output_type": "stream",
     "text": [
      "/home/nemosaic/.local/lib/python3.6/site-packages/sklearn/model_selection/_split.py:2053: FutureWarning: You should specify a value for 'cv' instead of relying on the default value. The default value will change from 3 to 5 in version 0.22.\n",
      "  warnings.warn(CV_WARNING, FutureWarning)\n",
      "/home/nemosaic/.local/lib/python3.6/site-packages/sklearn/linear_model/logistic.py:758: ConvergenceWarning: lbfgs failed to converge. Increase the number of iterations.\n",
      "  \"of iterations.\", ConvergenceWarning)\n",
      "/home/nemosaic/.local/lib/python3.6/site-packages/sklearn/linear_model/logistic.py:758: ConvergenceWarning: lbfgs failed to converge. Increase the number of iterations.\n",
      "  \"of iterations.\", ConvergenceWarning)\n",
      "/home/nemosaic/.local/lib/python3.6/site-packages/sklearn/linear_model/logistic.py:758: ConvergenceWarning: lbfgs failed to converge. Increase the number of iterations.\n",
      "  \"of iterations.\", ConvergenceWarning)\n",
      "/home/nemosaic/.local/lib/python3.6/site-packages/sklearn/linear_model/logistic.py:758: ConvergenceWarning: lbfgs failed to converge. Increase the number of iterations.\n",
      "  \"of iterations.\", ConvergenceWarning)\n"
     ]
    },
    {
     "data": {
      "text/plain": [
       "LogisticRegressionCV(Cs=10, class_weight='balanced', cv='warn', dual=False,\n",
       "           fit_intercept=True, intercept_scaling=1.0, max_iter=100,\n",
       "           multi_class='multinomial', n_jobs=None, penalty='l2',\n",
       "           random_state=None, refit=True, scoring=None, solver='lbfgs',\n",
       "           tol=0.0001, verbose=0)"
      ]
     },
     "execution_count": 63,
     "metadata": {},
     "output_type": "execute_result"
    }
   ],
   "source": [
    "clf_multiclass_logistic.fit(X_train, y_train)"
   ]
  },
  {
   "cell_type": "code",
   "execution_count": 64,
   "metadata": {},
   "outputs": [
    {
     "data": {
      "text/plain": [
       "0.5230125523012552"
      ]
     },
     "execution_count": 64,
     "metadata": {},
     "output_type": "execute_result"
    }
   ],
   "source": [
    "clf_multiclass_logistic.score(X_test, y_test)"
   ]
  },
  {
   "cell_type": "code",
   "execution_count": 65,
   "metadata": {},
   "outputs": [
    {
     "data": {
      "text/plain": [
       "0.3871799012694391"
      ]
     },
     "execution_count": 65,
     "metadata": {},
     "output_type": "execute_result"
    }
   ],
   "source": [
    "y_pred_log_reg = clf_multiclass_logistic.predict(X_test)\n",
    "\n",
    "f1_logistic = f1_score(y_test, y_pred_log_reg, average='macro')\n",
    "f1_logistic"
   ]
  },
  {
   "cell_type": "markdown",
   "metadata": {},
   "source": [
    "## SVM"
   ]
  },
  {
   "cell_type": "code",
   "execution_count": 66,
   "metadata": {},
   "outputs": [],
   "source": [
    "clf_SVM = SVC()"
   ]
  },
  {
   "cell_type": "code",
   "execution_count": 67,
   "metadata": {
    "scrolled": true
   },
   "outputs": [
    {
     "name": "stderr",
     "output_type": "stream",
     "text": [
      "/home/nemosaic/.local/lib/python3.6/site-packages/sklearn/svm/base.py:196: FutureWarning: The default value of gamma will change from 'auto' to 'scale' in version 0.22 to account better for unscaled features. Set gamma explicitly to 'auto' or 'scale' to avoid this warning.\n",
      "  \"avoid this warning.\", FutureWarning)\n"
     ]
    },
    {
     "data": {
      "text/plain": [
       "SVC(C=1.0, cache_size=200, class_weight=None, coef0=0.0,\n",
       "  decision_function_shape='ovr', degree=3, gamma='auto_deprecated',\n",
       "  kernel='rbf', max_iter=-1, probability=False, random_state=None,\n",
       "  shrinking=True, tol=0.001, verbose=False)"
      ]
     },
     "execution_count": 67,
     "metadata": {},
     "output_type": "execute_result"
    }
   ],
   "source": [
    "clf_SVM.fit(X_train, y_train)"
   ]
  },
  {
   "cell_type": "code",
   "execution_count": 68,
   "metadata": {},
   "outputs": [
    {
     "data": {
      "text/plain": [
       "0.6260460251046025"
      ]
     },
     "execution_count": 68,
     "metadata": {},
     "output_type": "execute_result"
    }
   ],
   "source": [
    "clf_SVM.score(X_test, y_test)"
   ]
  },
  {
   "cell_type": "code",
   "execution_count": 69,
   "metadata": {},
   "outputs": [
    {
     "data": {
      "text/plain": [
       "0.22173155053186192"
      ]
     },
     "execution_count": 69,
     "metadata": {},
     "output_type": "execute_result"
    }
   ],
   "source": [
    "y_pred_SVM = clf_SVM.predict(X_test)\n",
    "\n",
    "f1_SVM = f1_score(y_test, y_pred_SVM, average='macro')\n",
    "f1_SVM"
   ]
  },
  {
   "cell_type": "markdown",
   "metadata": {},
   "source": [
    "## Random Forests"
   ]
  },
  {
   "cell_type": "code",
   "execution_count": 70,
   "metadata": {},
   "outputs": [],
   "source": [
    "clf_RF = RandomForestClassifier()"
   ]
  },
  {
   "cell_type": "code",
   "execution_count": 71,
   "metadata": {},
   "outputs": [
    {
     "name": "stderr",
     "output_type": "stream",
     "text": [
      "/home/nemosaic/.local/lib/python3.6/site-packages/sklearn/ensemble/forest.py:246: FutureWarning: The default value of n_estimators will change from 10 in version 0.20 to 100 in 0.22.\n",
      "  \"10 in version 0.20 to 100 in 0.22.\", FutureWarning)\n"
     ]
    },
    {
     "data": {
      "text/plain": [
       "RandomForestClassifier(bootstrap=True, class_weight=None, criterion='gini',\n",
       "            max_depth=None, max_features='auto', max_leaf_nodes=None,\n",
       "            min_impurity_decrease=0.0, min_impurity_split=None,\n",
       "            min_samples_leaf=1, min_samples_split=2,\n",
       "            min_weight_fraction_leaf=0.0, n_estimators=10, n_jobs=None,\n",
       "            oob_score=False, random_state=None, verbose=0,\n",
       "            warm_start=False)"
      ]
     },
     "execution_count": 71,
     "metadata": {},
     "output_type": "execute_result"
    }
   ],
   "source": [
    "clf_RF.fit(X_train, y_train)"
   ]
  },
  {
   "cell_type": "code",
   "execution_count": 72,
   "metadata": {},
   "outputs": [
    {
     "data": {
      "text/plain": [
       "0.891213389121339"
      ]
     },
     "execution_count": 72,
     "metadata": {},
     "output_type": "execute_result"
    }
   ],
   "source": [
    "clf_RF.score(X_test, y_test)"
   ]
  },
  {
   "cell_type": "code",
   "execution_count": 73,
   "metadata": {},
   "outputs": [
    {
     "data": {
      "text/plain": [
       "0.8322908158024427"
      ]
     },
     "execution_count": 73,
     "metadata": {},
     "output_type": "execute_result"
    }
   ],
   "source": [
    "y_pred_RF = clf_RF.predict(X_test)\n",
    "\n",
    "f1_RF = f1_score(y_test, y_pred_RF, average='macro')\n",
    "f1_RF"
   ]
  },
  {
   "cell_type": "code",
   "execution_count": 74,
   "metadata": {},
   "outputs": [
    {
     "data": {
      "text/html": [
       "<div>\n",
       "<style scoped>\n",
       "    .dataframe tbody tr th:only-of-type {\n",
       "        vertical-align: middle;\n",
       "    }\n",
       "\n",
       "    .dataframe tbody tr th {\n",
       "        vertical-align: top;\n",
       "    }\n",
       "\n",
       "    .dataframe thead th {\n",
       "        text-align: right;\n",
       "    }\n",
       "</style>\n",
       "<table border=\"1\" class=\"dataframe\">\n",
       "  <thead>\n",
       "    <tr style=\"text-align: right;\">\n",
       "      <th></th>\n",
       "      <th>importance</th>\n",
       "    </tr>\n",
       "  </thead>\n",
       "  <tbody>\n",
       "    <tr>\n",
       "      <th>SQBmeaned</th>\n",
       "      <td>0.048386</td>\n",
       "    </tr>\n",
       "    <tr>\n",
       "      <th>meaneduc</th>\n",
       "      <td>0.047560</td>\n",
       "    </tr>\n",
       "    <tr>\n",
       "      <th>SQBdependency</th>\n",
       "      <td>0.037160</td>\n",
       "    </tr>\n",
       "    <tr>\n",
       "      <th>SQBhogar_nin</th>\n",
       "      <td>0.033237</td>\n",
       "    </tr>\n",
       "    <tr>\n",
       "      <th>SQBedjefe</th>\n",
       "      <td>0.029455</td>\n",
       "    </tr>\n",
       "    <tr>\n",
       "      <th>qmobilephone</th>\n",
       "      <td>0.025193</td>\n",
       "    </tr>\n",
       "    <tr>\n",
       "      <th>rooms</th>\n",
       "      <td>0.023751</td>\n",
       "    </tr>\n",
       "    <tr>\n",
       "      <th>age</th>\n",
       "      <td>0.022135</td>\n",
       "    </tr>\n",
       "    <tr>\n",
       "      <th>SQBovercrowding</th>\n",
       "      <td>0.021225</td>\n",
       "    </tr>\n",
       "    <tr>\n",
       "      <th>agesq</th>\n",
       "      <td>0.021054</td>\n",
       "    </tr>\n",
       "  </tbody>\n",
       "</table>\n",
       "</div>"
      ],
      "text/plain": [
       "                 importance\n",
       "SQBmeaned          0.048386\n",
       "meaneduc           0.047560\n",
       "SQBdependency      0.037160\n",
       "SQBhogar_nin       0.033237\n",
       "SQBedjefe          0.029455\n",
       "qmobilephone       0.025193\n",
       "rooms              0.023751\n",
       "age                0.022135\n",
       "SQBovercrowding    0.021225\n",
       "agesq              0.021054"
      ]
     },
     "execution_count": 74,
     "metadata": {},
     "output_type": "execute_result"
    }
   ],
   "source": [
    "feature_importances = pd.DataFrame(clf_RF.feature_importances_,\n",
    "                                   index = X_train.columns,\n",
    "                                   columns=['importance']).sort_values('importance', \n",
    "                                   ascending=False)\n",
    "feature_importances.head(10)"
   ]
  },
  {
   "cell_type": "markdown",
   "metadata": {},
   "source": [
    "## XGB Classifier"
   ]
  },
  {
   "cell_type": "code",
   "execution_count": 75,
   "metadata": {},
   "outputs": [],
   "source": [
    "clf_xgb = xgb.XGBClassifier(max_depth=6,n_estimators=100, n_jobs=-1, subsample=.7)"
   ]
  },
  {
   "cell_type": "code",
   "execution_count": 76,
   "metadata": {},
   "outputs": [
    {
     "name": "stdout",
     "output_type": "stream",
     "text": [
      "[0]\tvalidation_0-merror:0.251929\tvalidation_1-merror:0.268828\n",
      "[1]\tvalidation_0-merror:0.238195\tvalidation_1-merror:0.258891\n",
      "[2]\tvalidation_0-merror:0.233224\tvalidation_1-merror:0.256276\n",
      "[3]\tvalidation_0-merror:0.228515\tvalidation_1-merror:0.245816\n",
      "[4]\tvalidation_0-merror:0.228646\tvalidation_1-merror:0.251046\n",
      "[5]\tvalidation_0-merror:0.223283\tvalidation_1-merror:0.250523\n",
      "[6]\tvalidation_0-merror:0.218967\tvalidation_1-merror:0.250523\n",
      "[7]\tvalidation_0-merror:0.219097\tvalidation_1-merror:0.246862\n",
      "[8]\tvalidation_0-merror:0.213996\tvalidation_1-merror:0.243724\n",
      "[9]\tvalidation_0-merror:0.212819\tvalidation_1-merror:0.239017\n",
      "[10]\tvalidation_0-merror:0.212034\tvalidation_1-merror:0.241632\n",
      "[11]\tvalidation_0-merror:0.210464\tvalidation_1-merror:0.238494\n",
      "[12]\tvalidation_0-merror:0.206148\tvalidation_1-merror:0.232741\n",
      "[13]\tvalidation_0-merror:0.205363\tvalidation_1-merror:0.230649\n",
      "[14]\tvalidation_0-merror:0.203401\tvalidation_1-merror:0.228033\n",
      "[15]\tvalidation_0-merror:0.201177\tvalidation_1-merror:0.224372\n",
      "[16]\tvalidation_0-merror:0.198561\tvalidation_1-merror:0.222803\n",
      "[17]\tvalidation_0-merror:0.194899\tvalidation_1-merror:0.22228\n",
      "[18]\tvalidation_0-merror:0.193329\tvalidation_1-merror:0.221234\n",
      "[19]\tvalidation_0-merror:0.191629\tvalidation_1-merror:0.221757\n",
      "[20]\tvalidation_0-merror:0.191759\tvalidation_1-merror:0.221234\n",
      "[21]\tvalidation_0-merror:0.188097\tvalidation_1-merror:0.218096\n",
      "[22]\tvalidation_0-merror:0.18692\tvalidation_1-merror:0.217573\n",
      "[23]\tvalidation_0-merror:0.186004\tvalidation_1-merror:0.218096\n",
      "[24]\tvalidation_0-merror:0.182603\tvalidation_1-merror:0.216004\n",
      "[25]\tvalidation_0-merror:0.184173\tvalidation_1-merror:0.218619\n",
      "[26]\tvalidation_0-merror:0.181687\tvalidation_1-merror:0.216527\n",
      "[27]\tvalidation_0-merror:0.179333\tvalidation_1-merror:0.216004\n",
      "[28]\tvalidation_0-merror:0.17567\tvalidation_1-merror:0.212866\n",
      "[29]\tvalidation_0-merror:0.173578\tvalidation_1-merror:0.211297\n",
      "[30]\tvalidation_0-merror:0.1724\tvalidation_1-merror:0.208682\n",
      "[31]\tvalidation_0-merror:0.171615\tvalidation_1-merror:0.208159\n",
      "[32]\tvalidation_0-merror:0.167953\tvalidation_1-merror:0.202929\n",
      "[33]\tvalidation_0-merror:0.165337\tvalidation_1-merror:0.20136\n",
      "[34]\tvalidation_0-merror:0.162852\tvalidation_1-merror:0.199268\n",
      "[35]\tvalidation_0-merror:0.158666\tvalidation_1-merror:0.195084\n",
      "[36]\tvalidation_0-merror:0.157358\tvalidation_1-merror:0.195607\n",
      "[37]\tvalidation_0-merror:0.154349\tvalidation_1-merror:0.192992\n",
      "[38]\tvalidation_0-merror:0.153041\tvalidation_1-merror:0.190377\n",
      "[39]\tvalidation_0-merror:0.150033\tvalidation_1-merror:0.1909\n",
      "[40]\tvalidation_0-merror:0.148071\tvalidation_1-merror:0.189854\n",
      "[41]\tvalidation_0-merror:0.145716\tvalidation_1-merror:0.185669\n",
      "[42]\tvalidation_0-merror:0.143623\tvalidation_1-merror:0.184623\n",
      "[43]\tvalidation_0-merror:0.142054\tvalidation_1-merror:0.182008\n",
      "[44]\tvalidation_0-merror:0.139961\tvalidation_1-merror:0.182531\n",
      "[45]\tvalidation_0-merror:0.13826\tvalidation_1-merror:0.183054\n",
      "[46]\tvalidation_0-merror:0.137083\tvalidation_1-merror:0.180962\n",
      "[47]\tvalidation_0-merror:0.135121\tvalidation_1-merror:0.181485\n",
      "[48]\tvalidation_0-merror:0.134336\tvalidation_1-merror:0.179393\n",
      "[49]\tvalidation_0-merror:0.132374\tvalidation_1-merror:0.178347\n",
      "[50]\tvalidation_0-merror:0.131458\tvalidation_1-merror:0.178347\n",
      "[51]\tvalidation_0-merror:0.130935\tvalidation_1-merror:0.178347\n",
      "[52]\tvalidation_0-merror:0.129235\tvalidation_1-merror:0.177301\n",
      "[53]\tvalidation_0-merror:0.127534\tvalidation_1-merror:0.178347\n",
      "[54]\tvalidation_0-merror:0.125572\tvalidation_1-merror:0.177301\n",
      "[55]\tvalidation_0-merror:0.123349\tvalidation_1-merror:0.176778\n",
      "[56]\tvalidation_0-merror:0.122825\tvalidation_1-merror:0.177301\n",
      "[57]\tvalidation_0-merror:0.122564\tvalidation_1-merror:0.177301\n",
      "[58]\tvalidation_0-merror:0.120733\tvalidation_1-merror:0.175732\n",
      "[59]\tvalidation_0-merror:0.118378\tvalidation_1-merror:0.175209\n",
      "[60]\tvalidation_0-merror:0.113931\tvalidation_1-merror:0.172071\n",
      "[61]\tvalidation_0-merror:0.112623\tvalidation_1-merror:0.172594\n",
      "[62]\tvalidation_0-merror:0.111184\tvalidation_1-merror:0.172071\n",
      "[63]\tvalidation_0-merror:0.110268\tvalidation_1-merror:0.171548\n",
      "[64]\tvalidation_0-merror:0.109876\tvalidation_1-merror:0.171548\n",
      "[65]\tvalidation_0-merror:0.108306\tvalidation_1-merror:0.169979\n",
      "[66]\tvalidation_0-merror:0.105428\tvalidation_1-merror:0.16841\n",
      "[67]\tvalidation_0-merror:0.10399\tvalidation_1-merror:0.167364\n",
      "[68]\tvalidation_0-merror:0.101504\tvalidation_1-merror:0.165272\n",
      "[69]\tvalidation_0-merror:0.100196\tvalidation_1-merror:0.164749\n",
      "[70]\tvalidation_0-merror:0.096141\tvalidation_1-merror:0.163703\n",
      "[71]\tvalidation_0-merror:0.094572\tvalidation_1-merror:0.162134\n",
      "[72]\tvalidation_0-merror:0.093918\tvalidation_1-merror:0.161611\n",
      "[73]\tvalidation_0-merror:0.093656\tvalidation_1-merror:0.161088\n",
      "[74]\tvalidation_0-merror:0.091694\tvalidation_1-merror:0.161611\n",
      "[75]\tvalidation_0-merror:0.09104\tvalidation_1-merror:0.160565\n",
      "[76]\tvalidation_0-merror:0.089732\tvalidation_1-merror:0.157427\n",
      "[77]\tvalidation_0-merror:0.088947\tvalidation_1-merror:0.156904\n",
      "[78]\tvalidation_0-merror:0.088424\tvalidation_1-merror:0.15795\n",
      "[79]\tvalidation_0-merror:0.087116\tvalidation_1-merror:0.155858\n",
      "[80]\tvalidation_0-merror:0.086593\tvalidation_1-merror:0.155858\n",
      "[81]\tvalidation_0-merror:0.085285\tvalidation_1-merror:0.154289\n",
      "[82]\tvalidation_0-merror:0.084238\tvalidation_1-merror:0.152197\n",
      "[83]\tvalidation_0-merror:0.082799\tvalidation_1-merror:0.149582\n",
      "[84]\tvalidation_0-merror:0.081884\tvalidation_1-merror:0.149059\n",
      "[85]\tvalidation_0-merror:0.080837\tvalidation_1-merror:0.146444\n",
      "[86]\tvalidation_0-merror:0.080576\tvalidation_1-merror:0.148013\n",
      "[87]\tvalidation_0-merror:0.078483\tvalidation_1-merror:0.148013\n",
      "[88]\tvalidation_0-merror:0.077959\tvalidation_1-merror:0.145397\n",
      "[89]\tvalidation_0-merror:0.076521\tvalidation_1-merror:0.146967\n",
      "[90]\tvalidation_0-merror:0.075474\tvalidation_1-merror:0.143305\n",
      "[91]\tvalidation_0-merror:0.07482\tvalidation_1-merror:0.143305\n",
      "[92]\tvalidation_0-merror:0.073643\tvalidation_1-merror:0.143828\n",
      "[93]\tvalidation_0-merror:0.07325\tvalidation_1-merror:0.142782\n",
      "[94]\tvalidation_0-merror:0.07312\tvalidation_1-merror:0.142782\n",
      "[95]\tvalidation_0-merror:0.072335\tvalidation_1-merror:0.14069\n",
      "[96]\tvalidation_0-merror:0.071158\tvalidation_1-merror:0.141213\n",
      "[97]\tvalidation_0-merror:0.070634\tvalidation_1-merror:0.141736\n",
      "[98]\tvalidation_0-merror:0.069065\tvalidation_1-merror:0.140167\n",
      "[99]\tvalidation_0-merror:0.067888\tvalidation_1-merror:0.139644\n"
     ]
    },
    {
     "data": {
      "text/plain": [
       "XGBClassifier(base_score=0.5, booster='gbtree', colsample_bylevel=1,\n",
       "       colsample_bynode=1, colsample_bytree=1, gamma=0, learning_rate=0.1,\n",
       "       max_delta_step=0, max_depth=6, min_child_weight=1, missing=None,\n",
       "       n_estimators=100, n_jobs=-1, nthread=None,\n",
       "       objective='multi:softprob', random_state=0, reg_alpha=0,\n",
       "       reg_lambda=1, scale_pos_weight=1, seed=None, silent=None,\n",
       "       subsample=0.7, verbosity=1)"
      ]
     },
     "execution_count": 76,
     "metadata": {},
     "output_type": "execute_result"
    }
   ],
   "source": [
    "clf_xgb.fit(X_train, y_train, eval_set=[(X_train, y_train), (X_test, y_test)], verbose=True)"
   ]
  },
  {
   "cell_type": "code",
   "execution_count": 77,
   "metadata": {},
   "outputs": [
    {
     "data": {
      "text/plain": [
       "0.8603556485355649"
      ]
     },
     "execution_count": 77,
     "metadata": {},
     "output_type": "execute_result"
    }
   ],
   "source": [
    "clf_xgb.score(X_test, y_test)"
   ]
  },
  {
   "cell_type": "code",
   "execution_count": 78,
   "metadata": {},
   "outputs": [
    {
     "data": {
      "text/plain": [
       "0.7887912428409045"
      ]
     },
     "execution_count": 78,
     "metadata": {},
     "output_type": "execute_result"
    }
   ],
   "source": [
    "y_pred_xgb = clf_xgb.predict(X_test)\n",
    "\n",
    "f1_xgb = f1_score(y_test, y_pred_xgb, average='macro')\n",
    "f1_xgb"
   ]
  },
  {
   "cell_type": "markdown",
   "metadata": {},
   "source": [
    "### Feature Importance (XGBoost)"
   ]
  },
  {
   "cell_type": "code",
   "execution_count": 79,
   "metadata": {
    "scrolled": true
   },
   "outputs": [
    {
     "data": {
      "text/plain": [
       "<matplotlib.axes._subplots.AxesSubplot at 0x7f88e450f7f0>"
      ]
     },
     "execution_count": 79,
     "metadata": {},
     "output_type": "execute_result"
    },
    {
     "data": {
      "image/png": "[encoded data removed]",
      "text/plain": [
       "<Figure size 432x288 with 1 Axes>"
      ]
     },
     "metadata": {},
     "output_type": "display_data"
    }
   ],
   "source": [
    "xgb.plot_importance(clf_xgb, max_num_features=20)"
   ]
  },
  {
   "cell_type": "markdown",
   "metadata": {},
   "source": [
    "# Classification with Predicted Rent Values"
   ]
  },
  {
   "cell_type": "code",
   "execution_count": 80,
   "metadata": {},
   "outputs": [
    {
     "name": "stdout",
     "output_type": "stream",
     "text": [
      "(9557, 136)\n",
      "(9557,)\n"
     ]
    }
   ],
   "source": [
    "# Load dataframe \n",
    "df_rent = pd.read_pickle('df_rent.pkl')\n",
    "\n",
    "# Partition explanatory and response variables\n",
    "X = df_rent.drop(columns='Target')\n",
    "print(X.shape)\n",
    "\n",
    "y = df_rent['Target']\n",
    "print(y.shape)"
   ]
  },
  {
   "cell_type": "code",
   "execution_count": 81,
   "metadata": {},
   "outputs": [],
   "source": [
    "X_train, X_test, y_train, y_test = train_test_split(X, y, test_size = 0.2, stratify=y, random_state=12345)"
   ]
  },
  {
   "cell_type": "markdown",
   "metadata": {},
   "source": [
    "## Linear Regression"
   ]
  },
  {
   "cell_type": "code",
   "execution_count": 82,
   "metadata": {},
   "outputs": [],
   "source": [
    "clf_linear = LinearRegression()"
   ]
  },
  {
   "cell_type": "code",
   "execution_count": 83,
   "metadata": {
    "scrolled": true
   },
   "outputs": [
    {
     "data": {
      "text/plain": [
       "LinearRegression(copy_X=True, fit_intercept=True, n_jobs=None,\n",
       "         normalize=False)"
      ]
     },
     "execution_count": 83,
     "metadata": {},
     "output_type": "execute_result"
    }
   ],
   "source": [
    "clf_linear.fit(X_train, y_train)"
   ]
  },
  {
   "cell_type": "code",
   "execution_count": 84,
   "metadata": {},
   "outputs": [
    {
     "data": {
      "text/plain": [
       "0.4952928870292887"
      ]
     },
     "execution_count": 84,
     "metadata": {},
     "output_type": "execute_result"
    }
   ],
   "source": [
    "y_pred = clf_linear.predict(X_test)\n",
    "y_pred = y_pred.round()\n",
    "y_pred = y_pred.astype(int)\n",
    "\n",
    "df_test = pd.DataFrame([y_pred, y_test], index=['ypred', 'ytest'])\n",
    "df_test = df_test.transpose()\n",
    "df_test['correct'] = df_test['ypred'] == df_test['ytest']\n",
    "df_test.correct.mean()"
   ]
  },
  {
   "cell_type": "code",
   "execution_count": 85,
   "metadata": {
    "scrolled": true
   },
   "outputs": [
    {
     "name": "stderr",
     "output_type": "stream",
     "text": [
      "/home/nemosaic/.local/lib/python3.6/site-packages/sklearn/metrics/classification.py:1145: UndefinedMetricWarning: F-score is ill-defined and being set to 0.0 in labels with no true samples.\n",
      "  'recall', 'true', average, warn_for)\n"
     ]
    },
    {
     "data": {
      "text/plain": [
       "0.28552747900196884"
      ]
     },
     "execution_count": 85,
     "metadata": {},
     "output_type": "execute_result"
    }
   ],
   "source": [
    "f1_linear_rent = f1_score(y_test, y_pred, average='macro')\n",
    "f1_linear_rent"
   ]
  },
  {
   "cell_type": "markdown",
   "metadata": {},
   "source": [
    "## Multiclass Logistic"
   ]
  },
  {
   "cell_type": "code",
   "execution_count": 86,
   "metadata": {},
   "outputs": [],
   "source": [
    "clf_multiclass_logistic = LogisticRegressionCV(class_weight='balanced', multi_class='multinomial')"
   ]
  },
  {
   "cell_type": "code",
   "execution_count": 87,
   "metadata": {
    "scrolled": true
   },
   "outputs": [
    {
     "name": "stderr",
     "output_type": "stream",
     "text": [
      "/home/nemosaic/.local/lib/python3.6/site-packages/sklearn/model_selection/_split.py:2053: FutureWarning: You should specify a value for 'cv' instead of relying on the default value. The default value will change from 3 to 5 in version 0.22.\n",
      "  warnings.warn(CV_WARNING, FutureWarning)\n",
      "/home/nemosaic/.local/lib/python3.6/site-packages/sklearn/linear_model/logistic.py:758: ConvergenceWarning: lbfgs failed to converge. Increase the number of iterations.\n",
      "  \"of iterations.\", ConvergenceWarning)\n",
      "/home/nemosaic/.local/lib/python3.6/site-packages/sklearn/linear_model/logistic.py:758: ConvergenceWarning: lbfgs failed to converge. Increase the number of iterations.\n",
      "  \"of iterations.\", ConvergenceWarning)\n",
      "/home/nemosaic/.local/lib/python3.6/site-packages/sklearn/linear_model/logistic.py:758: ConvergenceWarning: lbfgs failed to converge. Increase the number of iterations.\n",
      "  \"of iterations.\", ConvergenceWarning)\n",
      "/home/nemosaic/.local/lib/python3.6/site-packages/sklearn/linear_model/logistic.py:758: ConvergenceWarning: lbfgs failed to converge. Increase the number of iterations.\n",
      "  \"of iterations.\", ConvergenceWarning)\n"
     ]
    },
    {
     "data": {
      "text/plain": [
       "LogisticRegressionCV(Cs=10, class_weight='balanced', cv='warn', dual=False,\n",
       "           fit_intercept=True, intercept_scaling=1.0, max_iter=100,\n",
       "           multi_class='multinomial', n_jobs=None, penalty='l2',\n",
       "           random_state=None, refit=True, scoring=None, solver='lbfgs',\n",
       "           tol=0.0001, verbose=0)"
      ]
     },
     "execution_count": 87,
     "metadata": {},
     "output_type": "execute_result"
    }
   ],
   "source": [
    "clf_multiclass_logistic.fit(X_train, y_train)"
   ]
  },
  {
   "cell_type": "code",
   "execution_count": 88,
   "metadata": {},
   "outputs": [
    {
     "data": {
      "text/plain": [
       "0.5057531380753139"
      ]
     },
     "execution_count": 88,
     "metadata": {},
     "output_type": "execute_result"
    }
   ],
   "source": [
    "clf_multiclass_logistic.score(X_test, y_test)"
   ]
  },
  {
   "cell_type": "code",
   "execution_count": 89,
   "metadata": {},
   "outputs": [
    {
     "data": {
      "text/plain": [
       "0.3354626622214823"
      ]
     },
     "execution_count": 89,
     "metadata": {},
     "output_type": "execute_result"
    }
   ],
   "source": [
    "y_pred_log_reg = clf_multiclass_logistic.predict(X_test)\n",
    "\n",
    "f1_logistic_rent = f1_score(y_test, y_pred_log_reg, average='macro')\n",
    "f1_logistic_rent"
   ]
  },
  {
   "cell_type": "markdown",
   "metadata": {},
   "source": [
    "## SVM"
   ]
  },
  {
   "cell_type": "code",
   "execution_count": 90,
   "metadata": {},
   "outputs": [],
   "source": [
    "clf_SVM = SVC()"
   ]
  },
  {
   "cell_type": "code",
   "execution_count": 91,
   "metadata": {
    "scrolled": true
   },
   "outputs": [
    {
     "name": "stderr",
     "output_type": "stream",
     "text": [
      "/home/nemosaic/.local/lib/python3.6/site-packages/sklearn/svm/base.py:196: FutureWarning: The default value of gamma will change from 'auto' to 'scale' in version 0.22 to account better for unscaled features. Set gamma explicitly to 'auto' or 'scale' to avoid this warning.\n",
      "  \"avoid this warning.\", FutureWarning)\n"
     ]
    },
    {
     "data": {
      "text/plain": [
       "SVC(C=1.0, cache_size=200, class_weight=None, coef0=0.0,\n",
       "  decision_function_shape='ovr', degree=3, gamma='auto_deprecated',\n",
       "  kernel='rbf', max_iter=-1, probability=False, random_state=None,\n",
       "  shrinking=True, tol=0.001, verbose=False)"
      ]
     },
     "execution_count": 91,
     "metadata": {},
     "output_type": "execute_result"
    }
   ],
   "source": [
    "clf_SVM.fit(X_train, y_train)"
   ]
  },
  {
   "cell_type": "code",
   "execution_count": 92,
   "metadata": {},
   "outputs": [
    {
     "data": {
      "text/plain": [
       "0.6302301255230126"
      ]
     },
     "execution_count": 92,
     "metadata": {},
     "output_type": "execute_result"
    }
   ],
   "source": [
    "clf_SVM.score(X_test, y_test)"
   ]
  },
  {
   "cell_type": "code",
   "execution_count": 93,
   "metadata": {},
   "outputs": [
    {
     "data": {
      "text/plain": [
       "0.2066695713089907"
      ]
     },
     "execution_count": 93,
     "metadata": {},
     "output_type": "execute_result"
    }
   ],
   "source": [
    "y_pred_SVM = clf_SVM.predict(X_test)\n",
    "\n",
    "f1_SVM_rent = f1_score(y_test, y_pred_SVM, average='macro')\n",
    "f1_SVM_rent"
   ]
  },
  {
   "cell_type": "markdown",
   "metadata": {},
   "source": [
    "## Random Forests"
   ]
  },
  {
   "cell_type": "code",
   "execution_count": 94,
   "metadata": {},
   "outputs": [],
   "source": [
    "clf_RF = RandomForestClassifier()"
   ]
  },
  {
   "cell_type": "code",
   "execution_count": 95,
   "metadata": {},
   "outputs": [
    {
     "name": "stderr",
     "output_type": "stream",
     "text": [
      "/home/nemosaic/.local/lib/python3.6/site-packages/sklearn/ensemble/forest.py:246: FutureWarning: The default value of n_estimators will change from 10 in version 0.20 to 100 in 0.22.\n",
      "  \"10 in version 0.20 to 100 in 0.22.\", FutureWarning)\n"
     ]
    },
    {
     "data": {
      "text/plain": [
       "RandomForestClassifier(bootstrap=True, class_weight=None, criterion='gini',\n",
       "            max_depth=None, max_features='auto', max_leaf_nodes=None,\n",
       "            min_impurity_decrease=0.0, min_impurity_split=None,\n",
       "            min_samples_leaf=1, min_samples_split=2,\n",
       "            min_weight_fraction_leaf=0.0, n_estimators=10, n_jobs=None,\n",
       "            oob_score=False, random_state=None, verbose=0,\n",
       "            warm_start=False)"
      ]
     },
     "execution_count": 95,
     "metadata": {},
     "output_type": "execute_result"
    }
   ],
   "source": [
    "clf_RF.fit(X_train, y_train)"
   ]
  },
  {
   "cell_type": "code",
   "execution_count": 96,
   "metadata": {},
   "outputs": [
    {
     "data": {
      "text/plain": [
       "0.9021966527196653"
      ]
     },
     "execution_count": 96,
     "metadata": {},
     "output_type": "execute_result"
    }
   ],
   "source": [
    "clf_RF.score(X_test, y_test)"
   ]
  },
  {
   "cell_type": "code",
   "execution_count": 97,
   "metadata": {},
   "outputs": [
    {
     "data": {
      "text/plain": [
       "0.85445860885776"
      ]
     },
     "execution_count": 97,
     "metadata": {},
     "output_type": "execute_result"
    }
   ],
   "source": [
    "y_pred_RF = clf_RF.predict(X_test)\n",
    "\n",
    "f1_RF_rent = f1_score(y_test, y_pred_RF, average='macro')\n",
    "f1_RF_rent"
   ]
  },
  {
   "cell_type": "code",
   "execution_count": 98,
   "metadata": {},
   "outputs": [
    {
     "data": {
      "text/html": [
       "<div>\n",
       "<style scoped>\n",
       "    .dataframe tbody tr th:only-of-type {\n",
       "        vertical-align: middle;\n",
       "    }\n",
       "\n",
       "    .dataframe tbody tr th {\n",
       "        vertical-align: top;\n",
       "    }\n",
       "\n",
       "    .dataframe thead th {\n",
       "        text-align: right;\n",
       "    }\n",
       "</style>\n",
       "<table border=\"1\" class=\"dataframe\">\n",
       "  <thead>\n",
       "    <tr style=\"text-align: right;\">\n",
       "      <th></th>\n",
       "      <th>importance</th>\n",
       "    </tr>\n",
       "  </thead>\n",
       "  <tbody>\n",
       "    <tr>\n",
       "      <th>meaneduc</th>\n",
       "      <td>0.050595</td>\n",
       "    </tr>\n",
       "    <tr>\n",
       "      <th>SQBmeaned</th>\n",
       "      <td>0.049719</td>\n",
       "    </tr>\n",
       "    <tr>\n",
       "      <th>SQBdependency</th>\n",
       "      <td>0.040929</td>\n",
       "    </tr>\n",
       "    <tr>\n",
       "      <th>v2a1</th>\n",
       "      <td>0.040395</td>\n",
       "    </tr>\n",
       "    <tr>\n",
       "      <th>overcrowding</th>\n",
       "      <td>0.029288</td>\n",
       "    </tr>\n",
       "    <tr>\n",
       "      <th>SQBedjefe</th>\n",
       "      <td>0.029024</td>\n",
       "    </tr>\n",
       "    <tr>\n",
       "      <th>qmobilephone</th>\n",
       "      <td>0.023197</td>\n",
       "    </tr>\n",
       "    <tr>\n",
       "      <th>hogar_nin</th>\n",
       "      <td>0.022029</td>\n",
       "    </tr>\n",
       "    <tr>\n",
       "      <th>SQBovercrowding</th>\n",
       "      <td>0.021949</td>\n",
       "    </tr>\n",
       "    <tr>\n",
       "      <th>SQBhogar_nin</th>\n",
       "      <td>0.021004</td>\n",
       "    </tr>\n",
       "  </tbody>\n",
       "</table>\n",
       "</div>"
      ],
      "text/plain": [
       "                 importance\n",
       "meaneduc           0.050595\n",
       "SQBmeaned          0.049719\n",
       "SQBdependency      0.040929\n",
       "v2a1               0.040395\n",
       "overcrowding       0.029288\n",
       "SQBedjefe          0.029024\n",
       "qmobilephone       0.023197\n",
       "hogar_nin          0.022029\n",
       "SQBovercrowding    0.021949\n",
       "SQBhogar_nin       0.021004"
      ]
     },
     "execution_count": 98,
     "metadata": {},
     "output_type": "execute_result"
    }
   ],
   "source": [
    "feature_importances = pd.DataFrame(clf_RF.feature_importances_,\n",
    "                                   index = X_train.columns,\n",
    "                                   columns=['importance']).sort_values('importance', \n",
    "                                   ascending=False)\n",
    "feature_importances.head(10)"
   ]
  },
  {
   "cell_type": "markdown",
   "metadata": {},
   "source": [
    "## XGB Classifier"
   ]
  },
  {
   "cell_type": "code",
   "execution_count": 99,
   "metadata": {},
   "outputs": [],
   "source": [
    "clf_xgb = xgb.XGBClassifier(max_depth=6,n_estimators=100, n_jobs=-1, subsample=.7)"
   ]
  },
  {
   "cell_type": "code",
   "execution_count": 100,
   "metadata": {},
   "outputs": [
    {
     "name": "stdout",
     "output_type": "stream",
     "text": [
      "[0]\tvalidation_0-merror:0.254284\tvalidation_1-merror:0.27772\n",
      "[1]\tvalidation_0-merror:0.241857\tvalidation_1-merror:0.265167\n",
      "[2]\tvalidation_0-merror:0.235971\tvalidation_1-merror:0.257845\n",
      "[3]\tvalidation_0-merror:0.228385\tvalidation_1-merror:0.251046\n",
      "[4]\tvalidation_0-merror:0.225899\tvalidation_1-merror:0.247385\n",
      "[5]\tvalidation_0-merror:0.221975\tvalidation_1-merror:0.245293\n",
      "[6]\tvalidation_0-merror:0.220798\tvalidation_1-merror:0.243724\n",
      "[7]\tvalidation_0-merror:0.215566\tvalidation_1-merror:0.239017\n",
      "[8]\tvalidation_0-merror:0.214258\tvalidation_1-merror:0.23954\n",
      "[9]\tvalidation_0-merror:0.212165\tvalidation_1-merror:0.239017\n",
      "[10]\tvalidation_0-merror:0.210595\tvalidation_1-merror:0.237971\n",
      "[11]\tvalidation_0-merror:0.209156\tvalidation_1-merror:0.233264\n",
      "[12]\tvalidation_0-merror:0.20811\tvalidation_1-merror:0.235356\n",
      "[13]\tvalidation_0-merror:0.203401\tvalidation_1-merror:0.231695\n",
      "[14]\tvalidation_0-merror:0.202878\tvalidation_1-merror:0.232218\n",
      "[15]\tvalidation_0-merror:0.199608\tvalidation_1-merror:0.226987\n",
      "[16]\tvalidation_0-merror:0.195291\tvalidation_1-merror:0.225418\n",
      "[17]\tvalidation_0-merror:0.192806\tvalidation_1-merror:0.225941\n",
      "[18]\tvalidation_0-merror:0.192544\tvalidation_1-merror:0.228033\n",
      "[19]\tvalidation_0-merror:0.189928\tvalidation_1-merror:0.225418\n",
      "[20]\tvalidation_0-merror:0.186527\tvalidation_1-merror:0.225941\n",
      "[21]\tvalidation_0-merror:0.183126\tvalidation_1-merror:0.22228\n",
      "[22]\tvalidation_0-merror:0.18051\tvalidation_1-merror:0.220188\n",
      "[23]\tvalidation_0-merror:0.179071\tvalidation_1-merror:0.218096\n",
      "[24]\tvalidation_0-merror:0.174624\tvalidation_1-merror:0.21705\n",
      "[25]\tvalidation_0-merror:0.173578\tvalidation_1-merror:0.21705\n",
      "[26]\tvalidation_0-merror:0.171485\tvalidation_1-merror:0.218096\n",
      "[27]\tvalidation_0-merror:0.170046\tvalidation_1-merror:0.213912\n",
      "[28]\tvalidation_0-merror:0.166906\tvalidation_1-merror:0.21182\n",
      "[29]\tvalidation_0-merror:0.166645\tvalidation_1-merror:0.209205\n",
      "[30]\tvalidation_0-merror:0.164814\tvalidation_1-merror:0.209728\n",
      "[31]\tvalidation_0-merror:0.162852\tvalidation_1-merror:0.20659\n",
      "[32]\tvalidation_0-merror:0.161282\tvalidation_1-merror:0.205544\n",
      "[33]\tvalidation_0-merror:0.159189\tvalidation_1-merror:0.203452\n",
      "[34]\tvalidation_0-merror:0.155396\tvalidation_1-merror:0.200314\n",
      "[35]\tvalidation_0-merror:0.153564\tvalidation_1-merror:0.199791\n",
      "[36]\tvalidation_0-merror:0.151472\tvalidation_1-merror:0.198222\n",
      "[37]\tvalidation_0-merror:0.149248\tvalidation_1-merror:0.196653\n",
      "[38]\tvalidation_0-merror:0.147286\tvalidation_1-merror:0.191946\n",
      "[39]\tvalidation_0-merror:0.145455\tvalidation_1-merror:0.189854\n",
      "[40]\tvalidation_0-merror:0.142969\tvalidation_1-merror:0.1909\n",
      "[41]\tvalidation_0-merror:0.141923\tvalidation_1-merror:0.190377\n",
      "[42]\tvalidation_0-merror:0.137999\tvalidation_1-merror:0.187238\n",
      "[43]\tvalidation_0-merror:0.136298\tvalidation_1-merror:0.187238\n",
      "[44]\tvalidation_0-merror:0.135121\tvalidation_1-merror:0.183054\n",
      "[45]\tvalidation_0-merror:0.134336\tvalidation_1-merror:0.1841\n",
      "[46]\tvalidation_0-merror:0.13329\tvalidation_1-merror:0.180962\n",
      "[47]\tvalidation_0-merror:0.131328\tvalidation_1-merror:0.182008\n",
      "[48]\tvalidation_0-merror:0.130281\tvalidation_1-merror:0.179916\n",
      "[49]\tvalidation_0-merror:0.128058\tvalidation_1-merror:0.181485\n",
      "[50]\tvalidation_0-merror:0.127273\tvalidation_1-merror:0.180962\n",
      "[51]\tvalidation_0-merror:0.12518\tvalidation_1-merror:0.180439\n",
      "[52]\tvalidation_0-merror:0.123349\tvalidation_1-merror:0.181485\n",
      "[53]\tvalidation_0-merror:0.121387\tvalidation_1-merror:0.180439\n",
      "[54]\tvalidation_0-merror:0.11877\tvalidation_1-merror:0.180439\n",
      "[55]\tvalidation_0-merror:0.11707\tvalidation_1-merror:0.176778\n",
      "[56]\tvalidation_0-merror:0.113407\tvalidation_1-merror:0.172594\n",
      "[57]\tvalidation_0-merror:0.113015\tvalidation_1-merror:0.171548\n",
      "[58]\tvalidation_0-merror:0.110922\tvalidation_1-merror:0.171548\n",
      "[59]\tvalidation_0-merror:0.108698\tvalidation_1-merror:0.170502\n",
      "[60]\tvalidation_0-merror:0.106606\tvalidation_1-merror:0.165272\n",
      "[61]\tvalidation_0-merror:0.105821\tvalidation_1-merror:0.164226\n",
      "[62]\tvalidation_0-merror:0.104382\tvalidation_1-merror:0.163703\n",
      "[63]\tvalidation_0-merror:0.103466\tvalidation_1-merror:0.162134\n",
      "[64]\tvalidation_0-merror:0.103074\tvalidation_1-merror:0.162134\n",
      "[65]\tvalidation_0-merror:0.101635\tvalidation_1-merror:0.162657\n",
      "[66]\tvalidation_0-merror:0.099804\tvalidation_1-merror:0.162134\n",
      "[67]\tvalidation_0-merror:0.098234\tvalidation_1-merror:0.158473\n",
      "[68]\tvalidation_0-merror:0.097449\tvalidation_1-merror:0.159519\n",
      "[69]\tvalidation_0-merror:0.096534\tvalidation_1-merror:0.158473\n",
      "[70]\tvalidation_0-merror:0.094572\tvalidation_1-merror:0.156381\n",
      "[71]\tvalidation_0-merror:0.093525\tvalidation_1-merror:0.157427\n",
      "[72]\tvalidation_0-merror:0.091825\tvalidation_1-merror:0.156904\n",
      "[73]\tvalidation_0-merror:0.089339\tvalidation_1-merror:0.155335\n",
      "[74]\tvalidation_0-merror:0.087508\tvalidation_1-merror:0.154289\n",
      "[75]\tvalidation_0-merror:0.086462\tvalidation_1-merror:0.15272\n",
      "[76]\tvalidation_0-merror:0.08463\tvalidation_1-merror:0.152197\n",
      "[77]\tvalidation_0-merror:0.083846\tvalidation_1-merror:0.15272\n",
      "[78]\tvalidation_0-merror:0.082538\tvalidation_1-merror:0.153243\n",
      "[79]\tvalidation_0-merror:0.08136\tvalidation_1-merror:0.153766\n",
      "[80]\tvalidation_0-merror:0.080706\tvalidation_1-merror:0.151674\n",
      "[81]\tvalidation_0-merror:0.078744\tvalidation_1-merror:0.150628\n",
      "[82]\tvalidation_0-merror:0.076913\tvalidation_1-merror:0.148536\n",
      "[83]\tvalidation_0-merror:0.075997\tvalidation_1-merror:0.148536\n",
      "[84]\tvalidation_0-merror:0.073774\tvalidation_1-merror:0.148013\n",
      "[85]\tvalidation_0-merror:0.072335\tvalidation_1-merror:0.146444\n",
      "[86]\tvalidation_0-merror:0.071681\tvalidation_1-merror:0.145921\n",
      "[87]\tvalidation_0-merror:0.071027\tvalidation_1-merror:0.144874\n",
      "[88]\tvalidation_0-merror:0.070111\tvalidation_1-merror:0.145397\n",
      "[89]\tvalidation_0-merror:0.069326\tvalidation_1-merror:0.146444\n",
      "[90]\tvalidation_0-merror:0.067233\tvalidation_1-merror:0.14749\n",
      "[91]\tvalidation_0-merror:0.066972\tvalidation_1-merror:0.144351\n",
      "[92]\tvalidation_0-merror:0.065925\tvalidation_1-merror:0.143828\n",
      "[93]\tvalidation_0-merror:0.065664\tvalidation_1-merror:0.145397\n",
      "[94]\tvalidation_0-merror:0.065141\tvalidation_1-merror:0.144351\n",
      "[95]\tvalidation_0-merror:0.063309\tvalidation_1-merror:0.144874\n",
      "[96]\tvalidation_0-merror:0.062394\tvalidation_1-merror:0.145921\n",
      "[97]\tvalidation_0-merror:0.060824\tvalidation_1-merror:0.144874\n",
      "[98]\tvalidation_0-merror:0.060824\tvalidation_1-merror:0.144351\n",
      "[99]\tvalidation_0-merror:0.059254\tvalidation_1-merror:0.143828\n"
     ]
    },
    {
     "data": {
      "text/plain": [
       "XGBClassifier(base_score=0.5, booster='gbtree', colsample_bylevel=1,\n",
       "       colsample_bynode=1, colsample_bytree=1, gamma=0, learning_rate=0.1,\n",
       "       max_delta_step=0, max_depth=6, min_child_weight=1, missing=None,\n",
       "       n_estimators=100, n_jobs=-1, nthread=None,\n",
       "       objective='multi:softprob', random_state=0, reg_alpha=0,\n",
       "       reg_lambda=1, scale_pos_weight=1, seed=None, silent=None,\n",
       "       subsample=0.7, verbosity=1)"
      ]
     },
     "execution_count": 100,
     "metadata": {},
     "output_type": "execute_result"
    }
   ],
   "source": [
    "clf_xgb.fit(X_train, y_train, eval_set=[(X_train, y_train), (X_test, y_test)], verbose=True)"
   ]
  },
  {
   "cell_type": "code",
   "execution_count": 101,
   "metadata": {},
   "outputs": [
    {
     "data": {
      "text/plain": [
       "0.8561715481171548"
      ]
     },
     "execution_count": 101,
     "metadata": {},
     "output_type": "execute_result"
    }
   ],
   "source": [
    "clf_xgb.score(X_test, y_test)"
   ]
  },
  {
   "cell_type": "code",
   "execution_count": 102,
   "metadata": {},
   "outputs": [
    {
     "data": {
      "text/plain": [
       "0.7752747119102226"
      ]
     },
     "execution_count": 102,
     "metadata": {},
     "output_type": "execute_result"
    }
   ],
   "source": [
    "y_pred_xgb = clf_xgb.predict(X_test)\n",
    "\n",
    "f1_xgb_rent = f1_score(y_test, y_pred_xgb, average='macro')\n",
    "f1_xgb_rent"
   ]
  },
  {
   "cell_type": "markdown",
   "metadata": {},
   "source": [
    "### Feature Importance (XGBoost)"
   ]
  },
  {
   "cell_type": "code",
   "execution_count": 103,
   "metadata": {
    "scrolled": true
   },
   "outputs": [
    {
     "data": {
      "text/plain": [
       "<matplotlib.axes._subplots.AxesSubplot at 0x7f88e42da518>"
      ]
     },
     "execution_count": 103,
     "metadata": {},
     "output_type": "execute_result"
    },
    {
     "data": {
      "image/png": "[encoded data removed]",
      "text/plain": [
       "<Figure size 432x288 with 1 Axes>"
      ]
     },
     "metadata": {},
     "output_type": "display_data"
    }
   ],
   "source": [
    "xgb.plot_importance(clf_xgb, max_num_features=20)"
   ]
  },
  {
   "cell_type": "markdown",
   "metadata": {},
   "source": [
    "## Comparison of Models"
   ]
  },
  {
   "cell_type": "code",
   "execution_count": 104,
   "metadata": {},
   "outputs": [
    {
     "name": "stdout",
     "output_type": "stream",
     "text": [
      "Change in f1 with predicted rent values:\n",
      "\n",
      "Linear Regression:\t  0.00166\n",
      "Logistic Regression:\t -0.05172\n",
      "Support Vector Machines: -0.01506\n",
      "Random Forrest:\t\t  0.02217\n",
      "XGBoost:\t\t -0.01352\n"
     ]
    }
   ],
   "source": [
    "print(\"Change in f1 with predicted rent values:\\n\")\n",
    "\n",
    "# Linear Regression\n",
    "print(\"Linear Regression:\\t \", round(f1_linear_rent - f1_linear, 5))\n",
    "\n",
    "# Multiple Logistic Regression\n",
    "print(\"Logistic Regression:\\t\", round(f1_logistic_rent - f1_logistic, 5))\n",
    "\n",
    "# SVM\n",
    "print(\"Support Vector Machines:\", round(f1_SVM_rent - f1_SVM, 5))\n",
    "\n",
    "# Random Forrest\n",
    "print(\"Random Forrest:\\t\\t \", round(f1_RF_rent - f1_RF, 5))\n",
    "\n",
    "# XGB\n",
    "print(\"XGBoost:\\t\\t\", round(f1_xgb_rent - f1_xgb, 5))"
   ]
  },
  {
   "cell_type": "code",
   "execution_count": 106,
   "metadata": {},
   "outputs": [
    {
     "name": "stdout",
     "output_type": "stream",
     "text": [
      "NO RENT (RF) 0.8322908158024427\n",
      "W/ RENT (RF) 0.85445860885776\n",
      "NO RENT (XGB) 0.7887912428409045\n",
      "W/ RENT (XGB) 0.7752747119102226\n"
     ]
    }
   ],
   "source": [
    "print(\"NO RENT (RF)\", f1_RF)\n",
    "print(\"W/ RENT (RF)\", f1_RF_rent)\n",
    "print(\"NO RENT (XGB)\", f1_xgb)\n",
    "print(\"W/ RENT (XGB)\", f1_xgb_rent)"
   ]
  }
 ],
 "metadata": {
  "kernelspec": {
   "display_name": "Python 3",
   "language": "python",
   "name": "python3"
  },
  "language_info": {
   "codemirror_mode": {
    "name": "ipython",
    "version": 3
   },
   "file_extension": ".py",
   "mimetype": "text/x-python",
   "name": "python",
   "nbconvert_exporter": "python",
   "pygments_lexer": "ipython3",
   "version": "3.6.7"
  }
 },
 "nbformat": 4,
 "nbformat_minor": 2
}
