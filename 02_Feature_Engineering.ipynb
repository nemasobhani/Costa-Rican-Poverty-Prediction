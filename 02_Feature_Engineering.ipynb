{
 "cells": [
  {
   "cell_type": "markdown",
   "metadata": {},
   "source": [
    "# Costa Rican Household Poverty Level Prediction\n",
    "*From Kaggle ([competition link](https://www.kaggle.com/c/costa-rican-household-poverty-prediction))*\n",
    "  \n",
    "**By Nema Sobhani & David LaCharite**"
   ]
  },
  {
   "cell_type": "markdown",
   "metadata": {},
   "source": [
    "## Summary\n",
    "\n",
    "Income qualification for poor families in Costa Rica to determing need for aid. Data gathered from the *Inter-American Development Bank.*"
   ]
  },
  {
   "cell_type": "markdown",
   "metadata": {},
   "source": [
    "## Imports"
   ]
  },
  {
   "cell_type": "code",
   "execution_count": 8,
   "metadata": {},
   "outputs": [],
   "source": [
    "# General tools\n",
    "import pandas as pd\n",
    "import numpy as np\n",
    "\n",
    "# Functions\n",
    "from functions import *\n",
    "\n",
    "# Visualization\n",
    "import matplotlib.pyplot as plt\n",
    "%matplotlib inline\n",
    "import seaborn as sns\n",
    "from IPython.display import display\n",
    "pd.options.display.max_columns = None\n",
    "\n",
    "# Classification\n",
    "from sklearn.metrics import f1_score, confusion_matrix\n",
    "from sklearn.model_selection import train_test_split\n",
    "from sklearn.linear_model import LinearRegression, LogisticRegression, LogisticRegressionCV\n",
    "from sklearn.linear_model import RidgeCV, LassoCV, ElasticNetCV\n",
    "from sklearn.svm import SVC\n",
    "from sklearn.ensemble import RandomForestRegressor, RandomForestClassifier\n",
    "from sklearn.naive_bayes import MultinomialNB\n",
    "from sklearn.neighbors import NearestNeighbors, KNeighborsClassifier\n",
    "from sklearn.cluster import KMeans\n",
    "import xgboost as xgb\n",
    "from sklearn.feature_selection import SelectFromModel"
   ]
  },
  {
   "cell_type": "markdown",
   "metadata": {},
   "source": [
    "# Feature Engineering"
   ]
  },
  {
   "cell_type": "markdown",
   "metadata": {},
   "source": [
    "## Rent Prediction\n",
    "\n",
    "We decided to use regression models to predict **rent** as an approach to filling missing values to increase our power in predicting **poverty level**.  \n",
    "\n",
    "\n",
    "After testing with tree-style classifiers (Random Forrest, XGBoost) and linear models (Linear Regression, RidgeCV, LassoCV, ElasticNetCV), we found that XGBoost gave the highest scores in predicting rent."
   ]
  },
  {
   "cell_type": "markdown",
   "metadata": {},
   "source": [
    "### DataFrame Setup"
   ]
  },
  {
   "cell_type": "code",
   "execution_count": 9,
   "metadata": {},
   "outputs": [],
   "source": [
    "# Setting up new dataframe (including rent data)\n",
    "df_rent = dataframe_generator(rent=True)"
   ]
  },
  {
   "cell_type": "code",
   "execution_count": 10,
   "metadata": {},
   "outputs": [
    {
     "name": "stdout",
     "output_type": "stream",
     "text": [
      "Missing values of explanatory variables: 0\n",
      "Missing values of target variable (rent): 6860\n"
     ]
    }
   ],
   "source": [
    "print(\"Missing values of explanatory variables:\", df_rent.drop(columns='v2a1').isna().sum().sum())\n",
    "print(\"Missing values of target variable (rent):\", df_rent.v2a1.isna().sum())"
   ]
  },
  {
   "cell_type": "markdown",
   "metadata": {},
   "source": [
    "### Classification Setup"
   ]
  },
  {
   "cell_type": "code",
   "execution_count": 11,
   "metadata": {},
   "outputs": [],
   "source": [
    "# Rent Prediction Function\n",
    "def dataframe_generator_rent():\n",
    "    \n",
    "    #_______________________________\n",
    "    # DATAFRAME SETUP\n",
    "    #_______________________________\n",
    "    \n",
    "    # Setting up new dataframe (including rent data)\n",
    "    df_rent = dataframe_generator(rent=True)\n",
    "    \n",
    "    # Remove missing values for target (rent)\n",
    "    df_rent_predict = df_rent.dropna()\n",
    "\n",
    "    \n",
    "    #_______________________________\n",
    "    # CLASSIFICATION SETUP\n",
    "    #_______________________________\n",
    "    \n",
    "    # Partition explanatory and response variables\n",
    "    X = df_rent_predict.drop(columns='v2a1')\n",
    "    y = df_rent_predict['v2a1']\n",
    "\n",
    "    # Split into training and test data\n",
    "    X_train, X_test, y_train, y_test = train_test_split(X, y, test_size = 0.2, random_state=12345)\n",
    "    \n",
    "    \n",
    "    #_______________________________\n",
    "    # CLASSIFICATION \n",
    "    # (using xgboost because it consistently gave highest score)\n",
    "    #_______________________________\n",
    "    \n",
    "    # Setup classifier\n",
    "    clf_xgb = xgb.XGBClassifier(max_depth=6,n_estimators=100, n_jobs=-1, subsample=.7)\n",
    "    \n",
    "    # Fit model\n",
    "    clf_xgb.fit(X_train, y_train)\n",
    "    \n",
    "    \n",
    "    #_______________________________\n",
    "    # FILL NAN USING PREDICTED VALUES FROM MODEL\n",
    "    #_______________________________\n",
    "    \n",
    "    # Prepare data to fill in predicted values for rent\n",
    "    df_rent_nan = df_rent[df_rent.v2a1.isna()]\n",
    "    \n",
    "    # Predict using model\n",
    "    rent_pred = clf_xgb.predict(df_rent_nan.drop(columns='v2a1'))\n",
    "    \n",
    "    # Fill NaN\n",
    "    df_rent_nan['v2a1'] = pd.DataFrame(rent_pred).values\n",
    "    \n",
    "    # Update full dataframe\n",
    "    df_rent[df_rent.v2a1.isna()] = df_rent_nan\n",
    "    \n",
    "    \n",
    "    return df_rent"
   ]
  },
  {
   "cell_type": "code",
   "execution_count": 12,
   "metadata": {},
   "outputs": [
    {
     "name": "stderr",
     "output_type": "stream",
     "text": [
      "/usr/lib/python3/dist-packages/ipykernel_launcher.py:50: SettingWithCopyWarning: \n",
      "A value is trying to be set on a copy of a slice from a DataFrame.\n",
      "Try using .loc[row_indexer,col_indexer] = value instead\n",
      "\n",
      "See the caveats in the documentation: http://pandas.pydata.org/pandas-docs/stable/indexing.html#indexing-view-versus-copy\n"
     ]
    }
   ],
   "source": [
    "df_rent = dataframe_generator_rent()"
   ]
  },
  {
   "cell_type": "code",
   "execution_count": 13,
   "metadata": {},
   "outputs": [],
   "source": [
    "df_rent.to_pickle(\"df_rent.pkl\")"
   ]
  }
 ],
 "metadata": {
  "kernelspec": {
   "display_name": "Python 3",
   "language": "python",
   "name": "python3"
  },
  "language_info": {
   "codemirror_mode": {
    "name": "ipython",
    "version": 3
   },
   "file_extension": ".py",
   "mimetype": "text/x-python",
   "name": "python",
   "nbconvert_exporter": "python",
   "pygments_lexer": "ipython3",
   "version": "3.6.7"
  }
 },
 "nbformat": 4,
 "nbformat_minor": 2
}
